{
  "cells": [
    {
      "cell_type": "markdown",
      "metadata": {
        "id": "do3kUOLbltjE"
      },
      "source": [
        "# <font color=green> PYTHON FOR DATA SCIENCE - NUMPY\n",
        "---"
      ]
    },
    {
      "cell_type": "markdown",
      "metadata": {
        "id": "umSz9TLxltjG"
      },
      "source": [
        "# <font color=green> 1. INTRODUCTION TO PYTHON\n",
        "---"
      ]
    },
    {
      "cell_type": "markdown",
      "metadata": {
        "id": "gSnX12-sltjH"
      },
      "source": [
        "# 1.1 Introduction"
      ]
    },
    {
      "cell_type": "markdown",
      "metadata": {
        "id": "SRG_k55kltjI"
      },
      "source": [
        "> Python is a high-level programming language that supports multiple programming paradigms. It is an *open source* project and since its inception in 1991, it has become one of the most popular interpreted programming languages.\n",
        ">\n",
        "> In recent years Python has developed an active community of scientific processing and data analysis and has been standing out as one of the most relevant languages when it comes to data science and machine learning, both in the academic environment and in the market."
      ]
    },
    {
      "cell_type": "markdown",
      "metadata": {
        "id": "2oZuKvWkltjJ"
      },
      "source": [
        "# 1.2 Installation and development environment"
      ]
    },
    {
      "cell_type": "markdown",
      "metadata": {
        "id": "v4P8bMEIltjK"
      },
      "source": [
        "### Local Installation\n",
        "\n",
        "### https://www.python.org/downloads/\n",
        "### or\n",
        "### https://www.anaconda.com/distribution/"
      ]
    },
    {
      "cell_type": "markdown",
      "metadata": {
        "id": "FZtu5tjrltjL"
      },
      "source": [
        "### Google Colaboratory\n",
        "\n",
        "### https://colab.research.google.com"
      ]
    },
    {
      "cell_type": "markdown",
      "metadata": {
        "id": "C6vbfq8DltjM"
      },
      "source": [
        "### Checking version"
      ]
    },
    {
      "cell_type": "code",
      "execution_count": null,
      "metadata": {
        "id": "jeuAt-4NltjM",
        "colab": {
          "base_uri": "https://localhost:8080/"
        },
        "outputId": "e228bf76-5988-4f2e-e3c0-9ac99bbbb466"
      },
      "outputs": [
        {
          "output_type": "stream",
          "name": "stdout",
          "text": [
            "Python 3.7.13\n"
          ]
        }
      ],
      "source": [
        "#Other method !python --version\n",
        "!python -V "
      ]
    },
    {
      "cell_type": "markdown",
      "metadata": {
        "id": "v86aEyR2ltjR"
      },
      "source": [
        "# 1.3 Working with Numpy arrays"
      ]
    },
    {
      "cell_type": "code",
      "execution_count": null,
      "metadata": {
        "id": "6FEhElzNltjR"
      },
      "outputs": [],
      "source": [
        "import numpy as np"
      ]
    },
    {
      "cell_type": "code",
      "execution_count": null,
      "metadata": {
        "id": "qjL5wPLKltjU"
      },
      "outputs": [],
      "source": [
        "km = np.loadtxt('cars-km.txt')"
      ]
    },
    {
      "cell_type": "code",
      "execution_count": null,
      "metadata": {
        "id": "OFaxgUptltjW",
        "scrolled": true
      },
      "outputs": [],
      "source": [
        "years = np.loadtxt('cars-years.txt', dtype = int)"
      ]
    },
    {
      "cell_type": "markdown",
      "metadata": {
        "id": "wMdUsAq4ltjs"
      },
      "source": [
        "### Getting the average mileage per year"
      ]
    },
    {
      "cell_type": "code",
      "execution_count": null,
      "metadata": {
        "id": "65IyPzKKltjv",
        "colab": {
          "base_uri": "https://localhost:8080/"
        },
        "outputId": "2889623c-3e72-454f-c92e-08ba002165a1"
      },
      "outputs": [
        {
          "output_type": "stream",
          "name": "stderr",
          "text": [
            "/usr/local/lib/python3.7/dist-packages/ipykernel_launcher.py:1: RuntimeWarning: invalid value encountered in true_divide\n",
            "  \"\"\"Entry point for launching an IPython kernel.\n"
          ]
        }
      ],
      "source": [
        "km_average = km / (years - 2019)"
      ]
    },
    {
      "cell_type": "code",
      "execution_count": null,
      "metadata": {
        "id": "Z0JCmAWvltjy",
        "colab": {
          "base_uri": "https://localhost:8080/"
        },
        "outputId": "8510b908-c243-4173-9f0e-b1487f19d789"
      },
      "outputs": [
        {
          "output_type": "execute_result",
          "data": {
            "text/plain": [
              "array([-2.77562500e+03, -2.04000000e+02, -1.28010345e+03,             nan,\n",
              "       -1.98130769e+03, -1.53257143e+03,             nan, -7.75990000e+03,\n",
              "       -1.10218889e+04, -4.74725000e+03, -7.56411765e+02, -6.71000000e+02,\n",
              "       -4.98738889e+03,             nan, -4.14570000e+03, -3.85356667e+04,\n",
              "       -6.63557143e+03,             nan, -1.23620000e+04, -7.58650000e+03,\n",
              "       -5.95252941e+03,             nan, -3.92316000e+03, -3.67710714e+03,\n",
              "                   nan,             nan, -1.93166667e+03,             nan,\n",
              "       -3.46164706e+03, -3.37075000e+03, -1.37104545e+03, -2.22216667e+03,\n",
              "       -1.77200000e+04, -1.20742857e+03, -1.81368000e+04, -1.83229167e+03,\n",
              "                   nan,             nan, -5.52600000e+02,             nan,\n",
              "       -1.55691667e+04, -2.54762500e+03,             nan, -5.07658824e+03,\n",
              "                   nan, -5.73823529e+02, -4.66300000e+03, -1.33055556e+02,\n",
              "                   nan, -5.02181250e+03, -8.55540000e+03, -3.88430769e+03,\n",
              "       -3.56400000e+03, -7.22669231e+03, -3.92722222e+03, -3.24028000e+03,\n",
              "       -9.95941667e+03,             nan,             nan,             nan,\n",
              "                   nan,             nan, -5.94475000e+04, -6.06362500e+03,\n",
              "       -5.60622222e+03, -4.15865217e+03,             nan, -3.61980000e+03,\n",
              "                   nan, -2.42766667e+03, -9.52080000e+02, -7.08266667e+03,\n",
              "       -2.47250000e+03, -2.05623077e+03, -7.38816667e+03, -4.72944000e+03,\n",
              "       -1.03461818e+04, -5.54545455e+01,             nan,             nan,\n",
              "       -6.44350000e+02, -6.63391667e+03, -3.49707692e+03, -1.78054167e+03,\n",
              "                   nan,             nan, -3.92380000e+04, -1.42356250e+04,\n",
              "                   nan, -1.79476471e+03, -1.24778333e+04, -5.98800000e+04,\n",
              "       -2.78533333e+03, -5.84063636e+03, -8.86610000e+04, -2.83687500e+02,\n",
              "       -6.88225000e+03, -2.21433333e+03, -1.02223333e+04,             nan,\n",
              "       -6.28523077e+03, -3.92450000e+03,             nan, -2.28192500e+04,\n",
              "       -2.65440000e+04, -2.62980000e+04, -1.75937037e+03, -4.94755556e+03,\n",
              "       -1.10900000e+03, -4.60683333e+03, -3.53987500e+03, -3.47140000e+03,\n",
              "       -6.72863636e+03, -2.53266667e+03,             nan, -5.41050000e+03,\n",
              "                   nan,             nan, -7.38076923e+02, -2.47630000e+04,\n",
              "       -4.36575000e+03, -8.56750000e+03, -4.80025000e+04, -1.50661905e+03,\n",
              "                   nan, -4.00935000e+03,             nan, -5.82120000e+03,\n",
              "       -3.85450000e+03, -1.28068000e+03,             nan, -2.27776000e+03,\n",
              "                   nan, -2.16297500e+04, -2.09608696e+02, -4.59204545e+03,\n",
              "       -1.18096154e+03,             nan, -1.20574074e+03, -4.30787500e+03,\n",
              "                   nan, -1.90651724e+03,             nan,             nan,\n",
              "       -4.14035714e+03, -2.29093103e+03, -1.38285714e+04, -1.18641667e+03,\n",
              "       -3.31600000e+03, -5.94973684e+03, -6.76129412e+03, -1.37956522e+02,\n",
              "       -3.63526087e+03, -6.33900000e+03, -3.40900000e+03, -3.85666667e+02,\n",
              "       -4.37833333e+02, -5.20340000e+03,             nan,             nan,\n",
              "       -4.68100000e+03, -4.91822727e+03, -3.64061905e+03, -3.84553333e+03,\n",
              "       -4.20043478e+03, -2.72502500e+04, -8.73733333e+03, -3.28364286e+03,\n",
              "       -2.45910000e+03, -2.07945833e+03, -1.48538462e+03, -4.06640000e+03,\n",
              "       -1.23190000e+04, -5.11390476e+03, -9.14600000e+03,             nan,\n",
              "       -1.79240000e+04,             nan, -4.03272414e+03, -2.04760000e+03,\n",
              "       -1.82082759e+03, -6.80692308e+02, -5.39552941e+03, -1.14485714e+03,\n",
              "       -2.77355556e+03,             nan,             nan, -3.72778571e+03,\n",
              "       -9.28433333e+03,             nan, -6.77600000e+03,             nan,\n",
              "       -8.39744444e+03, -1.34636000e+03, -5.79672222e+03, -5.10200000e+03,\n",
              "       -8.24565217e+02, -3.35234615e+03, -2.55846154e+02, -3.09655556e+03,\n",
              "                   nan,             nan,             nan, -5.36000000e+03,\n",
              "                   nan, -2.28926667e+04, -1.43394000e+04,             nan,\n",
              "       -8.69575000e+03, -8.44300000e+03, -3.70117391e+03, -8.00352941e+02,\n",
              "       -2.54621429e+03, -3.96366667e+03, -7.02300000e+02, -2.94242857e+03,\n",
              "                   nan, -4.36818182e+03, -3.58275862e+03, -2.43411111e+03,\n",
              "       -4.10633333e+03,             nan, -5.54830000e+04, -1.99837500e+03,\n",
              "       -3.81207143e+03, -8.39750000e+02, -2.75169231e+03, -3.82142857e+00,\n",
              "       -2.99785714e+02, -1.88627273e+03, -6.10536842e+03, -8.40483333e+03,\n",
              "       -5.19038462e+03, -2.12425000e+03, -4.01818182e+02,             nan,\n",
              "       -2.54508696e+03,             nan,             nan, -2.24032000e+04,\n",
              "       -6.12266667e+03, -1.02533636e+04,             nan,             nan,\n",
              "       -1.32757143e+03,             nan, -2.39491304e+03, -6.09950000e+03,\n",
              "                   nan, -9.96500000e+03, -7.11533333e+03, -3.92432000e+03,\n",
              "       -5.94000000e+03, -5.50100000e+03, -1.07075000e+03, -3.09629412e+03,\n",
              "       -3.34130435e+02, -1.85881481e+03])"
            ]
          },
          "metadata": {},
          "execution_count": 41
        }
      ],
      "source": [
        "km_average"
      ]
    },
    {
      "cell_type": "code",
      "source": [
        "type(km_average)"
      ],
      "metadata": {
        "colab": {
          "base_uri": "https://localhost:8080/"
        },
        "id": "kT9c2bhj1X8c",
        "outputId": "9499cd45-49ca-42da-c3bd-d5608539b2bb"
      },
      "execution_count": null,
      "outputs": [
        {
          "output_type": "execute_result",
          "data": {
            "text/plain": [
              "numpy.ndarray"
            ]
          },
          "metadata": {},
          "execution_count": 42
        }
      ]
    },
    {
      "cell_type": "markdown",
      "metadata": {
        "id": "KdG5NmmGltj0"
      },
      "source": [
        "# <font color=green> 2. BASIC CHARACTERISTICS OF THE LANGUAGE\n",
        "---"
      ]
    },
    {
      "cell_type": "markdown",
      "metadata": {
        "id": "X1K5kisFltj1"
      },
      "source": [
        "# 2.1 Math operations\n",
        "\n",
        "### Arithmetic operators: $+$, $-$, $*$, $/$, $**$, $\\%$, $//$"
      ]
    },
    {
      "cell_type": "markdown",
      "metadata": {
        "id": "8YCDVpbYltj1"
      },
      "source": [
        "### Addition ($+$)"
      ]
    },
    {
      "cell_type": "code",
      "execution_count": null,
      "metadata": {
        "id": "h6DsMqhaltj2",
        "colab": {
          "base_uri": "https://localhost:8080/"
        },
        "outputId": "537019c7-4655-4ede-935d-794c9ac6bed1"
      },
      "outputs": [
        {
          "output_type": "execute_result",
          "data": {
            "text/plain": [
              "4"
            ]
          },
          "metadata": {},
          "execution_count": 1
        }
      ],
      "source": [
        "2 + 2"
      ]
    },
    {
      "cell_type": "markdown",
      "metadata": {
        "id": "WeJG-WJBltj8"
      },
      "source": [
        "### Subtraction ($-$)"
      ]
    },
    {
      "cell_type": "code",
      "execution_count": null,
      "metadata": {
        "id": "zoB7_OcRltj9",
        "colab": {
          "base_uri": "https://localhost:8080/"
        },
        "outputId": "2832d2e9-5150-4c40-f39b-ef962d78a5d9"
      },
      "outputs": [
        {
          "output_type": "execute_result",
          "data": {
            "text/plain": [
              "0"
            ]
          },
          "metadata": {},
          "execution_count": 2
        }
      ],
      "source": [
        "2-2"
      ]
    },
    {
      "cell_type": "markdown",
      "metadata": {
        "id": "zuv8N7fjltkC"
      },
      "source": [
        "### Multiplication ($*$)"
      ]
    },
    {
      "cell_type": "code",
      "execution_count": null,
      "metadata": {
        "id": "TAWG7xSTltkD",
        "colab": {
          "base_uri": "https://localhost:8080/"
        },
        "outputId": "4b00919e-b8f7-4d92-ae89-829d8cbf22fb"
      },
      "outputs": [
        {
          "output_type": "execute_result",
          "data": {
            "text/plain": [
              "9"
            ]
          },
          "metadata": {},
          "execution_count": 3
        }
      ],
      "source": [
        "3 * 3"
      ]
    },
    {
      "cell_type": "markdown",
      "metadata": {
        "id": "dMp7BsnwltkF"
      },
      "source": [
        "### Division ($/$) e ($//$)\n",
        "The division operation always returns a floating point number"
      ]
    },
    {
      "cell_type": "code",
      "execution_count": null,
      "metadata": {
        "id": "DD5kx3H3ltkF",
        "colab": {
          "base_uri": "https://localhost:8080/"
        },
        "outputId": "f10a3469-53fb-4031-8686-04571df7cc0e"
      },
      "outputs": [
        {
          "output_type": "execute_result",
          "data": {
            "text/plain": [
              "3.3333333333333335"
            ]
          },
          "metadata": {},
          "execution_count": 5
        }
      ],
      "source": [
        "10 / 3"
      ]
    },
    {
      "cell_type": "code",
      "execution_count": null,
      "metadata": {
        "id": "ji0CYH3UltkI",
        "colab": {
          "base_uri": "https://localhost:8080/"
        },
        "outputId": "ae7fef48-abf6-4d9b-ccaf-615abe146726"
      },
      "outputs": [
        {
          "output_type": "execute_result",
          "data": {
            "text/plain": [
              "3"
            ]
          },
          "metadata": {},
          "execution_count": 6
        }
      ],
      "source": [
        "10 // 3"
      ]
    },
    {
      "cell_type": "markdown",
      "metadata": {
        "id": "3DSO7TcvltkL"
      },
      "source": [
        "### Exponentiation ($**$)"
      ]
    },
    {
      "cell_type": "code",
      "execution_count": null,
      "metadata": {
        "id": "tBKvl2TWltkM",
        "colab": {
          "base_uri": "https://localhost:8080/"
        },
        "outputId": "57694c82-8785-483c-9e5e-86f31c10c629"
      },
      "outputs": [
        {
          "output_type": "execute_result",
          "data": {
            "text/plain": [
              "8"
            ]
          },
          "metadata": {},
          "execution_count": 9
        }
      ],
      "source": [
        " 2 ** 3"
      ]
    },
    {
      "cell_type": "markdown",
      "metadata": {
        "id": "MhD56p-9ltkQ"
      },
      "source": [
        "### Rest of Division ($\\%$)"
      ]
    },
    {
      "cell_type": "code",
      "execution_count": null,
      "metadata": {
        "id": "bfa7phO6ltkR",
        "colab": {
          "base_uri": "https://localhost:8080/"
        },
        "outputId": "47c9f29c-d1e8-4a91-d23f-854e0ae386be"
      },
      "outputs": [
        {
          "output_type": "execute_result",
          "data": {
            "text/plain": [
              "1"
            ]
          },
          "metadata": {},
          "execution_count": 10
        }
      ],
      "source": [
        "10 % 3"
      ]
    },
    {
      "cell_type": "code",
      "execution_count": null,
      "metadata": {
        "id": "khIEx6olltkT",
        "colab": {
          "base_uri": "https://localhost:8080/"
        },
        "outputId": "3fce5097-d329-41e6-8767-a9df5b5238cd"
      },
      "outputs": [
        {
          "output_type": "execute_result",
          "data": {
            "text/plain": [
              "0"
            ]
          },
          "metadata": {},
          "execution_count": 11
        }
      ],
      "source": [
        "10 % 2"
      ]
    },
    {
      "cell_type": "markdown",
      "metadata": {
        "id": "8pVVp5fsltkV"
      },
      "source": [
        "### Mathematical expressions"
      ]
    },
    {
      "cell_type": "code",
      "execution_count": null,
      "metadata": {
        "id": "jlQTk4gNltkW",
        "colab": {
          "base_uri": "https://localhost:8080/"
        },
        "outputId": "42f76ec9-92be-449d-e108-8c80b55d693d"
      },
      "outputs": [
        {
          "output_type": "execute_result",
          "data": {
            "text/plain": [
              "16"
            ]
          },
          "metadata": {},
          "execution_count": 12
        }
      ],
      "source": [
        "5 * 2 + 3 * 2"
      ]
    },
    {
      "cell_type": "code",
      "execution_count": null,
      "metadata": {
        "id": "kkCb6Crgltka",
        "colab": {
          "base_uri": "https://localhost:8080/"
        },
        "outputId": "84b3b7a1-ada0-48ae-e0d3-2a3e83e88f7b"
      },
      "outputs": [
        {
          "output_type": "execute_result",
          "data": {
            "text/plain": [
              "16"
            ]
          },
          "metadata": {},
          "execution_count": 13
        }
      ],
      "source": [
        "(5 * 2) + (3 * 2)"
      ]
    },
    {
      "cell_type": "code",
      "execution_count": null,
      "metadata": {
        "id": "UD12tlgAltkd",
        "colab": {
          "base_uri": "https://localhost:8080/"
        },
        "outputId": "05314ad1-f003-435b-c4c1-d50e0e5010d6"
      },
      "outputs": [
        {
          "output_type": "execute_result",
          "data": {
            "text/plain": [
              "50"
            ]
          },
          "metadata": {},
          "execution_count": 14
        }
      ],
      "source": [
        "5 * (2 + 3) * 2"
      ]
    },
    {
      "cell_type": "markdown",
      "source": [
        "### Demystifying expressions"
      ],
      "metadata": {
        "id": "uzheTtxDnoZl"
      }
    },
    {
      "cell_type": "code",
      "source": [
        "10 % 2 + 3 // 10"
      ],
      "metadata": {
        "colab": {
          "base_uri": "https://localhost:8080/"
        },
        "id": "w3_Jw4E5nyRK",
        "outputId": "40aff6d4-2c64-42b9-fbbc-f4dde585313c"
      },
      "execution_count": null,
      "outputs": [
        {
          "output_type": "execute_result",
          "data": {
            "text/plain": [
              "0"
            ]
          },
          "metadata": {},
          "execution_count": 23
        }
      ]
    },
    {
      "cell_type": "code",
      "source": [
        "5 * (2 + 3) / 2"
      ],
      "metadata": {
        "colab": {
          "base_uri": "https://localhost:8080/"
        },
        "id": "EDayhnKkn8ZS",
        "outputId": "50b25deb-2eca-4e7c-9066-374d491ebb16"
      },
      "execution_count": null,
      "outputs": [
        {
          "output_type": "execute_result",
          "data": {
            "text/plain": [
              "12.5"
            ]
          },
          "metadata": {},
          "execution_count": 24
        }
      ]
    },
    {
      "cell_type": "code",
      "source": [
        "2 ** 3 * 4"
      ],
      "metadata": {
        "colab": {
          "base_uri": "https://localhost:8080/"
        },
        "id": "rsfyZVVNoBDD",
        "outputId": "715c7f06-2d67-4042-c32c-abe6e4c72e81"
      },
      "execution_count": null,
      "outputs": [
        {
          "output_type": "execute_result",
          "data": {
            "text/plain": [
              "32"
            ]
          },
          "metadata": {},
          "execution_count": 25
        }
      ]
    },
    {
      "cell_type": "markdown",
      "metadata": {
        "id": "a5tKQ5Beltkf"
      },
      "source": [
        "### The variable _\n",
        "\n",
        "In interactive mode, the last printed result is assigned to the variable _"
      ]
    },
    {
      "cell_type": "code",
      "execution_count": null,
      "metadata": {
        "id": "VkHEx516ltkg",
        "colab": {
          "base_uri": "https://localhost:8080/"
        },
        "outputId": "227e58b1-d820-4d7e-9e6d-adda1711eea6"
      },
      "outputs": [
        {
          "output_type": "execute_result",
          "data": {
            "text/plain": [
              "10"
            ]
          },
          "metadata": {},
          "execution_count": 20
        }
      ],
      "source": [
        "5 * 2"
      ]
    },
    {
      "cell_type": "code",
      "execution_count": null,
      "metadata": {
        "id": "dFShsobXltki",
        "colab": {
          "base_uri": "https://localhost:8080/"
        },
        "outputId": "45160daf-b8b4-42f5-b68b-5c8793c621cb"
      },
      "outputs": [
        {
          "output_type": "execute_result",
          "data": {
            "text/plain": [
              "16"
            ]
          },
          "metadata": {},
          "execution_count": 21
        }
      ],
      "source": [
        "_ + 3 * 2"
      ]
    },
    {
      "cell_type": "code",
      "execution_count": null,
      "metadata": {
        "id": "hJIpR3KUltkk",
        "colab": {
          "base_uri": "https://localhost:8080/"
        },
        "outputId": "65aa26ea-0930-4264-a11d-4a24d45ab2b4"
      },
      "outputs": [
        {
          "output_type": "execute_result",
          "data": {
            "text/plain": [
              "2.0"
            ]
          },
          "metadata": {},
          "execution_count": 22
        }
      ],
      "source": [
        "_ / 8"
      ]
    },
    {
      "cell_type": "markdown",
      "metadata": {
        "id": "MUrQAf6Mltkm"
      },
      "source": [
        "# 2.2 Variables "
      ]
    },
    {
      "cell_type": "markdown",
      "metadata": {
        "id": "qaVLKIeultkn"
      },
      "source": [
        "### Variable names\n",
        "\n",
        "- Variable names can start with letters (a - z, A - Z) or the character *underscore* (_):\n",
        "\n",
        "    > Height\n",
        "    >\n",
        "    > _weight\n",
        "    \n",
        "- The rest of the name can contain letters, numbers and the character \"_\":\n",
        "\n",
        "    > name_of_variable\n",
        "    >\n",
        "    > _value\n",
        "    >\n",
        "    > day_11_28_\n",
        "    \n",
        "\n",
        "- The names are *case sensitive*:\n",
        "\n",
        "    > Name_Of_Variable $\\ne$ name_of_variable $\\ne$ NAME_OF_VARIABLE\n",
        "    \n",
        "### <font color=red>Note:\n",
        "- There are some reserved words in the language that cannot be used as variable names.:\n",
        "\n",
        "| |List of reserved words in Python| |\n",
        "|:-------------:|:------------:|:-------------:|\n",
        "| and           | as           | not           | \n",
        "| assert        | finally      | or            | \n",
        "| break         | for          | pass          | \n",
        "| class         | from         | nonlocal      | \n",
        "| continue      | global       | raise         | \n",
        "| def           | if           | return        | \n",
        "| del           | import       | try           | \n",
        "| elif          | in           | while         | \n",
        "| else          | is           | with          | \n",
        "| except        | lambda       | yield         | \n",
        "| False         | True         | None          | "
      ]
    },
    {
      "cell_type": "markdown",
      "metadata": {
        "id": "3frWjfAtltkn"
      },
      "source": [
        "### Declaration of variables\n",
        "\n",
        "### Assignment operators: $=$, $+=$, $-=$, $*=$, $/=$, $**=$, $\\%=$, $//=$"
      ]
    },
    {
      "cell_type": "code",
      "execution_count": null,
      "metadata": {
        "id": "7VIcrXNHltko",
        "colab": {
          "base_uri": "https://localhost:8080/"
        },
        "outputId": "f6d32767-f932-467e-e884-aec9146f06b6"
      },
      "outputs": [
        {
          "output_type": "execute_result",
          "data": {
            "text/plain": [
              "2"
            ]
          },
          "metadata": {},
          "execution_count": 1
        }
      ],
      "source": [
        " a = 2\n",
        " a"
      ]
    },
    {
      "cell_type": "code",
      "execution_count": null,
      "metadata": {
        "id": "atVoqp6bltkq",
        "colab": {
          "base_uri": "https://localhost:8080/"
        },
        "outputId": "2affeb4c-c517-432b-ed14-21573fcc804d"
      },
      "outputs": [
        {
          "output_type": "execute_result",
          "data": {
            "text/plain": [
              "5"
            ]
          },
          "metadata": {},
          "execution_count": 2
        }
      ],
      "source": [
        "a += 3\n",
        "a"
      ]
    },
    {
      "cell_type": "code",
      "execution_count": null,
      "metadata": {
        "id": "_t82qXrOltkt",
        "colab": {
          "base_uri": "https://localhost:8080/"
        },
        "outputId": "bc723272-237f-4a42-e827-afd22f392d45"
      },
      "outputs": [
        {
          "output_type": "execute_result",
          "data": {
            "text/plain": [
              "2"
            ]
          },
          "metadata": {},
          "execution_count": 3
        }
      ],
      "source": [
        "a -= 3\n",
        "a"
      ]
    },
    {
      "cell_type": "code",
      "execution_count": null,
      "metadata": {
        "id": "1anwuDHiltkv",
        "colab": {
          "base_uri": "https://localhost:8080/"
        },
        "outputId": "1d760ff6-5c59-424e-84cc-e2a53bc4d400"
      },
      "outputs": [
        {
          "output_type": "execute_result",
          "data": {
            "text/plain": [
              "6"
            ]
          },
          "metadata": {},
          "execution_count": 4
        }
      ],
      "source": [
        "a *= 3\n",
        "a"
      ]
    },
    {
      "cell_type": "code",
      "source": [
        "a /= 4\n",
        "a"
      ],
      "metadata": {
        "colab": {
          "base_uri": "https://localhost:8080/"
        },
        "id": "PDGn8Xhxr05d",
        "outputId": "79e6b31f-b2f0-40a5-baad-10b1673bd93f"
      },
      "execution_count": null,
      "outputs": [
        {
          "output_type": "execute_result",
          "data": {
            "text/plain": [
              "1.5"
            ]
          },
          "metadata": {},
          "execution_count": 5
        }
      ]
    },
    {
      "cell_type": "code",
      "source": [
        "a **= 3\n",
        "a"
      ],
      "metadata": {
        "colab": {
          "base_uri": "https://localhost:8080/"
        },
        "id": "h4Fe6RyQsLWI",
        "outputId": "52b2faa0-345a-46f2-c492-692a1b110f32"
      },
      "execution_count": null,
      "outputs": [
        {
          "output_type": "execute_result",
          "data": {
            "text/plain": [
              "3.375"
            ]
          },
          "metadata": {},
          "execution_count": 6
        }
      ]
    },
    {
      "cell_type": "code",
      "source": [
        "a %= 2\n",
        "a"
      ],
      "metadata": {
        "colab": {
          "base_uri": "https://localhost:8080/"
        },
        "id": "ceKv_yR5tDE9",
        "outputId": "640dc8c4-18bf-4068-ecef-2a9464a75b0b"
      },
      "execution_count": null,
      "outputs": [
        {
          "output_type": "execute_result",
          "data": {
            "text/plain": [
              "1.375"
            ]
          },
          "metadata": {},
          "execution_count": 7
        }
      ]
    },
    {
      "cell_type": "code",
      "source": [
        "a //= 1\n",
        "a"
      ],
      "metadata": {
        "colab": {
          "base_uri": "https://localhost:8080/"
        },
        "id": "KxOlbdOzsBUZ",
        "outputId": "98b36e2d-90b6-453c-ca72-feb459c96177"
      },
      "execution_count": null,
      "outputs": [
        {
          "output_type": "execute_result",
          "data": {
            "text/plain": [
              "1.0"
            ]
          },
          "metadata": {},
          "execution_count": 8
        }
      ]
    },
    {
      "cell_type": "markdown",
      "metadata": {
        "id": "gCBkfq_8ltky"
      },
      "source": [
        "# $$km_{average} = \\frac {km_{total}}{(Year_{current} - Year_{manufacturing})}$$"
      ]
    },
    {
      "cell_type": "markdown",
      "metadata": {
        "id": "zswWS4hNltky"
      },
      "source": [
        "### Operations with variables"
      ]
    },
    {
      "cell_type": "code",
      "execution_count": null,
      "metadata": {
        "id": "HxxU0rnfltkz"
      },
      "outputs": [],
      "source": [
        "year_current = 2019\n",
        "year_manufacturing = 2003\n",
        "km_total = 44410.0"
      ]
    },
    {
      "cell_type": "code",
      "execution_count": null,
      "metadata": {
        "id": "_2Qhb32jltk1"
      },
      "outputs": [],
      "source": [
        "km_average = km_total / (year_current - year_manufacturing)"
      ]
    },
    {
      "cell_type": "code",
      "execution_count": null,
      "metadata": {
        "id": "nCJzA7dyltk3",
        "colab": {
          "base_uri": "https://localhost:8080/"
        },
        "outputId": "6c15d6d8-b9d5-456d-a3b4-e3545225e8fe"
      },
      "outputs": [
        {
          "output_type": "execute_result",
          "data": {
            "text/plain": [
              "2775.625"
            ]
          },
          "metadata": {},
          "execution_count": 12
        }
      ],
      "source": [
        "km_average"
      ]
    },
    {
      "cell_type": "markdown",
      "metadata": {
        "id": "fDBrHWSBltlB"
      },
      "source": [
        "### Conclusion:\n",
        "```\n",
        "\"value = value + 1\" it's equivalent to \"value += 1\"\n",
        "```"
      ]
    },
    {
      "cell_type": "markdown",
      "metadata": {
        "id": "uVAyJbmAltlC"
      },
      "source": [
        "### Multiple declaration"
      ]
    },
    {
      "cell_type": "code",
      "execution_count": null,
      "metadata": {
        "id": "oMWEzjPOltlC"
      },
      "outputs": [],
      "source": [
        "year_current, year_manufacturing, km_total, car = 2022, 2015, 13710.76, \"Cross Fox\""
      ]
    },
    {
      "cell_type": "code",
      "execution_count": null,
      "metadata": {
        "id": "9ZKlHkLultlE",
        "colab": {
          "base_uri": "https://localhost:8080/"
        },
        "outputId": "a720e13b-525c-4eb8-bbf0-bec38467efa2"
      },
      "outputs": [
        {
          "output_type": "execute_result",
          "data": {
            "text/plain": [
              "2022"
            ]
          },
          "metadata": {},
          "execution_count": 15
        }
      ],
      "source": [
        "year_current"
      ]
    },
    {
      "cell_type": "code",
      "execution_count": null,
      "metadata": {
        "id": "-mcMuW9nltlG",
        "colab": {
          "base_uri": "https://localhost:8080/"
        },
        "outputId": "64dd97ac-69d5-4c87-caac-477ab5ef015f"
      },
      "outputs": [
        {
          "output_type": "execute_result",
          "data": {
            "text/plain": [
              "2015"
            ]
          },
          "metadata": {},
          "execution_count": 16
        }
      ],
      "source": [
        "year_manufacturing"
      ]
    },
    {
      "cell_type": "code",
      "execution_count": null,
      "metadata": {
        "id": "WFFavLIvltlL",
        "colab": {
          "base_uri": "https://localhost:8080/"
        },
        "outputId": "49e22d85-abec-4bc9-f506-2c9336f2c49f"
      },
      "outputs": [
        {
          "output_type": "execute_result",
          "data": {
            "text/plain": [
              "13710.76"
            ]
          },
          "metadata": {},
          "execution_count": 17
        }
      ],
      "source": [
        "km_total"
      ]
    },
    {
      "cell_type": "code",
      "execution_count": null,
      "metadata": {
        "id": "iFawOJe6ltlO",
        "colab": {
          "base_uri": "https://localhost:8080/",
          "height": 35
        },
        "outputId": "a9f227a2-790e-473c-a4c9-13996c5aa71f"
      },
      "outputs": [
        {
          "output_type": "execute_result",
          "data": {
            "text/plain": [
              "'Cross Fox'"
            ],
            "application/vnd.google.colaboratory.intrinsic+json": {
              "type": "string"
            }
          },
          "metadata": {},
          "execution_count": 18
        }
      ],
      "source": [
        "car"
      ]
    },
    {
      "cell_type": "markdown",
      "metadata": {
        "id": "uoRXMeRDltlQ"
      },
      "source": [
        "# 2.3 Data types"
      ]
    },
    {
      "cell_type": "markdown",
      "metadata": {
        "id": "sW_G6EjWltlQ"
      },
      "source": [
        "Data types specify how numbers and characters will be stored and manipulated within a program. Python's basic data types are:\n",
        "\n",
        "1. **Number**\n",
        "    1. ***int*** - Integers\n",
        "    - ***float*** - Floating point\n",
        "- **Boolean** - Assumes True or False values. Essential when we start working with conditional statements\n",
        "- ***String*** - A sequence of one or more characters that can include letters, numbers, and other types of characters. Represents a text.\n",
        "- **None** - Represents the absence of a value"
      ]
    },
    {
      "cell_type": "markdown",
      "metadata": {
        "id": "-HRRxQOtltlQ"
      },
      "source": [
        "### Number"
      ]
    },
    {
      "cell_type": "code",
      "execution_count": null,
      "metadata": {
        "id": "5PKIcIuUltlR"
      },
      "outputs": [],
      "source": [
        "current_year = 2019"
      ]
    },
    {
      "cell_type": "code",
      "execution_count": null,
      "metadata": {
        "id": "G32Yd1g0ltlT",
        "colab": {
          "base_uri": "https://localhost:8080/"
        },
        "outputId": "7d01b33b-1436-4778-b75a-c1585c98e829"
      },
      "outputs": [
        {
          "output_type": "execute_result",
          "data": {
            "text/plain": [
              "int"
            ]
          },
          "metadata": {},
          "execution_count": 21
        }
      ],
      "source": [
        "type(current_year)"
      ]
    },
    {
      "cell_type": "code",
      "execution_count": null,
      "metadata": {
        "id": "b9_v__dEltlV"
      },
      "outputs": [],
      "source": [
        "km_total = 44.09"
      ]
    },
    {
      "cell_type": "code",
      "execution_count": null,
      "metadata": {
        "id": "A0nySb3LltlZ",
        "colab": {
          "base_uri": "https://localhost:8080/"
        },
        "outputId": "d8c7c0f2-0d58-4ef4-b10b-27c1358a6d17"
      },
      "outputs": [
        {
          "output_type": "execute_result",
          "data": {
            "text/plain": [
              "float"
            ]
          },
          "metadata": {},
          "execution_count": 22
        }
      ],
      "source": [
        "type(km_total)"
      ]
    },
    {
      "cell_type": "markdown",
      "metadata": {
        "id": "7X9iheAnltld"
      },
      "source": [
        "### Boolean"
      ]
    },
    {
      "cell_type": "code",
      "execution_count": null,
      "metadata": {
        "id": "liUYdchPltle"
      },
      "outputs": [],
      "source": [
        "brand_new_car = True"
      ]
    },
    {
      "cell_type": "code",
      "execution_count": null,
      "metadata": {
        "id": "oZIQAghaltlh",
        "colab": {
          "base_uri": "https://localhost:8080/"
        },
        "outputId": "5b83181c-cf05-4a36-ff7d-c40f5827633c"
      },
      "outputs": [
        {
          "output_type": "execute_result",
          "data": {
            "text/plain": [
              "bool"
            ]
          },
          "metadata": {},
          "execution_count": 24
        }
      ],
      "source": [
        "type(brand_new_car)"
      ]
    },
    {
      "cell_type": "code",
      "execution_count": null,
      "metadata": {
        "id": "XCAYApe3ltlj"
      },
      "outputs": [],
      "source": [
        "brand_new_car = False"
      ]
    },
    {
      "cell_type": "code",
      "execution_count": null,
      "metadata": {
        "id": "mJ0nGEV7ltll",
        "colab": {
          "base_uri": "https://localhost:8080/"
        },
        "outputId": "fcaa9ce6-f64f-4965-c57c-b4a9b8b0e57e"
      },
      "outputs": [
        {
          "output_type": "execute_result",
          "data": {
            "text/plain": [
              "bool"
            ]
          },
          "metadata": {},
          "execution_count": 27
        }
      ],
      "source": [
        "type(brand_new_car)"
      ]
    },
    {
      "cell_type": "markdown",
      "metadata": {
        "id": "Ipjq4eiSltlp"
      },
      "source": [
        "### String"
      ]
    },
    {
      "cell_type": "code",
      "execution_count": null,
      "metadata": {
        "id": "OeW_GQzOltlr",
        "colab": {
          "base_uri": "https://localhost:8080/",
          "height": 35
        },
        "outputId": "9cbcaada-7f38-4f25-9ff2-c2cb2dc187dc"
      },
      "outputs": [
        {
          "output_type": "execute_result",
          "data": {
            "text/plain": [
              "'New Jetta'"
            ],
            "application/vnd.google.colaboratory.intrinsic+json": {
              "type": "string"
            }
          },
          "metadata": {},
          "execution_count": 29
        }
      ],
      "source": [
        "name = 'New Jetta'\n",
        "name"
      ]
    },
    {
      "cell_type": "code",
      "execution_count": null,
      "metadata": {
        "id": "xF1Bi-Rkltlu",
        "colab": {
          "base_uri": "https://localhost:8080/",
          "height": 35
        },
        "outputId": "3a0afc2d-35ac-4537-ec31-12554a636d0d"
      },
      "outputs": [
        {
          "output_type": "execute_result",
          "data": {
            "text/plain": [
              "'New Jetta'"
            ],
            "application/vnd.google.colaboratory.intrinsic+json": {
              "type": "string"
            }
          },
          "metadata": {},
          "execution_count": 31
        }
      ],
      "source": [
        "name = \"New Jetta\"\n",
        "name"
      ]
    },
    {
      "cell_type": "code",
      "execution_count": null,
      "metadata": {
        "id": "QlobSFUtltlw",
        "colab": {
          "base_uri": "https://localhost:8080/",
          "height": 35
        },
        "outputId": "36d38e60-1e35-42d7-8c7e-2273d0051c31"
      },
      "outputs": [
        {
          "output_type": "execute_result",
          "data": {
            "text/plain": [
              "\"New 'Jetta'\""
            ],
            "application/vnd.google.colaboratory.intrinsic+json": {
              "type": "string"
            }
          },
          "metadata": {},
          "execution_count": 32
        }
      ],
      "source": [
        "name = \"New 'Jetta'\"\n",
        "name"
      ]
    },
    {
      "cell_type": "code",
      "execution_count": null,
      "metadata": {
        "id": "8LBWzzfbltly",
        "colab": {
          "base_uri": "https://localhost:8080/",
          "height": 35
        },
        "outputId": "3899454c-a180-4cd9-aed3-49bd79d120dc"
      },
      "outputs": [
        {
          "output_type": "execute_result",
          "data": {
            "text/plain": [
              "'New \"Jetta\"'"
            ],
            "application/vnd.google.colaboratory.intrinsic+json": {
              "type": "string"
            }
          },
          "metadata": {},
          "execution_count": 34
        }
      ],
      "source": [
        "name = 'New \"Jetta\"'\n",
        "name"
      ]
    },
    {
      "cell_type": "code",
      "execution_count": null,
      "metadata": {
        "id": "ycEhoxtUltl0",
        "colab": {
          "base_uri": "https://localhost:8080/",
          "height": 35
        },
        "outputId": "30a7c2e9-0798-40a6-e936-00ec9d895a28"
      },
      "outputs": [
        {
          "output_type": "execute_result",
          "data": {
            "text/plain": [
              "'name\\n  km\\n'"
            ],
            "application/vnd.google.colaboratory.intrinsic+json": {
              "type": "string"
            }
          },
          "metadata": {},
          "execution_count": 39
        }
      ],
      "source": [
        "name = '''name\n",
        "  km\n",
        "'''\n",
        "car"
      ]
    },
    {
      "cell_type": "code",
      "execution_count": null,
      "metadata": {
        "id": "bjZQzpuUltl2",
        "colab": {
          "base_uri": "https://localhost:8080/"
        },
        "outputId": "4f0ee37c-c70e-4172-b292-4d3d41bfb97b"
      },
      "outputs": [
        {
          "output_type": "execute_result",
          "data": {
            "text/plain": [
              "str"
            ]
          },
          "metadata": {},
          "execution_count": 38
        }
      ],
      "source": [
        "type(name)"
      ]
    },
    {
      "cell_type": "markdown",
      "metadata": {
        "id": "w6bJU-R9ltl5"
      },
      "source": [
        "### None"
      ]
    },
    {
      "cell_type": "code",
      "execution_count": null,
      "metadata": {
        "id": "RgeVhXGxltl5"
      },
      "outputs": [],
      "source": [
        "car = None"
      ]
    },
    {
      "cell_type": "code",
      "execution_count": null,
      "metadata": {
        "id": "MJI6PKS6ltl8",
        "colab": {
          "base_uri": "https://localhost:8080/"
        },
        "outputId": "d5691d5d-c1d0-4b50-d14c-7d1f4d93a966"
      },
      "outputs": [
        {
          "output_type": "execute_result",
          "data": {
            "text/plain": [
              "NoneType"
            ]
          },
          "metadata": {},
          "execution_count": 41
        }
      ],
      "source": [
        "type(car)"
      ]
    },
    {
      "cell_type": "markdown",
      "metadata": {
        "id": "_ilupwV-ltl-"
      },
      "source": [
        "# 2.4 Type conversion"
      ]
    },
    {
      "cell_type": "code",
      "execution_count": null,
      "metadata": {
        "id": "D5hq5Qbvltl-"
      },
      "outputs": [],
      "source": [
        "a = 10\n",
        "b = 20\n",
        "c = \"Python is \"\n",
        "d = 'NICE'"
      ]
    },
    {
      "cell_type": "code",
      "execution_count": null,
      "metadata": {
        "id": "aJ0vi8_Nltl_",
        "colab": {
          "base_uri": "https://localhost:8080/"
        },
        "outputId": "51c57d39-933f-4825-cc6a-bac2b2f5424a"
      },
      "outputs": [
        {
          "output_type": "execute_result",
          "data": {
            "text/plain": [
              "int"
            ]
          },
          "metadata": {},
          "execution_count": 43
        }
      ],
      "source": [
        "type(a)"
      ]
    },
    {
      "cell_type": "code",
      "execution_count": null,
      "metadata": {
        "id": "29FVH7p7ltmB",
        "colab": {
          "base_uri": "https://localhost:8080/"
        },
        "outputId": "b56f2d0d-e2a2-4930-ef09-918a9391d131"
      },
      "outputs": [
        {
          "output_type": "execute_result",
          "data": {
            "text/plain": [
              "int"
            ]
          },
          "metadata": {},
          "execution_count": 44
        }
      ],
      "source": [
        "type(b)"
      ]
    },
    {
      "cell_type": "code",
      "execution_count": null,
      "metadata": {
        "id": "NGseTO2SltmC",
        "colab": {
          "base_uri": "https://localhost:8080/"
        },
        "outputId": "04a98f1a-1fd9-494f-e828-3cab3a6626ea"
      },
      "outputs": [
        {
          "output_type": "execute_result",
          "data": {
            "text/plain": [
              "str"
            ]
          },
          "metadata": {},
          "execution_count": 45
        }
      ],
      "source": [
        "type(c)"
      ]
    },
    {
      "cell_type": "code",
      "execution_count": null,
      "metadata": {
        "id": "yaSBhwNWltmE",
        "colab": {
          "base_uri": "https://localhost:8080/"
        },
        "outputId": "5fd4d88e-13b3-4e22-faa7-151b34c525f2"
      },
      "outputs": [
        {
          "output_type": "execute_result",
          "data": {
            "text/plain": [
              "str"
            ]
          },
          "metadata": {},
          "execution_count": 46
        }
      ],
      "source": [
        "type(d)"
      ]
    },
    {
      "cell_type": "code",
      "execution_count": null,
      "metadata": {
        "id": "5zMXVwLHltmF",
        "colab": {
          "base_uri": "https://localhost:8080/"
        },
        "outputId": "94552db6-f0c8-4dd0-8e2c-aea865203783"
      },
      "outputs": [
        {
          "output_type": "execute_result",
          "data": {
            "text/plain": [
              "30"
            ]
          },
          "metadata": {},
          "execution_count": 47
        }
      ],
      "source": [
        "a + b"
      ]
    },
    {
      "cell_type": "code",
      "execution_count": null,
      "metadata": {
        "id": "JJrqKRZFltmJ",
        "colab": {
          "base_uri": "https://localhost:8080/",
          "height": 35
        },
        "outputId": "229a13b5-3575-471c-855b-41e07a124b6b"
      },
      "outputs": [
        {
          "output_type": "execute_result",
          "data": {
            "text/plain": [
              "'Python is NICE'"
            ],
            "application/vnd.google.colaboratory.intrinsic+json": {
              "type": "string"
            }
          },
          "metadata": {},
          "execution_count": 48
        }
      ],
      "source": [
        "c + d"
      ]
    },
    {
      "cell_type": "markdown",
      "metadata": {
        "id": "dByigpENltmO"
      },
      "source": [
        "Functions int(), float(), str()"
      ]
    },
    {
      "cell_type": "code",
      "execution_count": null,
      "metadata": {
        "id": "MtecvWlsltmP",
        "colab": {
          "base_uri": "https://localhost:8080/",
          "height": 35
        },
        "outputId": "efe58b36-a7ea-4b02-bccb-1b9f34c97f89"
      },
      "outputs": [
        {
          "output_type": "execute_result",
          "data": {
            "text/plain": [
              "'Python is 10'"
            ],
            "application/vnd.google.colaboratory.intrinsic+json": {
              "type": "string"
            }
          },
          "metadata": {},
          "execution_count": 51
        }
      ],
      "source": [
        "c + str(a)"
      ]
    },
    {
      "cell_type": "code",
      "execution_count": null,
      "metadata": {
        "id": "S1NuIhDVltmS",
        "colab": {
          "base_uri": "https://localhost:8080/"
        },
        "outputId": "3ed8fa19-f35f-4186-f4c0-9dd48ce8b8fa"
      },
      "outputs": [
        {
          "output_type": "execute_result",
          "data": {
            "text/plain": [
              "str"
            ]
          },
          "metadata": {},
          "execution_count": 52
        }
      ],
      "source": [
        "var_type = str(a)\n",
        "type(var_type)"
      ]
    },
    {
      "cell_type": "code",
      "execution_count": null,
      "metadata": {
        "id": "3kCUD1X-ltmT",
        "colab": {
          "base_uri": "https://localhost:8080/"
        },
        "outputId": "39df5158-cdbd-4d00-ae0e-c3bc34b7a4be"
      },
      "outputs": [
        {
          "output_type": "execute_result",
          "data": {
            "text/plain": [
              "10.0"
            ]
          },
          "metadata": {},
          "execution_count": 53
        }
      ],
      "source": [
        "float(a)"
      ]
    },
    {
      "cell_type": "code",
      "execution_count": null,
      "metadata": {
        "id": "TTjSEVRaltmU"
      },
      "outputs": [],
      "source": [
        "pi = 3.14159265359"
      ]
    },
    {
      "cell_type": "code",
      "execution_count": null,
      "metadata": {
        "id": "P1P1bXaYltmV",
        "colab": {
          "base_uri": "https://localhost:8080/"
        },
        "outputId": "44d4031b-a72c-4c43-83b0-ac7d600fc1a1"
      },
      "outputs": [
        {
          "output_type": "execute_result",
          "data": {
            "text/plain": [
              "float"
            ]
          },
          "metadata": {},
          "execution_count": 55
        }
      ],
      "source": [
        "type(pi)"
      ]
    },
    {
      "cell_type": "code",
      "execution_count": null,
      "metadata": {
        "id": "F_8Cn0aAltmW"
      },
      "outputs": [],
      "source": [
        "pi = int(pi)"
      ]
    },
    {
      "cell_type": "code",
      "execution_count": null,
      "metadata": {
        "id": "_KA6MUgmltmY",
        "colab": {
          "base_uri": "https://localhost:8080/"
        },
        "outputId": "ec2fe6f7-9e62-4eb8-9468-240388a781fa"
      },
      "outputs": [
        {
          "output_type": "execute_result",
          "data": {
            "text/plain": [
              "int"
            ]
          },
          "metadata": {},
          "execution_count": 60
        }
      ],
      "source": [
        "type(pi)"
      ]
    },
    {
      "cell_type": "code",
      "execution_count": null,
      "metadata": {
        "id": "7uiCxqUcltma",
        "colab": {
          "base_uri": "https://localhost:8080/"
        },
        "outputId": "3dbfc788-5b0d-411f-b9ea-ff1fdbd90ebf"
      },
      "outputs": [
        {
          "output_type": "execute_result",
          "data": {
            "text/plain": [
              "3"
            ]
          },
          "metadata": {},
          "execution_count": 58
        }
      ],
      "source": [
        "pi"
      ]
    },
    {
      "cell_type": "markdown",
      "source": [
        "### Concatenating strings\n",
        "#### Exercice"
      ],
      "metadata": {
        "id": "J_r9haouJ0jd"
      }
    },
    {
      "cell_type": "code",
      "source": [
        "text = 'The average vehicle mileage is '\n",
        "Km = 100000\n",
        "current_year = 2019\n",
        "Year_manufacturing = 1999"
      ],
      "metadata": {
        "id": "ji7Oy6DkJnWV"
      },
      "execution_count": null,
      "outputs": []
    },
    {
      "cell_type": "code",
      "source": [
        "text + str( int( Km / (current_year - Year_manufacturing) ) ) + 'km'"
      ],
      "metadata": {
        "colab": {
          "base_uri": "https://localhost:8080/",
          "height": 35
        },
        "id": "4I95dBG8KOx1",
        "outputId": "83b70d85-bc42-43b9-b4cf-6b0108020fad"
      },
      "execution_count": null,
      "outputs": [
        {
          "output_type": "execute_result",
          "data": {
            "text/plain": [
              "'The average vehicle mileage is 5000km'"
            ],
            "application/vnd.google.colaboratory.intrinsic+json": {
              "type": "string"
            }
          },
          "metadata": {},
          "execution_count": 67
        }
      ]
    },
    {
      "cell_type": "markdown",
      "metadata": {
        "id": "gGpflJMYltmd"
      },
      "source": [
        "# 2.5 indentation, comments, and *string* formatting"
      ]
    },
    {
      "cell_type": "markdown",
      "metadata": {
        "id": "XbijUgqVltmw"
      },
      "source": [
        "### Indentation\n",
        "\n",
        "In Python, programs are structured using indentation. In any programming language, the practice of indentation is very useful, making the code easier to read and also to maintain. In Python, indentation is not just a matter of organization and style, but a language requirement."
      ]
    },
    {
      "cell_type": "code",
      "execution_count": null,
      "metadata": {
        "id": "DqXANnyultmw",
        "colab": {
          "base_uri": "https://localhost:8080/"
        },
        "outputId": "aaf75b7c-da0a-49f8-98ff-5b32f0973ebc"
      },
      "outputs": [
        {
          "output_type": "stream",
          "name": "stdout",
          "text": [
            "True\n"
          ]
        }
      ],
      "source": [
        "current_year = 2019\n",
        "brand_new_car = 2019\n",
        "\n",
        "if (current_year == brand_new_car):\n",
        "    print(True)\n",
        "else:\n",
        "    print(False)"
      ]
    },
    {
      "cell_type": "markdown",
      "metadata": {
        "id": "dNBfv7x7ltmy"
      },
      "source": [
        "### Comments\n",
        "\n",
        "Comments are extremely important in a program. It consists of text that describes what the program or a specific part of the program is doing. Comments are ignored by the Python interpreter.\n",
        "\n",
        "We can have single-line or multi-line comments."
      ]
    },
    {
      "cell_type": "code",
      "execution_count": null,
      "metadata": {
        "id": "GN3DfwiRltmy",
        "colab": {
          "base_uri": "https://localhost:8080/"
        },
        "outputId": "5731379e-e8dc-40a2-c594-7e26328e77dd"
      },
      "outputs": [
        {
          "output_type": "execute_result",
          "data": {
            "text/plain": [
              "2019"
            ]
          },
          "metadata": {},
          "execution_count": 12
        }
      ],
      "source": [
        "# this is a comment\n",
        "current_year = 2019\n",
        "current_year"
      ]
    },
    {
      "cell_type": "code",
      "execution_count": null,
      "metadata": {
        "id": "PICBiohFltm2",
        "colab": {
          "base_uri": "https://localhost:8080/"
        },
        "outputId": "368c486d-b8c1-4de9-eb27-5e0cb84d5ec9"
      },
      "outputs": [
        {
          "output_type": "execute_result",
          "data": {
            "text/plain": [
              "2019"
            ]
          },
          "metadata": {},
          "execution_count": 13
        }
      ],
      "source": [
        "# this\n",
        "# is a  \n",
        "# comment\n",
        "current_year = 2019\n",
        "current_year"
      ]
    },
    {
      "cell_type": "code",
      "execution_count": null,
      "metadata": {
        "id": "PTkJ4Vjultm4",
        "colab": {
          "base_uri": "https://localhost:8080/"
        },
        "outputId": "564b0db5-d75e-4268-d9bf-a56dc4535fc8"
      },
      "outputs": [
        {
          "output_type": "execute_result",
          "data": {
            "text/plain": [
              "2019"
            ]
          },
          "metadata": {},
          "execution_count": 14
        }
      ],
      "source": [
        "'''this is a\n",
        "comment'''\n",
        "current_year = 2019\n",
        "current_year"
      ]
    },
    {
      "cell_type": "code",
      "execution_count": null,
      "metadata": {
        "id": "SYEGdALxltm5",
        "colab": {
          "base_uri": "https://localhost:8080/"
        },
        "outputId": "14063a22-1fbe-4fb1-d8ec-965fdf04327a"
      },
      "outputs": [
        {
          "output_type": "stream",
          "name": "stdout",
          "text": [
            "True\n"
          ]
        }
      ],
      "source": [
        "# Defining variables\n",
        "current_year = 2019\n",
        "brand_new_car = 2019\n",
        "\n",
        "'''\n",
        "Conditional structure that we will\n",
        "learn in the next class\n",
        "'''\n",
        "if (current_year == brand_new_car):   # Testing if condition is true\n",
        "    print(True)\n",
        "else:                               # Testing if condition is false\n",
        "    print(False)"
      ]
    },
    {
      "cell_type": "markdown",
      "metadata": {
        "id": "8--bcJ01ltm8"
      },
      "source": [
        "### *String* formatting"
      ]
    },
    {
      "cell_type": "markdown",
      "metadata": {
        "id": "8lSC0XEDltm-"
      },
      "source": [
        "## *str % value*\n",
        "https://docs.python.org/3.6/library/stdtypes.html#old-string-formatting"
      ]
    },
    {
      "cell_type": "markdown",
      "metadata": {
        "id": "CMovhJZ_ltnG"
      },
      "source": [
        "## *str.format()*\n",
        "\n",
        "https://docs.python.org/3.6/library/stdtypes.html#str.format"
      ]
    },
    {
      "cell_type": "code",
      "source": [
        "my_name = 'Rodrigo'\n",
        "random = 42"
      ],
      "metadata": {
        "id": "PLJGJdSnMCRf"
      },
      "execution_count": null,
      "outputs": []
    },
    {
      "cell_type": "code",
      "execution_count": null,
      "metadata": {
        "id": "N12xmMehltnG",
        "colab": {
          "base_uri": "https://localhost:8080/"
        },
        "outputId": "343ba699-cb20-4eb6-a1d0-13897e507335"
      },
      "outputs": [
        {
          "output_type": "stream",
          "name": "stdout",
          "text": [
            "Heloo Rodrigo!\n"
          ]
        }
      ],
      "source": [
        "print('Heloo {}!'.format(my_name))"
      ]
    },
    {
      "cell_type": "code",
      "execution_count": null,
      "metadata": {
        "id": "mRBmU9G1ltnJ",
        "colab": {
          "base_uri": "https://localhost:8080/",
          "height": 35
        },
        "outputId": "619ecf04-ce64-4fc6-8390-1fed8eee394b"
      },
      "outputs": [
        {
          "output_type": "execute_result",
          "data": {
            "text/plain": [
              "'Hello Rodrigo. Your favorite number is 42'"
            ],
            "application/vnd.google.colaboratory.intrinsic+json": {
              "type": "string"
            }
          },
          "metadata": {},
          "execution_count": 80
        }
      ],
      "source": [
        "'Hello {}. Your favorite number is {}'.format(my_name, random)"
      ]
    },
    {
      "cell_type": "code",
      "execution_count": null,
      "metadata": {
        "id": "wpqEsTwnltnL",
        "colab": {
          "base_uri": "https://localhost:8080/",
          "height": 35
        },
        "outputId": "6dd75fc5-ff2e-4ddb-b0b2-ec1640d3be6b"
      },
      "outputs": [
        {
          "output_type": "execute_result",
          "data": {
            "text/plain": [
              "'Hello Rodrigo. Your favorite number is 42'"
            ],
            "application/vnd.google.colaboratory.intrinsic+json": {
              "type": "string"
            }
          },
          "metadata": {},
          "execution_count": 81
        }
      ],
      "source": [
        "'Hello {name}. Your favorite number is {number}'.format(number = random, name = my_name)"
      ]
    },
    {
      "cell_type": "markdown",
      "metadata": {
        "id": "V-wPNUN9ltnN"
      },
      "source": [
        "## *f-Strings*\n",
        "\n",
        "https://docs.python.org/3.6/reference/lexical_analysis.html#f-strings"
      ]
    },
    {
      "cell_type": "code",
      "execution_count": null,
      "metadata": {
        "id": "7Fq_WPv0ltnO",
        "colab": {
          "base_uri": "https://localhost:8080/",
          "height": 35
        },
        "outputId": "d30e1c40-543c-4942-8e5e-c4c59dca4da7"
      },
      "outputs": [
        {
          "output_type": "execute_result",
          "data": {
            "text/plain": [
              "'Hello Rodrigo. Your favorite number is 42'"
            ],
            "application/vnd.google.colaboratory.intrinsic+json": {
              "type": "string"
            }
          },
          "metadata": {},
          "execution_count": 82
        }
      ],
      "source": [
        "f'Hello {my_name}. Your favorite number is {random}'"
      ]
    },
    {
      "cell_type": "markdown",
      "source": [
        "### String formatting\n",
        "#### Exercice"
      ],
      "metadata": {
        "id": "Zdg2-fTCM4--"
      }
    },
    {
      "cell_type": "code",
      "source": [
        "print('Hello, {name}! This is your access number {hits}'.format(hits = 32, name = 'Rodrigo'))"
      ],
      "metadata": {
        "colab": {
          "base_uri": "https://localhost:8080/"
        },
        "id": "LzTUUGf1NAi6",
        "outputId": "c3e8b182-d9ce-446f-96c5-b641514ef47d"
      },
      "execution_count": null,
      "outputs": [
        {
          "output_type": "stream",
          "name": "stdout",
          "text": [
            "Hello, Rodrigo! This is your access number 32\n"
          ]
        }
      ]
    },
    {
      "cell_type": "code",
      "source": [
        "name = 'Rodrigo'\n",
        "hits = 32\n",
        "print(f'Hello, {name}! This is your access number {hits}')"
      ],
      "metadata": {
        "colab": {
          "base_uri": "https://localhost:8080/"
        },
        "id": "d07TTSI0NME5",
        "outputId": "bc465636-5e98-45ce-a93d-d56721bde117"
      },
      "execution_count": null,
      "outputs": [
        {
          "output_type": "stream",
          "name": "stdout",
          "text": [
            "Hello, Rodrigo! This is your access number 32\n"
          ]
        }
      ]
    },
    {
      "cell_type": "code",
      "source": [
        "print('Hello, {}! This is your access number {}'.format('Rodrigo', 32))"
      ],
      "metadata": {
        "colab": {
          "base_uri": "https://localhost:8080/"
        },
        "id": "BdY9ObrBNTpX",
        "outputId": "f66ade89-0fb5-403d-e142-7421d0a9e0e4"
      },
      "execution_count": null,
      "outputs": [
        {
          "output_type": "stream",
          "name": "stdout",
          "text": [
            "Hello, Rodrigo! This is your access number 32\n"
          ]
        }
      ]
    },
    {
      "cell_type": "markdown",
      "metadata": {
        "id": "_IZuNE48ltnS"
      },
      "source": [
        "# <font color=green> 3. WORKING WITH LISTS\n",
        "---"
      ]
    },
    {
      "cell_type": "markdown",
      "metadata": {
        "id": "zhS89xysltnS"
      },
      "source": [
        "# 3.1 Creating lists\n",
        "\n",
        "Lists are **mutable** sequences that are used to store collections of items, usually homogeneous. They can be built in several ways:\n",
        "```\n",
        "- Using a pair of square brackets: [ ], [ 1 ]\n",
        "- Using a pair of square brackets with comma-separated items: [ 1, 2, 3 ]\n",
        "```"
      ]
    },
    {
      "cell_type": "code",
      "execution_count": null,
      "metadata": {
        "id": "aE4UWF10ltnS"
      },
      "outputs": [],
      "source": [
        "accessories = ['Alloy wheels', 'Power locks', 'Autopilot', 'Leather seats', 'Air conditioning', 'Parking sensor', 'Twilight sensor', 'Rain sensor']"
      ]
    },
    {
      "cell_type": "code",
      "source": [
        "accessories"
      ],
      "metadata": {
        "colab": {
          "base_uri": "https://localhost:8080/"
        },
        "id": "D6jlaKRaP_0E",
        "outputId": "ce37f8d7-348c-4330-c1da-b68570e3e566"
      },
      "execution_count": null,
      "outputs": [
        {
          "output_type": "execute_result",
          "data": {
            "text/plain": [
              "['Alloy wheels',\n",
              " 'Power locks',\n",
              " 'Autopilot',\n",
              " 'Leather seats',\n",
              " 'Air conditioning',\n",
              " 'Parking sensor',\n",
              " 'Twilight sensor',\n",
              " 'Rain sensor']"
            ]
          },
          "metadata": {},
          "execution_count": 106
        }
      ]
    },
    {
      "cell_type": "code",
      "source": [
        "type(accessories)"
      ],
      "metadata": {
        "colab": {
          "base_uri": "https://localhost:8080/"
        },
        "id": "WNQn-VEcPDNo",
        "outputId": "35a3c0e1-4f8a-418b-9998-50a1eb24ae46"
      },
      "execution_count": null,
      "outputs": [
        {
          "output_type": "execute_result",
          "data": {
            "text/plain": [
              "list"
            ]
          },
          "metadata": {},
          "execution_count": 97
        }
      ]
    },
    {
      "cell_type": "markdown",
      "metadata": {
        "id": "Mmlkh5TVltnT"
      },
      "source": [
        "### List with different data types"
      ]
    },
    {
      "cell_type": "code",
      "execution_count": null,
      "metadata": {
        "id": "Mfpu7NoJltnT"
      },
      "outputs": [],
      "source": [
        "car_1 = ['Jetta Variant', '4.0 Turbo Engine', 2003, 44410.0, False, ['Alloy Wheels', 'Power Locks', 'Autopilot'], 88078.64]\n",
        "car_2 = ['Passat', 'Diesel Engine', 1991, 5712.0, False, ['Multimedia Center', 'Panoramic Roof', 'ABS Brakes'], 106161.94]"
      ]
    },
    {
      "cell_type": "code",
      "execution_count": null,
      "metadata": {
        "id": "EJSJFJjKltnV",
        "colab": {
          "base_uri": "https://localhost:8080/"
        },
        "outputId": "99c0ad1b-7cfc-4e2e-9ba1-578f417a85c3"
      },
      "outputs": [
        {
          "output_type": "execute_result",
          "data": {
            "text/plain": [
              "list"
            ]
          },
          "metadata": {},
          "execution_count": 98
        }
      ],
      "source": [
        "type(car_1)"
      ]
    },
    {
      "cell_type": "code",
      "execution_count": null,
      "metadata": {
        "id": "7MMG7L8VltnX",
        "colab": {
          "base_uri": "https://localhost:8080/"
        },
        "outputId": "0478c611-acaf-40fe-ec3c-4f2a3a1c9d39"
      },
      "outputs": [
        {
          "output_type": "execute_result",
          "data": {
            "text/plain": [
              "['Jetta Variant',\n",
              " '4.0 Turbo Engine',\n",
              " 2003,\n",
              " 44410.0,\n",
              " False,\n",
              " ['Alloy Wheels', 'Power Locks', 'Autopilot'],\n",
              " 88078.64]"
            ]
          },
          "metadata": {},
          "execution_count": 100
        }
      ],
      "source": [
        "car_1"
      ]
    },
    {
      "cell_type": "code",
      "execution_count": null,
      "metadata": {
        "id": "7E8erLgZltnZ",
        "colab": {
          "base_uri": "https://localhost:8080/"
        },
        "outputId": "f887f0ae-cbbd-4f96-b047-7be90b6d384e"
      },
      "outputs": [
        {
          "output_type": "execute_result",
          "data": {
            "text/plain": [
              "['Passat',\n",
              " 'Diesel Engine',\n",
              " 1991,\n",
              " 5712.0,\n",
              " False,\n",
              " ['Multimedia Center', 'Panoramic Roof', 'ABS Brakes'],\n",
              " 106161.94]"
            ]
          },
          "metadata": {},
          "execution_count": 101
        }
      ],
      "source": [
        "car_2"
      ]
    },
    {
      "cell_type": "code",
      "source": [
        "cars = [car_1, car_2]"
      ],
      "metadata": {
        "id": "aSFj0kQxPT8M"
      },
      "execution_count": null,
      "outputs": []
    },
    {
      "cell_type": "code",
      "source": [
        "type(cars)"
      ],
      "metadata": {
        "colab": {
          "base_uri": "https://localhost:8080/"
        },
        "id": "vQ2CJ_LiPcf6",
        "outputId": "03336e12-801a-4c40-dc8f-d5a8f55e6fff"
      },
      "execution_count": null,
      "outputs": [
        {
          "output_type": "execute_result",
          "data": {
            "text/plain": [
              "list"
            ]
          },
          "metadata": {},
          "execution_count": 103
        }
      ]
    },
    {
      "cell_type": "code",
      "source": [
        "cars"
      ],
      "metadata": {
        "colab": {
          "base_uri": "https://localhost:8080/"
        },
        "id": "xZYeQTa0PfPq",
        "outputId": "88966474-b62f-45e2-86bd-cfd3580f1129"
      },
      "execution_count": null,
      "outputs": [
        {
          "output_type": "execute_result",
          "data": {
            "text/plain": [
              "[['Jetta Variant',\n",
              "  '4.0 Turbo Engine',\n",
              "  2003,\n",
              "  44410.0,\n",
              "  False,\n",
              "  ['Alloy Wheels', 'Power Locks', 'Autopilot'],\n",
              "  88078.64],\n",
              " ['Passat',\n",
              "  'Diesel Engine',\n",
              "  1991,\n",
              "  5712.0,\n",
              "  False,\n",
              "  ['Multimedia Center', 'Panoramic Roof', 'ABS Brakes'],\n",
              "  106161.94]]"
            ]
          },
          "metadata": {},
          "execution_count": 104
        }
      ]
    },
    {
      "cell_type": "markdown",
      "metadata": {
        "id": "5yMXJ0xdltna"
      },
      "source": [
        "# 3.2 List operations\n",
        "\n",
        "https://docs.python.org/3.6/library/stdtypes.html#common-sequence-operations"
      ]
    },
    {
      "cell_type": "markdown",
      "metadata": {
        "id": "YSorJOGlltna"
      },
      "source": [
        "## *x in A*\n",
        "\n",
        "Returns **True** if an element in the list *A* is equal to *x*."
      ]
    },
    {
      "cell_type": "code",
      "execution_count": null,
      "metadata": {
        "id": "1WNsBXFyltng",
        "colab": {
          "base_uri": "https://localhost:8080/"
        },
        "outputId": "9684c97c-1bdd-4b10-80d7-06cccb6653c5"
      },
      "outputs": [
        {
          "output_type": "execute_result",
          "data": {
            "text/plain": [
              "['Alloy wheels',\n",
              " 'Power locks',\n",
              " 'Autopilot',\n",
              " 'Leather seats',\n",
              " 'Air conditioning',\n",
              " 'Parking sensor',\n",
              " 'Twilight sensor',\n",
              " 'Rain sensor']"
            ]
          },
          "metadata": {},
          "execution_count": 112
        }
      ],
      "source": [
        "accessories"
      ]
    },
    {
      "cell_type": "code",
      "execution_count": null,
      "metadata": {
        "id": "GgSP_nlHltnb",
        "colab": {
          "base_uri": "https://localhost:8080/"
        },
        "outputId": "3f0d3e6a-0e71-45ca-bf07-8a8135487408"
      },
      "outputs": [
        {
          "output_type": "execute_result",
          "data": {
            "text/plain": [
              "True"
            ]
          },
          "metadata": {},
          "execution_count": 108
        }
      ],
      "source": [
        "'Power locks' in accessories"
      ]
    },
    {
      "cell_type": "code",
      "execution_count": null,
      "metadata": {
        "id": "_JyyHPmWltnd",
        "colab": {
          "base_uri": "https://localhost:8080/"
        },
        "outputId": "65ae5557-e78a-4be3-bce1-14dd63560c91"
      },
      "outputs": [
        {
          "output_type": "execute_result",
          "data": {
            "text/plain": [
              "False"
            ]
          },
          "metadata": {},
          "execution_count": 109
        }
      ],
      "source": [
        "'4 x 4' in accessories"
      ]
    },
    {
      "cell_type": "code",
      "execution_count": null,
      "metadata": {
        "id": "tebg9gAyltne",
        "colab": {
          "base_uri": "https://localhost:8080/"
        },
        "outputId": "f73e83a5-4ab9-4bd0-fe37-4f4ad2c64c2d"
      },
      "outputs": [
        {
          "output_type": "execute_result",
          "data": {
            "text/plain": [
              "False"
            ]
          },
          "metadata": {},
          "execution_count": 110
        }
      ],
      "source": [
        "'Power locks' not in accessories"
      ]
    },
    {
      "cell_type": "code",
      "execution_count": null,
      "metadata": {
        "id": "W_1PKJYsltnf",
        "colab": {
          "base_uri": "https://localhost:8080/"
        },
        "outputId": "12c2ae94-b942-4dcb-8c74-795c758f8817"
      },
      "outputs": [
        {
          "output_type": "execute_result",
          "data": {
            "text/plain": [
              "True"
            ]
          },
          "metadata": {},
          "execution_count": 111
        }
      ],
      "source": [
        "'4 x 4' not in accessories"
      ]
    },
    {
      "cell_type": "markdown",
      "metadata": {
        "id": "RF6_rf90ltnh"
      },
      "source": [
        "## *A + B*\n",
        "\n",
        "Concatenates lists A and B."
      ]
    },
    {
      "cell_type": "code",
      "execution_count": null,
      "metadata": {
        "id": "8lnzbYnRltnh"
      },
      "outputs": [],
      "source": [
        "A = ['Alloy wheels', 'Power locks', 'Autopilot', 'Leather seats']\n",
        "B = ['Air conditioning', 'Parking sensor', 'Twilight sensor', 'Rain sensor']"
      ]
    },
    {
      "cell_type": "code",
      "execution_count": null,
      "metadata": {
        "id": "SzbiHHF4ltni",
        "colab": {
          "base_uri": "https://localhost:8080/"
        },
        "outputId": "68f708f7-0fb9-482e-9089-f200ba61574e"
      },
      "outputs": [
        {
          "output_type": "execute_result",
          "data": {
            "text/plain": [
              "['Alloy wheels', 'Power locks', 'Autopilot', 'Leather seats']"
            ]
          },
          "metadata": {},
          "execution_count": 117
        }
      ],
      "source": [
        "A"
      ]
    },
    {
      "cell_type": "code",
      "execution_count": null,
      "metadata": {
        "id": "It5Cn5aXltni",
        "colab": {
          "base_uri": "https://localhost:8080/"
        },
        "outputId": "8b10a5c5-aee2-48eb-c714-1f6467436613"
      },
      "outputs": [
        {
          "output_type": "execute_result",
          "data": {
            "text/plain": [
              "['Air conditioning', 'Parking sensor', 'Twilight sensor', 'Rain sensor']"
            ]
          },
          "metadata": {},
          "execution_count": 118
        }
      ],
      "source": [
        "B"
      ]
    },
    {
      "cell_type": "code",
      "execution_count": null,
      "metadata": {
        "id": "l7gF4Ph5ltnj"
      },
      "outputs": [],
      "source": [
        "C = A + B"
      ]
    },
    {
      "cell_type": "code",
      "source": [
        "C"
      ],
      "metadata": {
        "colab": {
          "base_uri": "https://localhost:8080/"
        },
        "id": "_eAp5VW8QzUW",
        "outputId": "1e03f559-49a7-405d-abd2-a82b3f5d330b"
      },
      "execution_count": null,
      "outputs": [
        {
          "output_type": "execute_result",
          "data": {
            "text/plain": [
              "['Alloy wheels',\n",
              " 'Power locks',\n",
              " 'Autopilot',\n",
              " 'Leather seats',\n",
              " 'Air conditioning',\n",
              " 'Parking sensor',\n",
              " 'Twilight sensor',\n",
              " 'Rain sensor']"
            ]
          },
          "metadata": {},
          "execution_count": 122
        }
      ]
    },
    {
      "cell_type": "markdown",
      "metadata": {
        "id": "iTv5t7zAltnk"
      },
      "source": [
        "## *len(A)*\n",
        "\n",
        "List size A."
      ]
    },
    {
      "cell_type": "code",
      "execution_count": null,
      "metadata": {
        "id": "dtbuCDSOltnk",
        "colab": {
          "base_uri": "https://localhost:8080/"
        },
        "outputId": "f070bb69-9da8-412e-9efc-4e3a50292dd1"
      },
      "outputs": [
        {
          "output_type": "execute_result",
          "data": {
            "text/plain": [
              "4"
            ]
          },
          "metadata": {},
          "execution_count": 123
        }
      ],
      "source": [
        "len(A)"
      ]
    },
    {
      "cell_type": "code",
      "source": [
        "len(B)"
      ],
      "metadata": {
        "colab": {
          "base_uri": "https://localhost:8080/"
        },
        "id": "U8Hr4L8WQ4Pq",
        "outputId": "032c4753-469b-4159-9a51-15e10768f599"
      },
      "execution_count": null,
      "outputs": [
        {
          "output_type": "execute_result",
          "data": {
            "text/plain": [
              "4"
            ]
          },
          "metadata": {},
          "execution_count": 124
        }
      ]
    },
    {
      "cell_type": "code",
      "source": [
        "len(C)"
      ],
      "metadata": {
        "colab": {
          "base_uri": "https://localhost:8080/"
        },
        "id": "kj6fPiQsQ4Cl",
        "outputId": "39505b5a-3b90-4400-a93d-7b3eb4136f58"
      },
      "execution_count": null,
      "outputs": [
        {
          "output_type": "execute_result",
          "data": {
            "text/plain": [
              "8"
            ]
          },
          "metadata": {},
          "execution_count": 125
        }
      ]
    },
    {
      "cell_type": "markdown",
      "source": [
        "### Working with lists\n",
        "#### Exercice"
      ],
      "metadata": {
        "id": "ghvzZEgPRWpY"
      }
    },
    {
      "cell_type": "code",
      "source": [
        "car = [\n",
        "     'Jetta Variant',\n",
        "     '4.0 Turbo Engine',\n",
        "     2003,\n",
        "     44410.0,\n",
        "     False,\n",
        "     ['Alloy wheels', 'Power locks', 'Autopilot'],\n",
        "     88078.64\n",
        "]"
      ],
      "metadata": {
        "id": "GUpwNE4gReea"
      },
      "execution_count": null,
      "outputs": []
    },
    {
      "cell_type": "code",
      "source": [
        "'2003' in car"
      ],
      "metadata": {
        "colab": {
          "base_uri": "https://localhost:8080/"
        },
        "id": "3KINytINRmWT",
        "outputId": "8ffd2a71-194d-4d1f-d675-485feee7bcce"
      },
      "execution_count": null,
      "outputs": [
        {
          "output_type": "execute_result",
          "data": {
            "text/plain": [
              "False"
            ]
          },
          "metadata": {},
          "execution_count": 130
        }
      ]
    },
    {
      "cell_type": "code",
      "source": [
        "'Alloy wheels' in car"
      ],
      "metadata": {
        "colab": {
          "base_uri": "https://localhost:8080/"
        },
        "id": "_09Z1X9iR8-Z",
        "outputId": "84618035-1516-493e-a00f-53e69c5301da"
      },
      "execution_count": null,
      "outputs": [
        {
          "output_type": "execute_result",
          "data": {
            "text/plain": [
              "False"
            ]
          },
          "metadata": {},
          "execution_count": 131
        }
      ]
    },
    {
      "cell_type": "code",
      "source": [
        "'False' not in car"
      ],
      "metadata": {
        "colab": {
          "base_uri": "https://localhost:8080/"
        },
        "id": "g148SaArSGAy",
        "outputId": "517dff1b-d4df-45fa-c54c-50ec25b30da9"
      },
      "execution_count": null,
      "outputs": [
        {
          "output_type": "execute_result",
          "data": {
            "text/plain": [
              "True"
            ]
          },
          "metadata": {},
          "execution_count": 133
        }
      ]
    },
    {
      "cell_type": "markdown",
      "metadata": {
        "id": "k7wWCbAmltnl"
      },
      "source": [
        "# 3.3 Selections in lists"
      ]
    },
    {
      "cell_type": "markdown",
      "metadata": {
        "id": "uF3NmgUaltnl"
      },
      "source": [
        "## *A[ i ]*\n",
        "\n",
        "Returns the i-th item in the list *A*.\n",
        "\n",
        "<font color=red>**Note:**</font> Lists have zero-source indexing."
      ]
    },
    {
      "cell_type": "code",
      "execution_count": null,
      "metadata": {
        "id": "f5ct7w1Wltnm"
      },
      "outputs": [],
      "source": [
        "accessories = ['Alloy wheels', 'Power locks', 'Autopilot', 'Leather seats', 'Air conditioning', 'Parking sensor', 'Twilight sensor', 'Rain sensor']"
      ]
    },
    {
      "cell_type": "code",
      "execution_count": null,
      "metadata": {
        "id": "-BLG7yifltnn",
        "colab": {
          "base_uri": "https://localhost:8080/",
          "height": 35
        },
        "outputId": "027f8f48-3fd2-44dc-88d9-ae0517d144b6"
      },
      "outputs": [
        {
          "output_type": "execute_result",
          "data": {
            "text/plain": [
              "'Alloy wheels'"
            ],
            "application/vnd.google.colaboratory.intrinsic+json": {
              "type": "string"
            }
          },
          "metadata": {},
          "execution_count": 136
        }
      ],
      "source": [
        "accessories[0]"
      ]
    },
    {
      "cell_type": "code",
      "execution_count": null,
      "metadata": {
        "id": "SoL6PIjJltno",
        "colab": {
          "base_uri": "https://localhost:8080/",
          "height": 35
        },
        "outputId": "1e0b8422-24f2-42ba-d60b-f5b693ba7a41"
      },
      "outputs": [
        {
          "output_type": "execute_result",
          "data": {
            "text/plain": [
              "'Power locks'"
            ],
            "application/vnd.google.colaboratory.intrinsic+json": {
              "type": "string"
            }
          },
          "metadata": {},
          "execution_count": 137
        }
      ],
      "source": [
        "accessories[1]"
      ]
    },
    {
      "cell_type": "code",
      "execution_count": null,
      "metadata": {
        "id": "pGMDc5FLltnq",
        "colab": {
          "base_uri": "https://localhost:8080/",
          "height": 35
        },
        "outputId": "00bb4746-c648-4096-9a60-70f45ad0c813"
      },
      "outputs": [
        {
          "output_type": "execute_result",
          "data": {
            "text/plain": [
              "'Rain sensor'"
            ],
            "application/vnd.google.colaboratory.intrinsic+json": {
              "type": "string"
            }
          },
          "metadata": {},
          "execution_count": 138
        }
      ],
      "source": [
        "accessories[-1]"
      ]
    },
    {
      "cell_type": "code",
      "execution_count": null,
      "metadata": {
        "id": "m3AaFe73ltnr",
        "colab": {
          "base_uri": "https://localhost:8080/",
          "height": 35
        },
        "outputId": "6e36b5c8-c330-4962-c25d-08cdf71c9b6b"
      },
      "outputs": [
        {
          "output_type": "execute_result",
          "data": {
            "text/plain": [
              "'Twilight sensor'"
            ],
            "application/vnd.google.colaboratory.intrinsic+json": {
              "type": "string"
            }
          },
          "metadata": {},
          "execution_count": 139
        }
      ],
      "source": [
        "accessories[-2]"
      ]
    },
    {
      "cell_type": "code",
      "execution_count": null,
      "metadata": {
        "id": "AeDJviqoltns",
        "colab": {
          "base_uri": "https://localhost:8080/",
          "height": 35
        },
        "outputId": "3f6e8347-e455-4f16-c33f-b2470874564c"
      },
      "outputs": [
        {
          "output_type": "execute_result",
          "data": {
            "text/plain": [
              "'Alloy wheels'"
            ],
            "application/vnd.google.colaboratory.intrinsic+json": {
              "type": "string"
            }
          },
          "metadata": {},
          "execution_count": 140
        }
      ],
      "source": [
        "C[0]"
      ]
    },
    {
      "cell_type": "code",
      "execution_count": null,
      "metadata": {
        "id": "KdenG1BZltnt"
      },
      "outputs": [],
      "source": [
        "car = [\n",
        "     'Jetta Variant',\n",
        "     '4.0 Turbo Engine',\n",
        "     2003,\n",
        "     44410.0,\n",
        "     False,\n",
        "     ['Alloy wheels', 'Power locks', 'Autopilot'],\n",
        "     88078.64\n",
        "]"
      ]
    },
    {
      "cell_type": "code",
      "execution_count": null,
      "metadata": {
        "id": "iOjsfrlFltnu",
        "colab": {
          "base_uri": "https://localhost:8080/"
        },
        "outputId": "70bcf485-9668-4e7b-ff45-ebb87e0a1c75"
      },
      "outputs": [
        {
          "output_type": "execute_result",
          "data": {
            "text/plain": [
              "['Alloy wheels', 'Power locks', 'Autopilot']"
            ]
          },
          "metadata": {},
          "execution_count": 142
        }
      ],
      "source": [
        "car[5]"
      ]
    },
    {
      "cell_type": "code",
      "execution_count": null,
      "metadata": {
        "id": "6BrON70Zltnu",
        "colab": {
          "base_uri": "https://localhost:8080/",
          "height": 35
        },
        "outputId": "d05644e6-1175-438d-e923-26430374f9ef"
      },
      "outputs": [
        {
          "output_type": "execute_result",
          "data": {
            "text/plain": [
              "'Alloy wheels'"
            ],
            "application/vnd.google.colaboratory.intrinsic+json": {
              "type": "string"
            }
          },
          "metadata": {},
          "execution_count": 143
        }
      ],
      "source": [
        "car[5][0]"
      ]
    },
    {
      "cell_type": "markdown",
      "metadata": {
        "id": "9WgwxPIMltnv"
      },
      "source": [
        "## *A[ i : j ]*\n",
        "\n",
        "Cut list *A* from index i to j. In this slicing the element with index i is **included** and the element with index j is **not included** in the result."
      ]
    },
    {
      "cell_type": "code",
      "execution_count": null,
      "metadata": {
        "id": "sFAlJ4u_ltnw",
        "colab": {
          "base_uri": "https://localhost:8080/"
        },
        "outputId": "48483312-f058-4a19-8b72-8c6972251599"
      },
      "outputs": [
        {
          "output_type": "execute_result",
          "data": {
            "text/plain": [
              "['Autopilot', 'Leather seats', 'Air conditioning']"
            ]
          },
          "metadata": {},
          "execution_count": 145
        }
      ],
      "source": [
        "accessories[2:5]"
      ]
    },
    {
      "cell_type": "code",
      "execution_count": null,
      "metadata": {
        "id": "dFdTBWa9ltnz",
        "colab": {
          "base_uri": "https://localhost:8080/"
        },
        "outputId": "2296b3ff-77b3-471d-bd12-4f3dcbef057b"
      },
      "outputs": [
        {
          "output_type": "execute_result",
          "data": {
            "text/plain": [
              "['Autopilot',\n",
              " 'Leather seats',\n",
              " 'Air conditioning',\n",
              " 'Parking sensor',\n",
              " 'Twilight sensor',\n",
              " 'Rain sensor']"
            ]
          },
          "metadata": {},
          "execution_count": 146
        }
      ],
      "source": [
        "accessories[2:]"
      ]
    },
    {
      "cell_type": "code",
      "execution_count": null,
      "metadata": {
        "id": "yxxB2-_Dltn0",
        "colab": {
          "base_uri": "https://localhost:8080/"
        },
        "outputId": "ca12947a-ee17-4bc3-f043-13cc8b6b83d0"
      },
      "outputs": [
        {
          "output_type": "execute_result",
          "data": {
            "text/plain": [
              "['Alloy wheels',\n",
              " 'Power locks',\n",
              " 'Autopilot',\n",
              " 'Leather seats',\n",
              " 'Air conditioning']"
            ]
          },
          "metadata": {},
          "execution_count": 147
        }
      ],
      "source": [
        "accessories[:5]"
      ]
    },
    {
      "cell_type": "markdown",
      "source": [
        "### Selections and slicing\n",
        "#### Exercice"
      ],
      "metadata": {
        "id": "cX217qU_T_Ly"
      }
    },
    {
      "cell_type": "code",
      "source": [
        "letters = ['A', 'B', 'C', 'D', 'E', 'F', 'G', 'H']"
      ],
      "metadata": {
        "id": "gSXCYiyeUGhv"
      },
      "execution_count": null,
      "outputs": []
    },
    {
      "cell_type": "code",
      "source": [
        "letters[:2]"
      ],
      "metadata": {
        "colab": {
          "base_uri": "https://localhost:8080/"
        },
        "id": "dTye6NKWUSVL",
        "outputId": "3bb37421-ad83-4f5e-a1bc-343ba2d9cc5f"
      },
      "execution_count": null,
      "outputs": [
        {
          "output_type": "execute_result",
          "data": {
            "text/plain": [
              "['A', 'B']"
            ]
          },
          "metadata": {},
          "execution_count": 154
        }
      ]
    },
    {
      "cell_type": "code",
      "source": [
        "letters[2:5]"
      ],
      "metadata": {
        "colab": {
          "base_uri": "https://localhost:8080/"
        },
        "id": "Y7An2OqvUSNC",
        "outputId": "1841ec3c-9de8-457c-9bc1-7cffc13ceaf2"
      },
      "execution_count": null,
      "outputs": [
        {
          "output_type": "execute_result",
          "data": {
            "text/plain": [
              "['C', 'D', 'E']"
            ]
          },
          "metadata": {},
          "execution_count": 155
        }
      ]
    },
    {
      "cell_type": "code",
      "source": [
        "letters[-3:]"
      ],
      "metadata": {
        "colab": {
          "base_uri": "https://localhost:8080/"
        },
        "id": "HVrx1LBoUR_Y",
        "outputId": "62f70b4a-37cc-47f0-9d83-66879dcd48eb"
      },
      "execution_count": null,
      "outputs": [
        {
          "output_type": "execute_result",
          "data": {
            "text/plain": [
              "['F', 'G', 'H']"
            ]
          },
          "metadata": {},
          "execution_count": 156
        }
      ]
    },
    {
      "cell_type": "markdown",
      "source": [
        "### Lists within lists\n",
        "#### Exercice"
      ],
      "metadata": {
        "id": "zSNK99FKVHE6"
      }
    },
    {
      "cell_type": "code",
      "source": [
        "exercice_cars = [\n",
        "     [\n",
        "         'Jetta Variant',\n",
        "         '4.0 Turbo Engine',\n",
        "         2003,\n",
        "         False,\n",
        "         ['Alloy wheels', 'Power locks', 'Autopilot']\n",
        "     ],\n",
        "     [\n",
        "         'Passat',\n",
        "         'Diesel engine',\n",
        "         1991,\n",
        "         True,\n",
        "         ['Multimedia centre', 'Panoramic roof', 'ABS brakes']\n",
        "     ]\n",
        "]"
      ],
      "metadata": {
        "id": "rH3C_flsVOn7"
      },
      "execution_count": null,
      "outputs": []
    },
    {
      "cell_type": "code",
      "source": [
        "exercice_cars[1][3]"
      ],
      "metadata": {
        "colab": {
          "base_uri": "https://localhost:8080/"
        },
        "id": "YX-M1etmVQ2P",
        "outputId": "622e636f-6c9c-487d-d84b-6cd61e0fe179"
      },
      "execution_count": null,
      "outputs": [
        {
          "output_type": "execute_result",
          "data": {
            "text/plain": [
              "True"
            ]
          },
          "metadata": {},
          "execution_count": 167
        }
      ]
    },
    {
      "cell_type": "code",
      "source": [
        "exercice_cars[1][-1][-2]"
      ],
      "metadata": {
        "colab": {
          "base_uri": "https://localhost:8080/",
          "height": 35
        },
        "id": "Am-88TMZWI76",
        "outputId": "1afa4460-4288-4b33-ac13-634e12c1b061"
      },
      "execution_count": null,
      "outputs": [
        {
          "output_type": "execute_result",
          "data": {
            "text/plain": [
              "'Panoramic roof'"
            ],
            "application/vnd.google.colaboratory.intrinsic+json": {
              "type": "string"
            }
          },
          "metadata": {},
          "execution_count": 168
        }
      ]
    },
    {
      "cell_type": "code",
      "source": [
        "exercice_cars[0][-1]"
      ],
      "metadata": {
        "colab": {
          "base_uri": "https://localhost:8080/"
        },
        "id": "qBd69PMZWKPv",
        "outputId": "a0b5fdd0-31b7-46e9-886a-ddc162ed156e"
      },
      "execution_count": null,
      "outputs": [
        {
          "output_type": "execute_result",
          "data": {
            "text/plain": [
              "['Alloy wheels', 'Power locks', 'Autopilot']"
            ]
          },
          "metadata": {},
          "execution_count": 169
        }
      ]
    },
    {
      "cell_type": "markdown",
      "metadata": {
        "id": "R-S-LCPGltn0"
      },
      "source": [
        "# 3.4 List methods\n",
        "\n",
        "https://docs.python.org/3.6/library/stdtypes.html#mutable-sequence-types"
      ]
    },
    {
      "cell_type": "code",
      "source": [
        "accessories = ['Alloy wheels', 'Power locks', 'Autopilot', 'Leather seats', 'Air conditioning', 'Parking sensor', 'Twilight sensor', 'Rain sensor']"
      ],
      "metadata": {
        "id": "5pbqtn04WnLB"
      },
      "execution_count": null,
      "outputs": []
    },
    {
      "cell_type": "markdown",
      "metadata": {
        "id": "j9s2OyyPltn1"
      },
      "source": [
        "## *A.sort()*\n",
        "\n",
        "Sort the *A* list."
      ]
    },
    {
      "cell_type": "code",
      "execution_count": null,
      "metadata": {
        "id": "A2dJGhFsltn1"
      },
      "outputs": [],
      "source": [
        "accessories.sort()"
      ]
    },
    {
      "cell_type": "code",
      "execution_count": null,
      "metadata": {
        "id": "VDWCHlTcltn2",
        "colab": {
          "base_uri": "https://localhost:8080/"
        },
        "outputId": "544899ec-1b82-421f-c045-c3e908f8d0ea"
      },
      "outputs": [
        {
          "output_type": "execute_result",
          "data": {
            "text/plain": [
              "['Air conditioning',\n",
              " 'Alloy wheels',\n",
              " 'Autopilot',\n",
              " 'Leather seats',\n",
              " 'Parking sensor',\n",
              " 'Power locks',\n",
              " 'Rain sensor',\n",
              " 'Twilight sensor']"
            ]
          },
          "metadata": {},
          "execution_count": 176
        }
      ],
      "source": [
        "accessories"
      ]
    },
    {
      "cell_type": "markdown",
      "metadata": {
        "id": "N9Spp7-xltn3"
      },
      "source": [
        "## *A.append(x)*\n",
        "\n",
        "Add the *x* element to the end of the *A* list."
      ]
    },
    {
      "cell_type": "code",
      "execution_count": null,
      "metadata": {
        "id": "l7I_U-sRltn4"
      },
      "outputs": [],
      "source": [
        "accessories.append('4 x 4')"
      ]
    },
    {
      "cell_type": "code",
      "source": [
        "accessories"
      ],
      "metadata": {
        "colab": {
          "base_uri": "https://localhost:8080/"
        },
        "id": "QZqaqpnkW8sG",
        "outputId": "bf45494c-3e6a-4981-9c71-dc582a2e5461"
      },
      "execution_count": null,
      "outputs": [
        {
          "output_type": "execute_result",
          "data": {
            "text/plain": [
              "['Air conditioning',\n",
              " 'Alloy wheels',\n",
              " 'Autopilot',\n",
              " 'Leather seats',\n",
              " 'Parking sensor',\n",
              " 'Power locks',\n",
              " 'Rain sensor',\n",
              " 'Twilight sensor',\n",
              " '4 x 4']"
            ]
          },
          "metadata": {},
          "execution_count": 178
        }
      ]
    },
    {
      "cell_type": "markdown",
      "metadata": {
        "id": "eiP3oACPltn6"
      },
      "source": [
        "## *A.pop(i)*\n",
        "\n",
        "Removes and returns index element i from list *A*.\n",
        "\n",
        "<font color=red>**Note:**</font> By *default* the *pop()* method removes and returns the last element of a list."
      ]
    },
    {
      "cell_type": "code",
      "execution_count": null,
      "metadata": {
        "id": "BoCKa5Hqltn6",
        "colab": {
          "base_uri": "https://localhost:8080/",
          "height": 35
        },
        "outputId": "f1eb6eaf-aa6d-4a45-dcfa-3d112e386dad"
      },
      "outputs": [
        {
          "output_type": "execute_result",
          "data": {
            "text/plain": [
              "'4 x 4'"
            ],
            "application/vnd.google.colaboratory.intrinsic+json": {
              "type": "string"
            }
          },
          "metadata": {},
          "execution_count": 179
        }
      ],
      "source": [
        "accessories.pop()"
      ]
    },
    {
      "cell_type": "code",
      "execution_count": null,
      "metadata": {
        "id": "GfGX1jw-ltn9",
        "colab": {
          "base_uri": "https://localhost:8080/",
          "height": 35
        },
        "outputId": "638c9c79-750c-43e8-a247-146d62980bc1"
      },
      "outputs": [
        {
          "output_type": "execute_result",
          "data": {
            "text/plain": [
              "'Leather seats'"
            ],
            "application/vnd.google.colaboratory.intrinsic+json": {
              "type": "string"
            }
          },
          "metadata": {},
          "execution_count": 180
        }
      ],
      "source": [
        "accessories.pop(3)"
      ]
    },
    {
      "cell_type": "code",
      "execution_count": null,
      "metadata": {
        "id": "tppe9tqbltn-",
        "colab": {
          "base_uri": "https://localhost:8080/"
        },
        "outputId": "8cdad5db-8837-4e0a-c12c-ffc0a0fc2535"
      },
      "outputs": [
        {
          "output_type": "execute_result",
          "data": {
            "text/plain": [
              "['Air conditioning',\n",
              " 'Alloy wheels',\n",
              " 'Autopilot',\n",
              " 'Parking sensor',\n",
              " 'Power locks',\n",
              " 'Rain sensor',\n",
              " 'Twilight sensor']"
            ]
          },
          "metadata": {},
          "execution_count": 188
        }
      ],
      "source": [
        "accessories"
      ]
    },
    {
      "cell_type": "markdown",
      "metadata": {
        "id": "NySIp62hltoC"
      },
      "source": [
        "## *A.copy()*\n",
        "\n",
        "Creates a copy of the *A* list.\n",
        "\n",
        "<font color=red>**Note:**</font> The same result can be obtained with the following code:\n",
        "```\n",
        "A[:]\n",
        "```"
      ]
    },
    {
      "cell_type": "code",
      "execution_count": null,
      "metadata": {
        "id": "yP9ODygcltoC"
      },
      "outputs": [],
      "source": [
        "accessories_copy = accessories.copy()"
      ]
    },
    {
      "cell_type": "code",
      "execution_count": null,
      "metadata": {
        "id": "W3eQdVWkltoF",
        "colab": {
          "base_uri": "https://localhost:8080/",
          "height": 35
        },
        "outputId": "37d09f90-dd0d-421e-b61e-22cebe72b614"
      },
      "outputs": [
        {
          "output_type": "execute_result",
          "data": {
            "text/plain": [
              "'Twilight sensor'"
            ],
            "application/vnd.google.colaboratory.intrinsic+json": {
              "type": "string"
            }
          },
          "metadata": {},
          "execution_count": 184
        }
      ],
      "source": [
        "accessories_copy.pop()"
      ]
    },
    {
      "cell_type": "code",
      "execution_count": null,
      "metadata": {
        "id": "OVbvjjmdltoG"
      },
      "outputs": [],
      "source": [
        "accessories_copy.append('4 x 4')"
      ]
    },
    {
      "cell_type": "code",
      "execution_count": null,
      "metadata": {
        "id": "P-MN1JfAltoH",
        "colab": {
          "base_uri": "https://localhost:8080/"
        },
        "outputId": "94d0d3f4-c1cc-40a0-d1c6-ca520c1e8d5e"
      },
      "outputs": [
        {
          "output_type": "execute_result",
          "data": {
            "text/plain": [
              "['Air conditioning',\n",
              " 'Alloy wheels',\n",
              " 'Autopilot',\n",
              " 'Parking sensor',\n",
              " 'Power locks',\n",
              " 'Rain sensor',\n",
              " 'Twilight sensor']"
            ]
          },
          "metadata": {},
          "execution_count": 186
        }
      ],
      "source": [
        "accessories"
      ]
    },
    {
      "cell_type": "code",
      "execution_count": null,
      "metadata": {
        "id": "ZVQ38eqVltoJ",
        "colab": {
          "base_uri": "https://localhost:8080/"
        },
        "outputId": "f99702b1-f22a-4737-81f4-9f529c3a1567"
      },
      "outputs": [
        {
          "output_type": "execute_result",
          "data": {
            "text/plain": [
              "['Air conditioning',\n",
              " 'Alloy wheels',\n",
              " 'Autopilot',\n",
              " 'Parking sensor',\n",
              " 'Power locks',\n",
              " 'Rain sensor',\n",
              " '4 x 4']"
            ]
          },
          "metadata": {},
          "execution_count": 187
        }
      ],
      "source": [
        "accessories_copy"
      ]
    },
    {
      "cell_type": "code",
      "source": [
        "new_list = accessories + accessories_copy\n",
        "new_list.sort()"
      ],
      "metadata": {
        "id": "P4VuQod7YFTS"
      },
      "execution_count": null,
      "outputs": []
    },
    {
      "cell_type": "code",
      "source": [
        "new_list"
      ],
      "metadata": {
        "colab": {
          "base_uri": "https://localhost:8080/"
        },
        "id": "VNHgqcmZYSN_",
        "outputId": "3697a07e-8dd3-4df5-a789-5beda44ab5a3"
      },
      "execution_count": null,
      "outputs": [
        {
          "output_type": "execute_result",
          "data": {
            "text/plain": [
              "['4 x 4',\n",
              " 'Air conditioning',\n",
              " 'Air conditioning',\n",
              " 'Alloy wheels',\n",
              " 'Alloy wheels',\n",
              " 'Autopilot',\n",
              " 'Autopilot',\n",
              " 'Parking sensor',\n",
              " 'Parking sensor',\n",
              " 'Power locks',\n",
              " 'Power locks',\n",
              " 'Rain sensor',\n",
              " 'Rain sensor',\n",
              " 'Twilight sensor']"
            ]
          },
          "metadata": {},
          "execution_count": 192
        }
      ]
    },
    {
      "cell_type": "markdown",
      "source": [
        "### Elaborations with lists\n",
        "#### Exercice"
      ],
      "metadata": {
        "id": "hoEeHG6RYoTw"
      }
    },
    {
      "cell_type": "code",
      "source": [
        "accessories = [\n",
        "     'Alloy wheels',\n",
        "     'Electric Locks',\n",
        "     'Automatic pilot',\n",
        "     'Leather Seats',\n",
        "     'Air conditioning'\n",
        "]"
      ],
      "metadata": {
        "id": "tA9wkRC1YtFI"
      },
      "execution_count": null,
      "outputs": []
    },
    {
      "cell_type": "code",
      "source": [
        "accessories.append('Airbag')\n",
        "accessories.sort()\n",
        "accessories.pop()\n",
        "accessories.append('Electric windows')\n",
        "accessories"
      ],
      "metadata": {
        "colab": {
          "base_uri": "https://localhost:8080/"
        },
        "id": "LubGsYxJYwfa",
        "outputId": "cbfbef22-67c5-448b-a5de-8eb07056688b"
      },
      "execution_count": null,
      "outputs": [
        {
          "output_type": "execute_result",
          "data": {
            "text/plain": [
              "['Air conditioning',\n",
              " 'Airbag',\n",
              " 'Alloy wheels',\n",
              " 'Automatic pilot',\n",
              " 'Electric Locks',\n",
              " 'Electric windows']"
            ]
          },
          "metadata": {},
          "execution_count": 202
        }
      ]
    },
    {
      "cell_type": "markdown",
      "metadata": {
        "id": "8zMZNsg2ltoU"
      },
      "source": [
        "# <font color=green> 4. REPETITION AND CONDITIONAL STRUCTURES\n",
        "---"
      ]
    },
    {
      "cell_type": "markdown",
      "metadata": {
        "id": "gxUmCLyJltoU"
      },
      "source": [
        "# 4.1 *For* instruction\n",
        "\n",
        "#### Standard format\n",
        "\n",
        "```\n",
        "for <variable> in <collection>:\n",
        "    <instruction>\n",
        "```"
      ]
    },
    {
      "cell_type": "markdown",
      "metadata": {
        "id": "Irl5oa0altoU"
      },
      "source": [
        "### Loops with lists"
      ]
    },
    {
      "cell_type": "code",
      "execution_count": null,
      "metadata": {
        "id": "E1LZ5n25ltoV"
      },
      "outputs": [],
      "source": [
        "accessories = ['Alloy wheels', 'Power locks', 'Autopilot', 'Leather seats', 'Air conditioning', 'Parking sensor', 'Twilight sensor', 'Rain sensor']"
      ]
    },
    {
      "cell_type": "code",
      "execution_count": null,
      "metadata": {
        "id": "Z459QqsFltoY",
        "colab": {
          "base_uri": "https://localhost:8080/"
        },
        "outputId": "1af063af-e986-446a-97b0-1357cca384ff"
      },
      "outputs": [
        {
          "output_type": "stream",
          "name": "stdout",
          "text": [
            "Alloy wheels\n",
            "Power locks\n",
            "Autopilot\n",
            "Leather seats\n",
            "Air conditioning\n",
            "Parking sensor\n",
            "Twilight sensor\n",
            "Rain sensor\n"
          ]
        }
      ],
      "source": [
        "for item in accessories:\n",
        "  print(item)"
      ]
    },
    {
      "cell_type": "markdown",
      "metadata": {
        "id": "Gbztj9T4ltoZ"
      },
      "source": [
        "###  List comprehensions\n",
        "\n",
        "https://docs.python.org/3.6/tutorial/datastructures.html#list-comprehensions"
      ]
    },
    {
      "cell_type": "markdown",
      "metadata": {
        "id": "4Y8g0cSHjbof"
      },
      "source": [
        "*range()* -> https://docs.python.org/3.6/library/functions.html#func-range"
      ]
    },
    {
      "cell_type": "code",
      "execution_count": null,
      "metadata": {
        "id": "xDo9TLdYltoZ",
        "colab": {
          "base_uri": "https://localhost:8080/"
        },
        "outputId": "b994a231-f4e4-430f-90b8-5376a42e1e5e"
      },
      "outputs": [
        {
          "output_type": "execute_result",
          "data": {
            "text/plain": [
              "range(0, 10)"
            ]
          },
          "metadata": {},
          "execution_count": 3
        }
      ],
      "source": [
        "range(10)"
      ]
    },
    {
      "cell_type": "code",
      "execution_count": null,
      "metadata": {
        "id": "V12p_CQBltoc",
        "colab": {
          "base_uri": "https://localhost:8080/"
        },
        "outputId": "586d7049-680c-4273-8679-6b91b2d94d5c"
      },
      "outputs": [
        {
          "output_type": "execute_result",
          "data": {
            "text/plain": [
              "[0, 1, 2, 3, 4, 5, 6, 7, 8, 9]"
            ]
          },
          "metadata": {},
          "execution_count": 4
        }
      ],
      "source": [
        "list(range(10))"
      ]
    },
    {
      "cell_type": "code",
      "execution_count": null,
      "metadata": {
        "id": "OOzHHRWHltof",
        "colab": {
          "base_uri": "https://localhost:8080/"
        },
        "outputId": "5217c021-b988-4026-e157-5b443e14df1c"
      },
      "outputs": [
        {
          "output_type": "stream",
          "name": "stdout",
          "text": [
            "0\n",
            "1\n",
            "4\n",
            "9\n",
            "16\n",
            "25\n",
            "36\n",
            "49\n",
            "64\n",
            "81\n"
          ]
        }
      ],
      "source": [
        "for i in range(10):\n",
        "  print(i ** 2)"
      ]
    },
    {
      "cell_type": "code",
      "execution_count": null,
      "metadata": {
        "id": "TKynwnxgltog",
        "colab": {
          "base_uri": "https://localhost:8080/"
        },
        "outputId": "5b6a1ac3-785b-44b3-e982-15d6ddf2892f"
      },
      "outputs": [
        {
          "output_type": "execute_result",
          "data": {
            "text/plain": [
              "[0, 1, 4, 9, 16, 25, 36, 49, 64, 81]"
            ]
          },
          "metadata": {},
          "execution_count": 6
        }
      ],
      "source": [
        "square = []\n",
        "\n",
        "for i in range(10):\n",
        "  square.append(i ** 2)\n",
        "\n",
        "square"
      ]
    },
    {
      "cell_type": "code",
      "execution_count": null,
      "metadata": {
        "id": "d77YH_dVltoh",
        "colab": {
          "base_uri": "https://localhost:8080/"
        },
        "outputId": "853f114b-0149-4c6c-db49-a1180e46077e"
      },
      "outputs": [
        {
          "output_type": "execute_result",
          "data": {
            "text/plain": [
              "[0, 1, 4, 9, 16, 25, 36, 49, 64, 81]"
            ]
          },
          "metadata": {},
          "execution_count": 8
        }
      ],
      "source": [
        "square = [i ** 2 for i in range(10)]\n",
        "square"
      ]
    },
    {
      "cell_type": "markdown",
      "metadata": {
        "id": "AcAcaKFXltom"
      },
      "source": [
        "# 4.2 Nested loops"
      ]
    },
    {
      "cell_type": "code",
      "execution_count": null,
      "metadata": {
        "id": "mjgJCo3dlton",
        "colab": {
          "base_uri": "https://localhost:8080/"
        },
        "outputId": "acb353ac-a600-471d-b6e3-c47e0072719b"
      },
      "outputs": [
        {
          "output_type": "execute_result",
          "data": {
            "text/plain": [
              "[['Alloy wheels',\n",
              "  'Power locks',\n",
              "  'Autopilot',\n",
              "  'Leather seats',\n",
              "  'Air conditioning',\n",
              "  'Parking sensor',\n",
              "  'Twilight sensor',\n",
              "  'Rain sensor'],\n",
              " ['Multimedia center',\n",
              "  'Panoramic roof',\n",
              "  'ABS brakes',\n",
              "  '4 X 4',\n",
              "  'Digital panel',\n",
              "  'Autopilot',\n",
              "  'Leather seats',\n",
              "  'Parking camera'],\n",
              " ['Autopilot',\n",
              "  'Stability control',\n",
              "  'Twilight sensor',\n",
              "  'ABS brakes',\n",
              "  'Automatic transmission',\n",
              "  'Leather seats',\n",
              "  'Multimedia center',\n",
              "  'Power windows']]"
            ]
          },
          "metadata": {},
          "execution_count": 9
        }
      ],
      "source": [
        "data = [\n",
        "     ['Alloy wheels', 'Power locks', 'Autopilot', 'Leather seats', 'Air conditioning', 'Parking sensor', 'Twilight sensor', 'Rain sensor'],\n",
        "     ['Multimedia center', 'Panoramic roof', 'ABS brakes', '4 X 4', 'Digital panel', 'Autopilot', 'Leather seats', 'Parking camera'],\n",
        "     ['Autopilot', 'Stability control', 'Twilight sensor', 'ABS brakes', 'Automatic transmission', 'Leather seats', 'Multimedia center', 'Power windows']\n",
        "]\n",
        "data"
      ]
    },
    {
      "cell_type": "code",
      "execution_count": null,
      "metadata": {
        "id": "pLgxwApVltop",
        "colab": {
          "base_uri": "https://localhost:8080/"
        },
        "outputId": "f5ed5120-2597-4d5e-b062-5fe535a1c82a"
      },
      "outputs": [
        {
          "output_type": "stream",
          "name": "stdout",
          "text": [
            "['Alloy wheels', 'Power locks', 'Autopilot', 'Leather seats', 'Air conditioning', 'Parking sensor', 'Twilight sensor', 'Rain sensor']\n",
            "['Multimedia center', 'Panoramic roof', 'ABS brakes', '4 X 4', 'Digital panel', 'Autopilot', 'Leather seats', 'Parking camera']\n",
            "['Autopilot', 'Stability control', 'Twilight sensor', 'ABS brakes', 'Automatic transmission', 'Leather seats', 'Multimedia center', 'Power windows']\n"
          ]
        }
      ],
      "source": [
        "for lists in data:\n",
        "  print(lists)"
      ]
    },
    {
      "cell_type": "code",
      "execution_count": null,
      "metadata": {
        "id": "OYnDRvcYltor",
        "colab": {
          "base_uri": "https://localhost:8080/"
        },
        "outputId": "fef4b3a8-8b14-4c32-aa16-1a84a4b01198"
      },
      "outputs": [
        {
          "output_type": "stream",
          "name": "stdout",
          "text": [
            "Alloy wheels\n",
            "Power locks\n",
            "Autopilot\n",
            "Leather seats\n",
            "Air conditioning\n",
            "Parking sensor\n",
            "Twilight sensor\n",
            "Rain sensor\n",
            "Multimedia center\n",
            "Panoramic roof\n",
            "ABS brakes\n",
            "4 X 4\n",
            "Digital panel\n",
            "Autopilot\n",
            "Leather seats\n",
            "Parking camera\n",
            "Autopilot\n",
            "Stability control\n",
            "Twilight sensor\n",
            "ABS brakes\n",
            "Automatic transmission\n",
            "Leather seats\n",
            "Multimedia center\n",
            "Power windows\n"
          ]
        }
      ],
      "source": [
        "for lists in data:\n",
        "  for item in lists:\n",
        "    print(item)"
      ]
    },
    {
      "cell_type": "code",
      "execution_count": null,
      "metadata": {
        "id": "DbJa5_cJltos",
        "colab": {
          "base_uri": "https://localhost:8080/"
        },
        "outputId": "f861cc12-2416-468f-d709-dfa3d75c7e97"
      },
      "outputs": [
        {
          "output_type": "execute_result",
          "data": {
            "text/plain": [
              "['Alloy wheels',\n",
              " 'Power locks',\n",
              " 'Autopilot',\n",
              " 'Leather seats',\n",
              " 'Air conditioning',\n",
              " 'Parking sensor',\n",
              " 'Twilight sensor',\n",
              " 'Rain sensor',\n",
              " 'Multimedia center',\n",
              " 'Panoramic roof',\n",
              " 'ABS brakes',\n",
              " '4 X 4',\n",
              " 'Digital panel',\n",
              " 'Autopilot',\n",
              " 'Leather seats',\n",
              " 'Parking camera',\n",
              " 'Autopilot',\n",
              " 'Stability control',\n",
              " 'Twilight sensor',\n",
              " 'ABS brakes',\n",
              " 'Automatic transmission',\n",
              " 'Leather seats',\n",
              " 'Multimedia center',\n",
              " 'Power windows']"
            ]
          },
          "metadata": {},
          "execution_count": 14
        }
      ],
      "source": [
        "accessories = []\n",
        "\n",
        "for lists in data:\n",
        "  for item in lists:\n",
        "    accessories.append(item)\n",
        "\n",
        "accessories"
      ]
    },
    {
      "cell_type": "markdown",
      "metadata": {
        "id": "RrGAOy1rn1Dj"
      },
      "source": [
        "## *set()*\n",
        "\n",
        "https://docs.python.org/3.6/library/stdtypes.html#types-set\n",
        "\n",
        "https://docs.python.org/3.6/library/functions.html#func-set"
      ]
    },
    {
      "cell_type": "code",
      "execution_count": null,
      "metadata": {
        "id": "CuB-9ClSltos",
        "colab": {
          "base_uri": "https://localhost:8080/"
        },
        "outputId": "0411bbef-29e8-43ab-f984-bfced60ab914"
      },
      "outputs": [
        {
          "output_type": "execute_result",
          "data": {
            "text/plain": [
              "{'4 X 4',\n",
              " 'ABS brakes',\n",
              " 'Air conditioning',\n",
              " 'Alloy wheels',\n",
              " 'Automatic transmission',\n",
              " 'Autopilot',\n",
              " 'Digital panel',\n",
              " 'Leather seats',\n",
              " 'Multimedia center',\n",
              " 'Panoramic roof',\n",
              " 'Parking camera',\n",
              " 'Parking sensor',\n",
              " 'Power locks',\n",
              " 'Power windows',\n",
              " 'Rain sensor',\n",
              " 'Stability control',\n",
              " 'Twilight sensor'}"
            ]
          },
          "metadata": {},
          "execution_count": 18
        }
      ],
      "source": [
        "accessories_distinct = set(accessories)\n",
        "accessories_distinct"
      ]
    },
    {
      "cell_type": "code",
      "source": [
        "list(accessories_distinct)"
      ],
      "metadata": {
        "colab": {
          "base_uri": "https://localhost:8080/"
        },
        "id": "yFBR1y_-CF-h",
        "outputId": "b7e7f236-0674-4483-b5ea-fe02c8c5b70e"
      },
      "execution_count": null,
      "outputs": [
        {
          "output_type": "execute_result",
          "data": {
            "text/plain": [
              "['Panoramic roof',\n",
              " '4 X 4',\n",
              " 'Parking sensor',\n",
              " 'Digital panel',\n",
              " 'ABS brakes',\n",
              " 'Stability control',\n",
              " 'Automatic transmission',\n",
              " 'Rain sensor',\n",
              " 'Alloy wheels',\n",
              " 'Parking camera',\n",
              " 'Leather seats',\n",
              " 'Power locks',\n",
              " 'Multimedia center',\n",
              " 'Power windows',\n",
              " 'Autopilot',\n",
              " 'Air conditioning',\n",
              " 'Twilight sensor']"
            ]
          },
          "metadata": {},
          "execution_count": 19
        }
      ]
    },
    {
      "cell_type": "markdown",
      "metadata": {
        "id": "9hHKKABhltot"
      },
      "source": [
        "### List comprehensions"
      ]
    },
    {
      "cell_type": "code",
      "execution_count": null,
      "metadata": {
        "id": "T6t79LTlltot",
        "colab": {
          "base_uri": "https://localhost:8080/"
        },
        "outputId": "292aea4f-f62c-4f5a-8a30-6390b4b686ca"
      },
      "outputs": [
        {
          "output_type": "execute_result",
          "data": {
            "text/plain": [
              "['Alloy wheels',\n",
              " 'Power locks',\n",
              " 'Autopilot',\n",
              " 'Leather seats',\n",
              " 'Air conditioning',\n",
              " 'Parking sensor',\n",
              " 'Twilight sensor',\n",
              " 'Rain sensor',\n",
              " 'Multimedia center',\n",
              " 'Panoramic roof',\n",
              " 'ABS brakes',\n",
              " '4 X 4',\n",
              " 'Digital panel',\n",
              " 'Autopilot',\n",
              " 'Leather seats',\n",
              " 'Parking camera',\n",
              " 'Autopilot',\n",
              " 'Stability control',\n",
              " 'Twilight sensor',\n",
              " 'ABS brakes',\n",
              " 'Automatic transmission',\n",
              " 'Leather seats',\n",
              " 'Multimedia center',\n",
              " 'Power windows']"
            ]
          },
          "metadata": {},
          "execution_count": 20
        }
      ],
      "source": [
        "[item for lists in data for item in lists]"
      ]
    },
    {
      "cell_type": "code",
      "source": [
        "list(set([item for lists in data for item in lists]))\n",
        "\n",
        "# OR\n",
        "all_items = [item for lists in data for item in lists]\n",
        "distinct_items = set(all_items)\n",
        "items = list(distinct_items)"
      ],
      "metadata": {
        "id": "dg5_EF1oC8Dx"
      },
      "execution_count": null,
      "outputs": []
    },
    {
      "cell_type": "markdown",
      "source": [
        "### Iterating through lists of lists\n",
        "#### Exercise"
      ],
      "metadata": {
        "id": "xV-GOPxuGy96"
      }
    },
    {
      "cell_type": "code",
      "source": [
        "data_exercise = [ \n",
        "    ['A', 'B', 'C'],\n",
        "    ['D', 'E', 'F'],\n",
        "    ['G', 'H', 'I']\n",
        "]"
      ],
      "metadata": {
        "id": "l-YnQcC2G4JL"
      },
      "execution_count": null,
      "outputs": []
    },
    {
      "cell_type": "code",
      "source": [
        "result_2 = []\n",
        "for lists in data_exercise:\n",
        "    result_2 += lists\n",
        "result_2"
      ],
      "metadata": {
        "colab": {
          "base_uri": "https://localhost:8080/"
        },
        "id": "fRdy87QfHBY3",
        "outputId": "af8d413e-296a-41ae-ff59-3afe2c29005f"
      },
      "execution_count": null,
      "outputs": [
        {
          "output_type": "execute_result",
          "data": {
            "text/plain": [
              "['A', 'B', 'C', 'D', 'E', 'F', 'G', 'H', 'I']"
            ]
          },
          "metadata": {},
          "execution_count": 37
        }
      ]
    },
    {
      "cell_type": "code",
      "source": [
        "result_2 = []\n",
        "for lists in data_exercise:\n",
        "    result_2 += lists\n",
        "result_2"
      ],
      "metadata": {
        "colab": {
          "base_uri": "https://localhost:8080/"
        },
        "id": "hJACQ9yOHIP_",
        "outputId": "e5bdbf0d-7551-4d69-83f4-11ede0931897"
      },
      "execution_count": null,
      "outputs": [
        {
          "output_type": "execute_result",
          "data": {
            "text/plain": [
              "['A', 'B', 'C', 'D', 'E', 'F', 'G', 'H', 'I']"
            ]
          },
          "metadata": {},
          "execution_count": 39
        }
      ]
    },
    {
      "cell_type": "code",
      "source": [
        "[item for lists in data_exercise for item in lists]"
      ],
      "metadata": {
        "colab": {
          "base_uri": "https://localhost:8080/"
        },
        "id": "hoWZb1myHZ1V",
        "outputId": "71223231-c2f0-4004-f049-46dcd59d3d2e"
      },
      "execution_count": null,
      "outputs": [
        {
          "output_type": "execute_result",
          "data": {
            "text/plain": [
              "['A', 'B', 'C', 'D', 'E', 'F', 'G', 'H', 'I']"
            ]
          },
          "metadata": {},
          "execution_count": 40
        }
      ]
    },
    {
      "cell_type": "markdown",
      "metadata": {
        "id": "cJ4fPdj5ltou"
      },
      "source": [
        "# 4.3 *if* statement\n",
        "\n",
        "#### Standard format\n",
        "\n",
        "```\n",
        "if <condition>:\n",
        "     <statements if the condition is true>\n",
        "```"
      ]
    },
    {
      "cell_type": "markdown",
      "metadata": {
        "id": "bqOYDJiWltou"
      },
      "source": [
        "### Comparison operators: $==$, $!=$, $>$, $<$, $>=$, $<=$\n",
        "### AND\n",
        "### Logical operators: $and$, $or$, $not$"
      ]
    },
    {
      "cell_type": "code",
      "execution_count": null,
      "metadata": {
        "id": "5eY_XPmrltov",
        "colab": {
          "base_uri": "https://localhost:8080/"
        },
        "outputId": "adfc9ed7-e560-4988-99da-77cf1f577086"
      },
      "outputs": [
        {
          "output_type": "execute_result",
          "data": {
            "text/plain": [
              "[['Jetta Variant', 2003, False],\n",
              " ['Passat', 1991, False],\n",
              " ['Crossfox', 1990, False],\n",
              " ['DS5', 2019, True],\n",
              " ['Aston Martin DB4', 2006, False],\n",
              " ['Palio Weekend', 2012, False],\n",
              " ['A5', 2019, True],\n",
              " ['Série 3 Cabrio', 2009, False],\n",
              " ['Dodge Jorney', 2019, False],\n",
              " ['Carens', 2011, False],\n",
              " ['Corolla', 2021, True]]"
            ]
          },
          "metadata": {},
          "execution_count": 104
        }
      ],
      "source": [
        "# 1st item on the list - Vehicle name\n",
        "# 2nd item on the list - Year of manufacture\n",
        "# 3rd item on the list - Vehicle is zero km?\n",
        "\n",
        "data = [\n",
        "    ['Jetta Variant', 2003, False],\n",
        "    ['Passat', 1991, False],\n",
        "    ['Crossfox', 1990, False],\n",
        "    ['DS5', 2019, True],\n",
        "    ['Aston Martin DB4', 2006, False],\n",
        "    ['Palio Weekend', 2012, False],\n",
        "    ['A5', 2019, True],\n",
        "    ['Série 3 Cabrio', 2009, False],\n",
        "    ['Dodge Jorney', 2019, False],\n",
        "    ['Carens', 2011, False],\n",
        "    ['Corolla', 2021, True]\n",
        "]\n",
        "data"
      ]
    },
    {
      "cell_type": "code",
      "execution_count": null,
      "metadata": {
        "id": "nyb0iDH1ltoy",
        "colab": {
          "base_uri": "https://localhost:8080/"
        },
        "outputId": "04dd97ce-ad0d-47d5-de1c-027de570758a"
      },
      "outputs": [
        {
          "output_type": "stream",
          "name": "stdout",
          "text": [
            "['DS5', 2019, True]\n",
            "['A5', 2019, True]\n",
            "['Corolla', 2021, True]\n"
          ]
        }
      ],
      "source": [
        "for vehicle in data:\n",
        "  if vehicle[-1]:\n",
        "    print(vehicle)"
      ]
    },
    {
      "cell_type": "code",
      "execution_count": null,
      "metadata": {
        "id": "5MlITJppltoy",
        "colab": {
          "base_uri": "https://localhost:8080/"
        },
        "outputId": "e714f694-7c8f-47da-8ed3-3f88a83607f1"
      },
      "outputs": [
        {
          "output_type": "execute_result",
          "data": {
            "text/plain": [
              "[['DS5', 2019, True], ['A5', 2019, True], ['Corolla', 2021, True]]"
            ]
          },
          "metadata": {},
          "execution_count": 106
        }
      ],
      "source": [
        "brand_new_car = []\n",
        "\n",
        "for vehicle in data:\n",
        "  if vehicle[2]:\n",
        "    brand_new_car.append(vehicle)\n",
        "\n",
        "brand_new_car"
      ]
    },
    {
      "cell_type": "code",
      "source": [
        "used_car = []\n",
        "\n",
        "for vehicle in data:\n",
        "  if not vehicle[2]:\n",
        "    used_car.append(vehicle)\n",
        "\n",
        "used_car"
      ],
      "metadata": {
        "colab": {
          "base_uri": "https://localhost:8080/"
        },
        "id": "S6oc5EAMKY0L",
        "outputId": "1c0a66dd-ec36-4b00-9f18-0b50ec20738d"
      },
      "execution_count": null,
      "outputs": [
        {
          "output_type": "execute_result",
          "data": {
            "text/plain": [
              "[['Jetta Variant', 2003, False],\n",
              " ['Passat', 1991, False],\n",
              " ['Crossfox', 1990, False],\n",
              " ['Aston Martin DB4', 2006, False],\n",
              " ['Palio Weekend', 2012, False],\n",
              " ['Série 3 Cabrio', 2009, False],\n",
              " ['Dodge Jorney', 2019, False],\n",
              " ['Carens', 2011, False]]"
            ]
          },
          "metadata": {},
          "execution_count": 107
        }
      ]
    },
    {
      "cell_type": "markdown",
      "metadata": {
        "id": "51Js0kXD0aRH"
      },
      "source": [
        "### List comprehensions"
      ]
    },
    {
      "cell_type": "code",
      "execution_count": null,
      "metadata": {
        "id": "Ly4QUX5J0aRI",
        "colab": {
          "base_uri": "https://localhost:8080/"
        },
        "outputId": "086b2bdd-b640-4871-bfa6-b4921a698662"
      },
      "outputs": [
        {
          "output_type": "execute_result",
          "data": {
            "text/plain": [
              "[['DS5', 2019, True], ['A5', 2019, True], ['Corolla', 2021, True]]"
            ]
          },
          "metadata": {},
          "execution_count": 108
        }
      ],
      "source": [
        "[vehicle for vehicle in data if vehicle[2]]"
      ]
    },
    {
      "cell_type": "code",
      "source": [
        "[vehicle for vehicle in data if not vehicle[2]]"
      ],
      "metadata": {
        "colab": {
          "base_uri": "https://localhost:8080/"
        },
        "id": "RydEIxlqL935",
        "outputId": "6eed2a61-801f-4387-f698-cc0f647595c4"
      },
      "execution_count": null,
      "outputs": [
        {
          "output_type": "execute_result",
          "data": {
            "text/plain": [
              "[['Jetta Variant', 2003, False],\n",
              " ['Passat', 1991, False],\n",
              " ['Crossfox', 1990, False],\n",
              " ['Aston Martin DB4', 2006, False],\n",
              " ['Palio Weekend', 2012, False],\n",
              " ['Série 3 Cabrio', 2009, False],\n",
              " ['Dodge Jorney', 2019, False],\n",
              " ['Carens', 2011, False]]"
            ]
          },
          "metadata": {},
          "execution_count": 109
        }
      ]
    },
    {
      "cell_type": "markdown",
      "metadata": {
        "id": "CKjrvO5Tltoz"
      },
      "source": [
        "# 4.4 Instructions *if-else* and *if-elif-else*\n",
        "\n",
        "#### Standard format\n",
        "\n",
        "```\n",
        "if <condition>:\n",
        "    <statements if the condition is true>\n",
        "else:\n",
        "    <instructions if the condition is not true>\n",
        "```"
      ]
    },
    {
      "cell_type": "code",
      "execution_count": null,
      "metadata": {
        "id": "K_VORb47ltoz"
      },
      "outputs": [],
      "source": [
        "brand_new_car =[]\n",
        "used_car = []\n",
        "\n",
        "for vehicle in data:\n",
        "  if vehicle[2]:\n",
        "    brand_new_car.append(vehicle)\n",
        "  else:\n",
        "    used_car.append(vehicle)"
      ]
    },
    {
      "cell_type": "code",
      "execution_count": null,
      "metadata": {
        "id": "vhz5T7jDlto1",
        "colab": {
          "base_uri": "https://localhost:8080/"
        },
        "outputId": "f31f9ab5-f936-4a0d-a22f-d3a2c0aaa675"
      },
      "outputs": [
        {
          "output_type": "execute_result",
          "data": {
            "text/plain": [
              "[['DS5', 2019, True], ['A5', 2019, True], ['Corolla', 2021, True]]"
            ]
          },
          "metadata": {},
          "execution_count": 111
        }
      ],
      "source": [
        "brand_new_car"
      ]
    },
    {
      "cell_type": "code",
      "execution_count": null,
      "metadata": {
        "id": "XlvlpPjhlto1",
        "colab": {
          "base_uri": "https://localhost:8080/"
        },
        "outputId": "c92af72b-db49-44cd-ddab-df3ad3987f3c"
      },
      "outputs": [
        {
          "output_type": "execute_result",
          "data": {
            "text/plain": [
              "[['Jetta Variant', 2003, False],\n",
              " ['Passat', 1991, False],\n",
              " ['Crossfox', 1990, False],\n",
              " ['Aston Martin DB4', 2006, False],\n",
              " ['Palio Weekend', 2012, False],\n",
              " ['Série 3 Cabrio', 2009, False],\n",
              " ['Dodge Jorney', 2019, False],\n",
              " ['Carens', 2011, False]]"
            ]
          },
          "metadata": {},
          "execution_count": 112
        }
      ],
      "source": [
        "used_car"
      ]
    },
    {
      "cell_type": "markdown",
      "metadata": {
        "id": "Z2-8WeN1lto2"
      },
      "source": [
        "#### Standard format\n",
        "\n",
        "```\n",
        "if <condition 1>:\n",
        "     <instructions if condition 1 is true>\n",
        "elif <condition 2>:\n",
        "     <instructions if condition 2 is true>\n",
        "elif <condition 3>:\n",
        "     <instructions if condition 3 is true>\n",
        "                        .\n",
        "                        .\n",
        "                        .\n",
        "else:\n",
        "    <instructions if the above conditions are not true>\n",
        "```"
      ]
    },
    {
      "cell_type": "code",
      "execution_count": null,
      "metadata": {
        "id": "KJgRc1F9lto3",
        "colab": {
          "base_uri": "https://localhost:8080/"
        },
        "outputId": "5afe0c4d-7bc0-4a63-e6b8-446cfde7e72f"
      },
      "outputs": [
        {
          "output_type": "stream",
          "name": "stdout",
          "text": [
            "AND\n",
            "(True and True) the result is: True\n",
            "(True and False) the result is: False\n",
            "(False and True) the result is: False\n",
            "(False and False) the result is: False\n"
          ]
        }
      ],
      "source": [
        "print('AND')\n",
        "print(f'(True and True) the result is: {True and True}')\n",
        "print(f'(True and False) the result is: {True and False}')\n",
        "print(f'(False and True) the result is: {False and True}')\n",
        "print(f'(False and False) the result is: {False and False}')"
      ]
    },
    {
      "cell_type": "code",
      "execution_count": null,
      "metadata": {
        "id": "sb0mSh-o0aRM",
        "colab": {
          "base_uri": "https://localhost:8080/"
        },
        "outputId": "e7270bb9-7001-4e0f-9a9c-c281401e0ad0"
      },
      "outputs": [
        {
          "output_type": "stream",
          "name": "stdout",
          "text": [
            "OR\n",
            "(True or True) the result is: True\n",
            "(True or False) the result is: True\n",
            "(False or True) the result is: True\n",
            "(False or False) the result is: False\n"
          ]
        }
      ],
      "source": [
        "print('OR')\n",
        "print(f'(True or True) the result is: {True or True}')\n",
        "print(f'(True or False) the result is: {True or False}')\n",
        "print(f'(False or True) the result is: {False or True}')\n",
        "print(f'(False or False) the result is: {False or False}')"
      ]
    },
    {
      "cell_type": "code",
      "source": [
        "data"
      ],
      "metadata": {
        "colab": {
          "base_uri": "https://localhost:8080/"
        },
        "id": "FYBnRBHSQOw6",
        "outputId": "5816c798-3a0f-45a6-8378-e09b16916232"
      },
      "execution_count": null,
      "outputs": [
        {
          "output_type": "execute_result",
          "data": {
            "text/plain": [
              "[['Jetta Variant', 2003, False],\n",
              " ['Passat', 1991, False],\n",
              " ['Crossfox', 1990, False],\n",
              " ['DS5', 2019, True],\n",
              " ['Aston Martin DB4', 2006, False],\n",
              " ['Palio Weekend', 2012, False],\n",
              " ['A5', 2019, True],\n",
              " ['Série 3 Cabrio', 2009, False],\n",
              " ['Dodge Jorney', 2019, False],\n",
              " ['Carens', 2011, False],\n",
              " ['Corolla', 2021, True]]"
            ]
          },
          "metadata": {},
          "execution_count": 113
        }
      ]
    },
    {
      "cell_type": "code",
      "execution_count": null,
      "metadata": {
        "id": "AfNdTPzElto3"
      },
      "outputs": [],
      "source": [
        "a, b, c = [], [], []\n",
        "\n",
        "for item in data:\n",
        "  if item[1] <= 2000:\n",
        "    a.append(item)\n",
        "  elif item[1] > 2000 and item[1] <= 2019:\n",
        "    b.append(item)\n",
        "  else:\n",
        "    c.append(item)"
      ]
    },
    {
      "cell_type": "code",
      "execution_count": null,
      "metadata": {
        "id": "5bN7SuvTlto4",
        "colab": {
          "base_uri": "https://localhost:8080/"
        },
        "outputId": "8d6ab8b6-da83-4ad4-b0e1-e2cf01ea9e43"
      },
      "outputs": [
        {
          "output_type": "execute_result",
          "data": {
            "text/plain": [
              "[['Passat', 1991, False], ['Crossfox', 1990, False]]"
            ]
          },
          "metadata": {},
          "execution_count": 117
        }
      ],
      "source": [
        "a"
      ]
    },
    {
      "cell_type": "code",
      "execution_count": null,
      "metadata": {
        "id": "dDEl3Vfglto4",
        "colab": {
          "base_uri": "https://localhost:8080/"
        },
        "outputId": "c15d04d2-49f5-46a0-8899-ab1bacc52b61"
      },
      "outputs": [
        {
          "output_type": "execute_result",
          "data": {
            "text/plain": [
              "[['Jetta Variant', 2003, False],\n",
              " ['DS5', 2019, True],\n",
              " ['Aston Martin DB4', 2006, False],\n",
              " ['Palio Weekend', 2012, False],\n",
              " ['A5', 2019, True],\n",
              " ['Série 3 Cabrio', 2009, False],\n",
              " ['Dodge Jorney', 2019, False],\n",
              " ['Carens', 2011, False]]"
            ]
          },
          "metadata": {},
          "execution_count": 118
        }
      ],
      "source": [
        "b"
      ]
    },
    {
      "cell_type": "code",
      "execution_count": null,
      "metadata": {
        "id": "Ot4HLQlelto5",
        "colab": {
          "base_uri": "https://localhost:8080/"
        },
        "outputId": "aa776a6c-ba4d-45d0-91d9-d20e5233c2f7"
      },
      "outputs": [
        {
          "output_type": "execute_result",
          "data": {
            "text/plain": [
              "[['Corolla', 2021, True]]"
            ]
          },
          "metadata": {},
          "execution_count": 119
        }
      ],
      "source": [
        "c"
      ]
    },
    {
      "cell_type": "code",
      "execution_count": null,
      "metadata": {
        "id": "FN26ZBKJlto5"
      },
      "outputs": [],
      "source": [
        "a, b, c = [], [], []\n",
        "\n",
        "for item in data:\n",
        "  if item[1] <= 2000:\n",
        "    a.append(item)\n",
        "  elif 2000 < item[1] <= 2019: # Other syntax\n",
        "    b.append(item)\n",
        "  else:\n",
        "    c.append(item)"
      ]
    },
    {
      "cell_type": "code",
      "source": [
        "a"
      ],
      "metadata": {
        "colab": {
          "base_uri": "https://localhost:8080/"
        },
        "id": "U45dt7PpRTMa",
        "outputId": "410de4ac-37d0-453c-b371-4751360506c6"
      },
      "execution_count": null,
      "outputs": [
        {
          "output_type": "execute_result",
          "data": {
            "text/plain": [
              "[['Passat', 1991, False], ['Crossfox', 1990, False]]"
            ]
          },
          "metadata": {},
          "execution_count": 123
        }
      ]
    },
    {
      "cell_type": "code",
      "source": [
        "b"
      ],
      "metadata": {
        "colab": {
          "base_uri": "https://localhost:8080/"
        },
        "id": "FBdZrcz_RTEw",
        "outputId": "f269c684-e19a-4340-abe3-f4bc723a55f2"
      },
      "execution_count": null,
      "outputs": [
        {
          "output_type": "execute_result",
          "data": {
            "text/plain": [
              "[['Jetta Variant', 2003, False],\n",
              " ['DS5', 2019, True],\n",
              " ['Aston Martin DB4', 2006, False],\n",
              " ['Palio Weekend', 2012, False],\n",
              " ['A5', 2019, True],\n",
              " ['Série 3 Cabrio', 2009, False],\n",
              " ['Dodge Jorney', 2019, False],\n",
              " ['Carens', 2011, False]]"
            ]
          },
          "metadata": {},
          "execution_count": 122
        }
      ]
    },
    {
      "cell_type": "code",
      "source": [
        "c"
      ],
      "metadata": {
        "colab": {
          "base_uri": "https://localhost:8080/"
        },
        "id": "z3S18oyZRS59",
        "outputId": "e3725f35-ab3f-4b59-9f3f-3b20317f123d"
      },
      "execution_count": null,
      "outputs": [
        {
          "output_type": "execute_result",
          "data": {
            "text/plain": [
              "[['Corolla', 2021, True]]"
            ]
          },
          "metadata": {},
          "execution_count": 124
        }
      ]
    },
    {
      "cell_type": "markdown",
      "metadata": {
        "id": "aRfQfubxlto6"
      },
      "source": [
        "# <font color=green> 5. BASIC NUMPY\n",
        "---\n",
        "\n",
        "Numpy is short for Numerical Python and is one of the most important packages for numerical processing in Python. Numpy provides the basis for most scientific application packages that use Python numeric data (data structures and algorithms). We can highlight the following features that the Numpy package contains:\n",
        "\n",
        "- A powerful multidimensional array object;\n",
        "- Sophisticated mathematical functions for operations with arrays without the need to use *for* loops;\n",
        "- Linear algebra and random number generation features\n",
        "\n",
        "In addition to its obvious scientific uses, the NumPy package is also widely used in data analysis as an efficient multidimensional container of generic data for transport between various Python algorithms and libraries.\n",
        "\n",
        "**Version:** 1.16.5\n",
        "\n",
        "**Installation:** https://scipy.org/install.html\n",
        "\n",
        "**Documentation:** https://numpy.org/doc/1.16/"
      ]
    },
    {
      "cell_type": "markdown",
      "metadata": {
        "id": "RtG2-g1ultme"
      },
      "source": [
        "### packages\n",
        "\n",
        "There are several Python packages available for download on the internet. Each package aims to solve a certain type of problem and for that, new types, functions and methods are developed.\n",
        "\n",
        "Some packages are widely used in a data science context such as:\n",
        "\n",
        "- Numpy\n",
        "- pandas\n",
        "- Scikit-learn\n",
        "- Matplotlib\n",
        "\n",
        "Some packages are not shipped with the default Python installation. In this case we must install the packages we need on our system in order to use their features."
      ]
    },
    {
      "cell_type": "markdown",
      "metadata": {
        "id": "b8prsQjmltme"
      },
      "source": [
        "### Importing full package"
      ]
    },
    {
      "cell_type": "code",
      "execution_count": null,
      "metadata": {
        "id": "lP0tqXHLltmf"
      },
      "outputs": [],
      "source": [
        "import numpy"
      ]
    },
    {
      "cell_type": "markdown",
      "metadata": {
        "id": "FeQyJpZqlOBl"
      },
      "source": [
        "https://numpy.org/doc/1.16/reference/generated/numpy.arange.html"
      ]
    },
    {
      "cell_type": "code",
      "execution_count": null,
      "metadata": {
        "id": "Y40UP3K7ltmg",
        "colab": {
          "base_uri": "https://localhost:8080/"
        },
        "outputId": "48eb5e68-d085-49b5-941a-c77cd6fc8037"
      },
      "outputs": [
        {
          "output_type": "execute_result",
          "data": {
            "text/plain": [
              "array([0, 1, 2, 3, 4, 5, 6, 7, 8, 9])"
            ]
          },
          "metadata": {},
          "execution_count": 134
        }
      ],
      "source": [
        "numpy.arange(10)"
      ]
    },
    {
      "cell_type": "code",
      "source": [
        "type(_)"
      ],
      "metadata": {
        "colab": {
          "base_uri": "https://localhost:8080/"
        },
        "id": "lM8nC1YL4IcQ",
        "outputId": "38bcfc39-ffc5-46af-c0ab-aafa635435ae"
      },
      "execution_count": null,
      "outputs": [
        {
          "output_type": "execute_result",
          "data": {
            "text/plain": [
              "numpy.ndarray"
            ]
          },
          "metadata": {},
          "execution_count": 135
        }
      ]
    },
    {
      "cell_type": "markdown",
      "metadata": {
        "id": "84-53f4Lltmh"
      },
      "source": [
        "### Importing full package and assigning a new name"
      ]
    },
    {
      "cell_type": "code",
      "execution_count": null,
      "metadata": {
        "id": "CzESWck7ltmi"
      },
      "outputs": [],
      "source": [
        "import numpy as np"
      ]
    },
    {
      "cell_type": "code",
      "execution_count": null,
      "metadata": {
        "id": "RC7Dr5Viltmj",
        "colab": {
          "base_uri": "https://localhost:8080/"
        },
        "outputId": "20330a55-765e-4c0f-c26e-0fe995f22a30"
      },
      "outputs": [
        {
          "output_type": "execute_result",
          "data": {
            "text/plain": [
              "array([0, 1, 2, 3, 4, 5, 6, 7, 8, 9])"
            ]
          },
          "metadata": {},
          "execution_count": 132
        }
      ],
      "source": [
        "np.arange(10)"
      ]
    },
    {
      "cell_type": "markdown",
      "metadata": {
        "id": "WWawttSpltml"
      },
      "source": [
        "### Importing part of the package"
      ]
    },
    {
      "cell_type": "code",
      "execution_count": null,
      "metadata": {
        "id": "8kTeo3Ltltmo"
      },
      "outputs": [],
      "source": [
        "from numpy import arange"
      ]
    },
    {
      "cell_type": "code",
      "execution_count": null,
      "metadata": {
        "id": "4LPnpiEwltmt",
        "colab": {
          "base_uri": "https://localhost:8080/"
        },
        "outputId": "369b33ef-bfd5-4d41-e30e-e6246eb2fb6d"
      },
      "outputs": [
        {
          "output_type": "execute_result",
          "data": {
            "text/plain": [
              "array([0, 1, 2, 3, 4, 5, 6, 7, 8, 9])"
            ]
          },
          "metadata": {},
          "execution_count": 137
        }
      ],
      "source": [
        "arange(10)"
      ]
    },
    {
      "cell_type": "markdown",
      "metadata": {
        "id": "VSmffnCklto6"
      },
      "source": [
        "# 5.1 Creating Numpy arrays"
      ]
    },
    {
      "cell_type": "code",
      "execution_count": null,
      "metadata": {
        "id": "Wqpin_-Plto8",
        "colab": {
          "base_uri": "https://localhost:8080/"
        },
        "outputId": "3afe50f6-0142-4f3e-9f97-abe30202f30d"
      },
      "outputs": [
        {
          "output_type": "execute_result",
          "data": {
            "text/plain": [
              "array([0, 1, 2, 3, 4, 5, 6, 7, 8, 9])"
            ]
          },
          "metadata": {},
          "execution_count": 139
        }
      ],
      "source": [
        "arange(10)"
      ]
    },
    {
      "cell_type": "markdown",
      "metadata": {
        "id": "ock4Ku-Ulto8"
      },
      "source": [
        "### From lists\n",
        "\n",
        "https://numpy.org/doc/1.16/user/basics.creation.html"
      ]
    },
    {
      "cell_type": "code",
      "execution_count": null,
      "metadata": {
        "id": "82H-09CQlto9"
      },
      "outputs": [],
      "source": [
        "km = np.array([1000, 2300, 4987, 1500])"
      ]
    },
    {
      "cell_type": "code",
      "execution_count": null,
      "metadata": {
        "id": "8VYE3JSYlto9",
        "colab": {
          "base_uri": "https://localhost:8080/"
        },
        "outputId": "3ade4f6c-85b0-4814-9405-5936df3bef6c"
      },
      "outputs": [
        {
          "output_type": "execute_result",
          "data": {
            "text/plain": [
              "array([1000, 2300, 4987, 1500])"
            ]
          },
          "metadata": {},
          "execution_count": 141
        }
      ],
      "source": [
        "km"
      ]
    },
    {
      "cell_type": "code",
      "execution_count": null,
      "metadata": {
        "id": "OBsa5Cfplto-",
        "colab": {
          "base_uri": "https://localhost:8080/"
        },
        "outputId": "d22a49c2-96c3-4b7b-88bb-bb0742a38717"
      },
      "outputs": [
        {
          "output_type": "execute_result",
          "data": {
            "text/plain": [
              "numpy.ndarray"
            ]
          },
          "metadata": {},
          "execution_count": 142
        }
      ],
      "source": [
        "type(km)"
      ]
    },
    {
      "cell_type": "markdown",
      "metadata": {
        "id": "RfQ3jJSAlto-"
      },
      "source": [
        "https://numpy.org/doc/1.16/user/basics.types.html"
      ]
    },
    {
      "cell_type": "code",
      "execution_count": null,
      "metadata": {
        "id": "6yLpkJcAlto-",
        "colab": {
          "base_uri": "https://localhost:8080/"
        },
        "outputId": "345b28aa-52b3-49bb-a6df-0b5ebde9e203"
      },
      "outputs": [
        {
          "output_type": "execute_result",
          "data": {
            "text/plain": [
              "dtype('int64')"
            ]
          },
          "metadata": {},
          "execution_count": 143
        }
      ],
      "source": [
        "km.dtype"
      ]
    },
    {
      "cell_type": "markdown",
      "metadata": {
        "id": "1pFx86QPlto_"
      },
      "source": [
        "### From external data\n",
        "\n",
        "https://numpy.org/doc/1.16/reference/generated/numpy.loadtxt.html"
      ]
    },
    {
      "cell_type": "code",
      "execution_count": null,
      "metadata": {
        "id": "26pQLNgrlto_"
      },
      "outputs": [],
      "source": [
        "km = np.loadtxt(fname='cars-km.txt', dtype=int)"
      ]
    },
    {
      "cell_type": "code",
      "execution_count": null,
      "metadata": {
        "id": "FoP42bdpltpA",
        "scrolled": true,
        "colab": {
          "base_uri": "https://localhost:8080/"
        },
        "outputId": "d1aa05f2-a598-4a57-e3ca-d84286a4c247"
      },
      "outputs": [
        {
          "output_type": "execute_result",
          "data": {
            "text/plain": [
              "array([ 44410,   5712,  37123,      0,  25757,  10728,      0,  77599,\n",
              "        99197,  37978,  12859,   8052,  89773,      0,  41457, 115607,\n",
              "        46449,      0,  37086,  15173, 101193,      0,  98079, 102959,\n",
              "            0,      0,   5795,      0,  58848,  94381,  30163,  53332,\n",
              "        17720,  33808,  90684,  43975,      0,      0,   5526,      0,\n",
              "        93415,  40762,      0,  86302,      0,   9755,  69945,   2395,\n",
              "            0,  80349,  85554,  50496,  67716,  93947,  35345,  81007,\n",
              "       119513,      0,      0,      0,      0,      0, 118895,  48509,\n",
              "       100912,  95649,      0,  90495,      0,  29132,  23802,  84992,\n",
              "        54395,  26731,  44329, 118236, 113808,    610,      0,      0,\n",
              "        12887,  79607,  90924,  42733,      0,      0, 117714, 113885,\n",
              "            0,  30511,  74867, 119760,   8356,  64247,  88661,   4539,\n",
              "       110116,  33215,  92001,      0,  81708,  70641,      0,  91277,\n",
              "        26544,  52596,  47503,  89056,  28834, 110564,  56638,  17357,\n",
              "        74015,  15196,      0,  10821,      0,      0,   9595,  99052,\n",
              "        52389, 119945,  96005,  31639,      0,  80187,      0,  58212,\n",
              "        61672,  32017,      0,  56944,      0,  86519,   4821, 101025,\n",
              "        30705,      0,  32555, 103389,      0,  55289,      0,      0,\n",
              "       115930,  66437,  96800,  14237,  19896, 113045, 114942,   3173,\n",
              "        83611,  25356,  88634,   2314,   2627,  52034,      0,      0,\n",
              "        79577, 108201,  76453,  57683,  96610, 109001,  26212,  45971,\n",
              "        49182,  49907,  38620,  60996,  73914, 107392,   9146,      0,\n",
              "        17924,      0, 116949,  20476,  52804,   8849,  91724,  32056,\n",
              "        74886,      0,      0,  52189,  83559,      0,  20328,      0,\n",
              "        75577,  33659, 104341,  25510,  18965,  87161,   6652,  55738,\n",
              "            0,      0,      0,  64320,      0,  68678,  71697,      0,\n",
              "        34783,  33772,  85127,  13606,  35647,  95128,  14046,  41194,\n",
              "            0,  96100, 103900,  43814,  24638,      0, 110966,  15987,\n",
              "        53369,  10077,  71544,    107,   8394,  41498, 116002, 100858,\n",
              "        67475,   8497,   4420,      0,  58537,      0,      0, 112016,\n",
              "        91840, 112787,      0,      0,   9293,      0,  55083,  48796,\n",
              "            0,  89685,  85384,  98108,  71280,  27505,  29981,  52637,\n",
              "         7685,  50188])"
            ]
          },
          "metadata": {},
          "execution_count": 145
        }
      ],
      "source": [
        "km"
      ]
    },
    {
      "cell_type": "code",
      "execution_count": null,
      "metadata": {
        "id": "MNPjZJbYltpA",
        "colab": {
          "base_uri": "https://localhost:8080/"
        },
        "outputId": "e3b10ded-2de9-4c29-d876-10d6727a56f5"
      },
      "outputs": [
        {
          "output_type": "execute_result",
          "data": {
            "text/plain": [
              "dtype('int64')"
            ]
          },
          "metadata": {},
          "execution_count": 146
        }
      ],
      "source": [
        "km.dtype"
      ]
    },
    {
      "cell_type": "markdown",
      "metadata": {
        "id": "_wnTg0wJltpB"
      },
      "source": [
        "### Two-dimensional arrays"
      ]
    },
    {
      "cell_type": "code",
      "execution_count": null,
      "metadata": {
        "id": "Gt1dL27GltpB",
        "scrolled": true,
        "colab": {
          "base_uri": "https://localhost:8080/"
        },
        "outputId": "eec9b82d-6437-4801-ef70-3440ef9083e0"
      },
      "outputs": [
        {
          "output_type": "execute_result",
          "data": {
            "text/plain": [
              "[['Alloy wheels',\n",
              "  'Power locks',\n",
              "  'Autopilot',\n",
              "  'Leather seats',\n",
              "  'Air conditioning',\n",
              "  'Parking sensor',\n",
              "  'Twilight sensor',\n",
              "  'Rain sensor'],\n",
              " ['Multimedia center',\n",
              "  'Panoramic roof',\n",
              "  'ABS brakes',\n",
              "  '4 X 4',\n",
              "  'Digital panel',\n",
              "  'Autopilot',\n",
              "  'Leather seats',\n",
              "  'Parking camera'],\n",
              " ['Autopilot',\n",
              "  'Stability control',\n",
              "  'Twilight sensor',\n",
              "  'ABS brakes',\n",
              "  'Automatic transmission',\n",
              "  'Leather seats',\n",
              "  'Multimedia center',\n",
              "  'Power windows']]"
            ]
          },
          "metadata": {},
          "execution_count": 147
        }
      ],
      "source": [
        "data = [\n",
        "     ['Alloy wheels', 'Power locks', 'Autopilot', 'Leather seats', 'Air conditioning', 'Parking sensor', 'Twilight sensor', 'Rain sensor'],\n",
        "     ['Multimedia center', 'Panoramic roof', 'ABS brakes', '4 X 4', 'Digital panel', 'Autopilot', 'Leather seats', 'Parking camera'],\n",
        "     ['Autopilot', 'Stability control', 'Twilight sensor', 'ABS brakes', 'Automatic transmission', 'Leather seats', 'Multimedia center', 'Power windows']\n",
        "]\n",
        "data"
      ]
    },
    {
      "cell_type": "code",
      "execution_count": null,
      "metadata": {
        "id": "IlbYeZPkltpC"
      },
      "outputs": [],
      "source": [
        "accessories = np.array(data)"
      ]
    },
    {
      "cell_type": "code",
      "execution_count": null,
      "metadata": {
        "id": "FgjmWozgltpD",
        "scrolled": true,
        "colab": {
          "base_uri": "https://localhost:8080/"
        },
        "outputId": "6c4ac7ff-cf85-4ae4-caf7-393a2ad6c3bc"
      },
      "outputs": [
        {
          "output_type": "execute_result",
          "data": {
            "text/plain": [
              "(258,)"
            ]
          },
          "metadata": {},
          "execution_count": 150
        }
      ],
      "source": [
        "km.shape"
      ]
    },
    {
      "cell_type": "code",
      "execution_count": null,
      "metadata": {
        "id": "TDM9HskUltpD",
        "colab": {
          "base_uri": "https://localhost:8080/"
        },
        "outputId": "295d5e4e-bd4d-4353-b151-9bd814b782ab"
      },
      "outputs": [
        {
          "output_type": "execute_result",
          "data": {
            "text/plain": [
              "(3, 8)"
            ]
          },
          "metadata": {},
          "execution_count": 151
        }
      ],
      "source": [
        "accessories.shape"
      ]
    },
    {
      "cell_type": "markdown",
      "metadata": {
        "id": "cPbkST9pltpE"
      },
      "source": [
        "### Comparing performance with lists"
      ]
    },
    {
      "cell_type": "code",
      "source": [
        "size = 999999\n",
        "cycles = 999"
      ],
      "metadata": {
        "id": "F7vSA0TD_EDQ"
      },
      "execution_count": null,
      "outputs": []
    },
    {
      "cell_type": "code",
      "execution_count": null,
      "metadata": {
        "id": "PIC-ndg9ltpF",
        "colab": {
          "base_uri": "https://localhost:8080/"
        },
        "outputId": "c8c26184-2b42-4845-fb29-4e319dfb9d36"
      },
      "outputs": [
        {
          "output_type": "stream",
          "name": "stdout",
          "text": [
            "CPU times: user 4 µs, sys: 0 ns, total: 4 µs\n",
            "Wall time: 9.3 µs\n"
          ]
        }
      ],
      "source": [
        "%time\n",
        "np_array = np.arange(size)\n",
        "\n",
        "for _ in range(cycles) :\n",
        "  np_array *= 2 "
      ]
    },
    {
      "cell_type": "code",
      "execution_count": null,
      "metadata": {
        "id": "I94lVgCRltpG",
        "colab": {
          "base_uri": "https://localhost:8080/"
        },
        "outputId": "378cad0c-99b8-4e16-933f-e2373d2d1558"
      },
      "outputs": [
        {
          "output_type": "stream",
          "name": "stdout",
          "text": [
            "CPU times: user 5 µs, sys: 0 ns, total: 5 µs\n",
            "Wall time: 9.78 µs\n"
          ]
        }
      ],
      "source": [
        "%time\n",
        "py_range = range(size)\n",
        "py_list = list(py_range)\n",
        "\n",
        "for _ in range(cycles):\n",
        "  py_list = [x * 2 for x in py_list]"
      ]
    },
    {
      "cell_type": "markdown",
      "metadata": {
        "id": "ul4MuKyTltpG"
      },
      "source": [
        "# 5.2 Arithmetic operations with Numpy arrays"
      ]
    },
    {
      "cell_type": "markdown",
      "metadata": {
        "id": "QwnxO_rYltpH"
      },
      "source": [
        "### Operations between arrays and constants"
      ]
    },
    {
      "cell_type": "code",
      "source": [
        "import numpy as np"
      ],
      "metadata": {
        "id": "OL5EyGoD42t9"
      },
      "execution_count": null,
      "outputs": []
    },
    {
      "cell_type": "code",
      "execution_count": null,
      "metadata": {
        "id": "63KVHPK0ltpH"
      },
      "outputs": [],
      "source": [
        "km = [44410., 5712., 37123., 0., 25757.]\n",
        "years = [2003, 1991, 1990, 2019, 2006]"
      ]
    },
    {
      "cell_type": "code",
      "execution_count": null,
      "metadata": {
        "id": "AryIZaBIltpH"
      },
      "outputs": [],
      "source": [
        "# Not work with python array\n",
        "# 2019 - years"
      ]
    },
    {
      "cell_type": "code",
      "execution_count": null,
      "metadata": {
        "id": "s8GvEk4HltpI"
      },
      "outputs": [],
      "source": [
        "km = np.array([44410., 5712., 37123., 0., 25757.])\n",
        "years = np.array([2003, 1991, 1990, 2019, 2006], dtype=int)"
      ]
    },
    {
      "cell_type": "code",
      "source": [
        "years_of_use = 2019 - years\n",
        "years_of_use"
      ],
      "metadata": {
        "colab": {
          "base_uri": "https://localhost:8080/"
        },
        "id": "KA9AyGKN7xhX",
        "outputId": "1b8a2e39-d741-4e93-bd26-485228d4ccf4"
      },
      "execution_count": null,
      "outputs": [
        {
          "output_type": "execute_result",
          "data": {
            "text/plain": [
              "array([16, 28, 29,  0, 13])"
            ]
          },
          "metadata": {},
          "execution_count": 38
        }
      ]
    },
    {
      "cell_type": "markdown",
      "metadata": {
        "id": "qn1PUsM9ltpJ"
      },
      "source": [
        "### Operations between arrays"
      ]
    },
    {
      "cell_type": "code",
      "execution_count": null,
      "metadata": {
        "id": "n0rPxgY1ltpL",
        "colab": {
          "base_uri": "https://localhost:8080/"
        },
        "outputId": "a3f254d4-94b0-413d-87d3-86c476f8701b"
      },
      "outputs": [
        {
          "output_type": "stream",
          "name": "stderr",
          "text": [
            "/usr/local/lib/python3.7/dist-packages/ipykernel_launcher.py:5: RuntimeWarning: invalid value encountered in double_scalars\n",
            "  \"\"\"\n"
          ]
        }
      ],
      "source": [
        "# Example calc with Python\n",
        "avrage = []\n",
        "\n",
        "for i in range(len(km)):\n",
        "  avrage.append(km[i] / (2019 - years[i]))"
      ]
    },
    {
      "cell_type": "code",
      "source": [
        "avrage"
      ],
      "metadata": {
        "colab": {
          "base_uri": "https://localhost:8080/"
        },
        "id": "yr_sXzXUBIxy",
        "outputId": "87993442-2364-44fa-a48c-9e01e59c9c20"
      },
      "execution_count": null,
      "outputs": [
        {
          "output_type": "execute_result",
          "data": {
            "text/plain": [
              "[2775.625, 204.0, 1280.103448275862, nan, 1981.3076923076924]"
            ]
          },
          "metadata": {},
          "execution_count": 55
        }
      ]
    },
    {
      "cell_type": "code",
      "execution_count": null,
      "metadata": {
        "id": "gU_d5aZkltpJ",
        "colab": {
          "base_uri": "https://localhost:8080/"
        },
        "outputId": "8fbddfef-8e2a-4282-95dd-c8a86fc64dca"
      },
      "outputs": [
        {
          "output_type": "stream",
          "name": "stderr",
          "text": [
            "/usr/local/lib/python3.7/dist-packages/ipykernel_launcher.py:2: RuntimeWarning: invalid value encountered in true_divide\n",
            "  \n"
          ]
        }
      ],
      "source": [
        "# Example calc with NumPy\n",
        "avrage = km / (2019 - years)"
      ]
    },
    {
      "cell_type": "code",
      "source": [
        "avrage"
      ],
      "metadata": {
        "colab": {
          "base_uri": "https://localhost:8080/"
        },
        "id": "hFITNV4PA-ms",
        "outputId": "3ca8e734-e72d-4044-be70-fc1a6158bd48"
      },
      "execution_count": null,
      "outputs": [
        {
          "output_type": "execute_result",
          "data": {
            "text/plain": [
              "array([2775.625     ,  204.        , 1280.10344828,           nan,\n",
              "       1981.30769231])"
            ]
          },
          "metadata": {},
          "execution_count": 52
        }
      ]
    },
    {
      "cell_type": "markdown",
      "metadata": {
        "id": "o4-gsGICltpN"
      },
      "source": [
        "### Operations with two-dimensional arrays"
      ]
    },
    {
      "cell_type": "markdown",
      "metadata": {
        "id": "dsgz-E5ZltpP"
      },
      "source": [
        "![1410-img01.png](https://caelum-online-public.s3.amazonaws.com/1410-pythondatascience/01/1410-img01.png)"
      ]
    },
    {
      "cell_type": "code",
      "execution_count": null,
      "metadata": {
        "id": "VT71Pbb3ltpN",
        "colab": {
          "base_uri": "https://localhost:8080/"
        },
        "outputId": "1ebbaf46-449c-49ba-ddf6-5e55298f51cd"
      },
      "outputs": [
        {
          "output_type": "execute_result",
          "data": {
            "text/plain": [
              "array([[44410.,  5712., 37123.,     0., 25757.],\n",
              "       [ 2003.,  1991.,  1990.,  2019.,  2006.]])"
            ]
          },
          "metadata": {},
          "execution_count": 66
        }
      ],
      "source": [
        "two_dimensional_arrays = np.array([km, years])\n",
        "two_dimensional_arrays"
      ]
    },
    {
      "cell_type": "code",
      "execution_count": null,
      "metadata": {
        "id": "bgDe00q8ltpO",
        "colab": {
          "base_uri": "https://localhost:8080/"
        },
        "outputId": "f205d017-5a7f-4cdc-f6e5-ae73e7377b58"
      },
      "outputs": [
        {
          "output_type": "execute_result",
          "data": {
            "text/plain": [
              "array([44410.,  5712., 37123.,     0., 25757.])"
            ]
          },
          "metadata": {},
          "execution_count": 41
        }
      ],
      "source": [
        "two_dimensional_arrays[0]"
      ]
    },
    {
      "cell_type": "code",
      "execution_count": null,
      "metadata": {
        "id": "jIQU2ugKltpP",
        "colab": {
          "base_uri": "https://localhost:8080/"
        },
        "outputId": "3eb5d5af-b02c-49bb-e3e0-d018dfd794cc"
      },
      "outputs": [
        {
          "output_type": "execute_result",
          "data": {
            "text/plain": [
              "array([2003., 1991., 1990., 2019., 2006.])"
            ]
          },
          "metadata": {},
          "execution_count": 42
        }
      ],
      "source": [
        "two_dimensional_arrays[1]"
      ]
    },
    {
      "cell_type": "code",
      "execution_count": null,
      "metadata": {
        "id": "imANn6HultpQ",
        "colab": {
          "base_uri": "https://localhost:8080/"
        },
        "outputId": "c4a7f4ac-ec7a-402c-e8ab-77862af3d262"
      },
      "outputs": [
        {
          "output_type": "execute_result",
          "data": {
            "text/plain": [
              "(2, 5)"
            ]
          },
          "metadata": {},
          "execution_count": 43
        }
      ],
      "source": [
        "two_dimensional_arrays.shape"
      ]
    },
    {
      "cell_type": "code",
      "execution_count": null,
      "metadata": {
        "id": "Nkp9ljkvltpQ",
        "colab": {
          "base_uri": "https://localhost:8080/"
        },
        "outputId": "3905837d-3fe9-410e-ffad-27d10ac24d14"
      },
      "outputs": [
        {
          "output_type": "stream",
          "name": "stderr",
          "text": [
            "/usr/local/lib/python3.7/dist-packages/ipykernel_launcher.py:1: RuntimeWarning: invalid value encountered in true_divide\n",
            "  \"\"\"Entry point for launching an IPython kernel.\n"
          ]
        }
      ],
      "source": [
        "average = two_dimensional_arrays[0] / (2019 - two_dimensional_arrays[1])"
      ]
    },
    {
      "cell_type": "code",
      "execution_count": null,
      "metadata": {
        "id": "njJ2z3HJltpR",
        "colab": {
          "base_uri": "https://localhost:8080/"
        },
        "outputId": "9656df0f-20c0-4e3e-9b8d-ac8542b70e65"
      },
      "outputs": [
        {
          "output_type": "execute_result",
          "data": {
            "text/plain": [
              "array([2775.625     ,  204.        , 1280.10344828,           nan,\n",
              "       1981.30769231])"
            ]
          },
          "metadata": {},
          "execution_count": 49
        }
      ],
      "source": [
        "average"
      ]
    },
    {
      "cell_type": "markdown",
      "source": [
        "### Counting on NumPy arrays\n",
        "#### Exercise\n",
        "\n",
        "---\n",
        "\n",
        "![Body mass Index](data:image/webp;base64,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)\n",
        "<br />\n",
        "[**Reference**](https://img.freepik.com/vetores-premium/indice-de-massa-corporal-do-homem-grafico-bmi-de-aptidao-com-silhuetas-masculinas-e-escala_53562-7067.jpg?w=1380)\n",
        "<br />\n",
        "<br />\n",
        "![The Body Mass Index Formula](data:image/png;base64,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)\n",
        "<br />\n",
        "[**Reference**](https://cdn.vertex42.com/Calculators/Images/bmi-formula-metric-and-english.png)\n"
      ],
      "metadata": {
        "id": "EkGMUAX2Bux_"
      }
    },
    {
      "cell_type": "code",
      "source": [
        "wight = np.array([106.0, 68.5, 75.0])\n",
        "height = np.array([1.9, 1.53, 1.75])"
      ],
      "metadata": {
        "id": "fBC-W5p3FjTz"
      },
      "execution_count": null,
      "outputs": []
    },
    {
      "cell_type": "code",
      "source": [
        "bmi = wight / (height * height)\n",
        "bmi"
      ],
      "metadata": {
        "colab": {
          "base_uri": "https://localhost:8080/"
        },
        "id": "6GBv5O03E5yj",
        "outputId": "75081046-5543-4984-8766-90cd527fb390"
      },
      "execution_count": null,
      "outputs": [
        {
          "output_type": "execute_result",
          "data": {
            "text/plain": [
              "array([29.36288089, 29.26224956, 24.48979592])"
            ]
          },
          "metadata": {},
          "execution_count": 64
        }
      ]
    },
    {
      "cell_type": "code",
      "source": [
        "bmi = wight / height ** 2\n",
        "bmi"
      ],
      "metadata": {
        "colab": {
          "base_uri": "https://localhost:8080/"
        },
        "id": "QR5BmGcVFDw4",
        "outputId": "c2eea046-25b7-4106-9831-d1e1278be486"
      },
      "execution_count": null,
      "outputs": [
        {
          "output_type": "execute_result",
          "data": {
            "text/plain": [
              "array([29.36288089, 29.26224956, 24.48979592])"
            ]
          },
          "metadata": {},
          "execution_count": 65
        }
      ]
    },
    {
      "cell_type": "markdown",
      "metadata": {
        "id": "4CAwtS0-ltpR"
      },
      "source": [
        "# 5.3 Selections with Numpy arrays"
      ]
    },
    {
      "cell_type": "markdown",
      "metadata": {
        "id": "QDAT1vODltpS"
      },
      "source": [
        "![1410-img01.png](https://caelum-online-public.s3.amazonaws.com/1410-pythondatascience/01/1410-img01.png)"
      ]
    },
    {
      "cell_type": "code",
      "execution_count": null,
      "metadata": {
        "id": "nZpPGS2TltpS"
      },
      "outputs": [],
      "source": [
        "km = np.array([44410., 5712., 37123., 0., 25757.])\n",
        "years = np.array([2003, 1991, 1990, 2019, 2006], dtype=int)\n",
        "two_dimensional_arrays = np.array([km, years])"
      ]
    },
    {
      "cell_type": "markdown",
      "metadata": {
        "id": "b--BIPcOltpT"
      },
      "source": [
        "![1410-img02.png](https://caelum-online-public.s3.amazonaws.com/1410-pythondatascience/01/1410-img02.png)"
      ]
    },
    {
      "cell_type": "markdown",
      "metadata": {
        "id": "86-hOHa7ltpT"
      },
      "source": [
        "### Indexing\n",
        "\n",
        "<font color=red>**Note:**</font> Indexing starts at zero."
      ]
    },
    {
      "cell_type": "code",
      "execution_count": null,
      "metadata": {
        "id": "mr0Q_X0JltpT",
        "colab": {
          "base_uri": "https://localhost:8080/"
        },
        "outputId": "7fe97b3a-052b-4a23-8a8f-f67c03470b27"
      },
      "outputs": [
        {
          "output_type": "execute_result",
          "data": {
            "text/plain": [
              "array([0, 1, 2, 3, 4, 5, 6, 7, 8, 9])"
            ]
          },
          "metadata": {},
          "execution_count": 69
        }
      ],
      "source": [
        "count = np.arange(10)\n",
        "count"
      ]
    },
    {
      "cell_type": "code",
      "execution_count": null,
      "metadata": {
        "id": "VxiR_IgdltpU",
        "colab": {
          "base_uri": "https://localhost:8080/"
        },
        "outputId": "49678ab2-8640-4ec9-8931-784c4d2d4d22"
      },
      "outputs": [
        {
          "output_type": "execute_result",
          "data": {
            "text/plain": [
              "5"
            ]
          },
          "metadata": {},
          "execution_count": 70
        }
      ],
      "source": [
        "item = 6\n",
        "index = item - 1\n",
        "count[index]"
      ]
    },
    {
      "cell_type": "code",
      "execution_count": null,
      "metadata": {
        "id": "xGDomIyAltpU",
        "colab": {
          "base_uri": "https://localhost:8080/"
        },
        "outputId": "f293c2a9-3fca-46ba-b281-6c17615e4b44"
      },
      "outputs": [
        {
          "output_type": "execute_result",
          "data": {
            "text/plain": [
              "9"
            ]
          },
          "metadata": {},
          "execution_count": 71
        }
      ],
      "source": [
        "count[-1]"
      ]
    },
    {
      "cell_type": "markdown",
      "metadata": {
        "id": "fCWUSI1zltpZ"
      },
      "source": [
        "## <font color=green>**Hint:**</font>\n",
        "### *ndarray[ row ][ column ]* or *ndarray[ row, column ]*"
      ]
    },
    {
      "cell_type": "code",
      "execution_count": null,
      "metadata": {
        "id": "Nxc3uY-ZltpZ",
        "colab": {
          "base_uri": "https://localhost:8080/"
        },
        "outputId": "46d25dcc-c15b-4f6d-d372-8cb65e3de021"
      },
      "outputs": [
        {
          "output_type": "execute_result",
          "data": {
            "text/plain": [
              "1990.0"
            ]
          },
          "metadata": {},
          "execution_count": 83
        }
      ],
      "source": [
        "two_dimensional_arrays[1][2]"
      ]
    },
    {
      "cell_type": "code",
      "execution_count": null,
      "metadata": {
        "id": "xp8ByjualtpZ",
        "colab": {
          "base_uri": "https://localhost:8080/"
        },
        "outputId": "d3cd15fa-2d4e-4d4b-c934-620e126bfec9"
      },
      "outputs": [
        {
          "output_type": "execute_result",
          "data": {
            "text/plain": [
              "1990.0"
            ]
          },
          "metadata": {},
          "execution_count": 84
        }
      ],
      "source": [
        "two_dimensional_arrays[1, 2]"
      ]
    },
    {
      "cell_type": "markdown",
      "metadata": {
        "id": "7osmTUC4ltpa"
      },
      "source": [
        "### Slicing\n",
        " \n",
        "The syntax for slicing a Numpy array is $i : j : k$ where $i$ is the start index, $j$ is the stop index, and $k$ is the step indicator ($k\\neq0$ )\n",
        " \n",
        "<font color=red>**Note:**</font> In slices (*slices*) the item with index i is **included** and the item with index j is **not included** in the result."
      ]
    },
    {
      "cell_type": "markdown",
      "metadata": {
        "id": "HEx4TbNlltpa"
      },
      "source": [
        "![1410-img01.png](https://caelum-online-public.s3.amazonaws.com/1410-pythondatascience/01/1410-img01.png)"
      ]
    },
    {
      "cell_type": "code",
      "source": [
        "count[1:4]"
      ],
      "metadata": {
        "colab": {
          "base_uri": "https://localhost:8080/"
        },
        "id": "-phQ6uQqaFQu",
        "outputId": "9a5010cf-f20d-4ac0-c704-284dd5fff666"
      },
      "execution_count": null,
      "outputs": [
        {
          "output_type": "execute_result",
          "data": {
            "text/plain": [
              "array([1, 2, 3])"
            ]
          },
          "metadata": {},
          "execution_count": 88
        }
      ]
    },
    {
      "cell_type": "code",
      "execution_count": null,
      "metadata": {
        "id": "tlaD1SENltpb",
        "colab": {
          "base_uri": "https://localhost:8080/"
        },
        "outputId": "670b30d3-a633-4a4b-c7bd-83eb46c1c71b"
      },
      "outputs": [
        {
          "output_type": "execute_result",
          "data": {
            "text/plain": [
              "array([1, 3, 5, 7])"
            ]
          },
          "metadata": {},
          "execution_count": 85
        }
      ],
      "source": [
        "count[1:8:2]"
      ]
    },
    {
      "cell_type": "code",
      "execution_count": null,
      "metadata": {
        "id": "vXLIO1cVltpc",
        "colab": {
          "base_uri": "https://localhost:8080/"
        },
        "outputId": "b0cd989d-b98d-492d-d92e-aee16c0de373"
      },
      "outputs": [
        {
          "output_type": "execute_result",
          "data": {
            "text/plain": [
              "array([0, 2, 4, 6, 8])"
            ]
          },
          "metadata": {},
          "execution_count": 86
        }
      ],
      "source": [
        "count[::2]"
      ]
    },
    {
      "cell_type": "code",
      "execution_count": null,
      "metadata": {
        "id": "kYLgsQcHltpc",
        "colab": {
          "base_uri": "https://localhost:8080/"
        },
        "outputId": "69891743-f4f7-4010-838d-38e84aefba6d"
      },
      "outputs": [
        {
          "output_type": "execute_result",
          "data": {
            "text/plain": [
              "array([1, 3, 5, 7, 9])"
            ]
          },
          "metadata": {},
          "execution_count": 90
        }
      ],
      "source": [
        "count[1::2]"
      ]
    },
    {
      "cell_type": "code",
      "execution_count": null,
      "metadata": {
        "id": "H2MJpIasltpd",
        "colab": {
          "base_uri": "https://localhost:8080/"
        },
        "outputId": "fd48e61e-ecb5-4efc-ab1c-6245bbdbb396"
      },
      "outputs": [
        {
          "output_type": "execute_result",
          "data": {
            "text/plain": [
              "array([[44410.,  5712., 37123.,     0., 25757.],\n",
              "       [ 2003.,  1991.,  1990.,  2019.,  2006.]])"
            ]
          },
          "metadata": {},
          "execution_count": 96
        }
      ],
      "source": [
        "two_dimensional_arrays"
      ]
    },
    {
      "cell_type": "code",
      "execution_count": null,
      "metadata": {
        "id": "YVzf4fNCltpe",
        "colab": {
          "base_uri": "https://localhost:8080/"
        },
        "outputId": "5c7a09bf-0e0c-4bc2-a8f0-2205a9a6467f"
      },
      "outputs": [
        {
          "output_type": "execute_result",
          "data": {
            "text/plain": [
              "array([[ 5712., 37123.],\n",
              "       [ 1991.,  1990.]])"
            ]
          },
          "metadata": {},
          "execution_count": 103
        }
      ],
      "source": [
        "two_dimensional_arrays[:, 1:3]"
      ]
    },
    {
      "cell_type": "code",
      "execution_count": null,
      "metadata": {
        "id": "bPyQsUFPltpf",
        "colab": {
          "base_uri": "https://localhost:8080/"
        },
        "outputId": "7c6d3296-583a-41b1-d3ca-0793b9a71bb6"
      },
      "outputs": [
        {
          "output_type": "stream",
          "name": "stderr",
          "text": [
            "/usr/local/lib/python3.7/dist-packages/ipykernel_launcher.py:1: RuntimeWarning: invalid value encountered in true_divide\n",
            "  \"\"\"Entry point for launching an IPython kernel.\n"
          ]
        }
      ],
      "source": [
        "average = two_dimensional_arrays[0] / (2019 - two_dimensional_arrays[1])"
      ]
    },
    {
      "cell_type": "code",
      "execution_count": null,
      "metadata": {
        "id": "IRxfixG-ltpg",
        "colab": {
          "base_uri": "https://localhost:8080/"
        },
        "outputId": "b048b561-0989-4746-a6fb-4f017ffabc7b"
      },
      "outputs": [
        {
          "output_type": "execute_result",
          "data": {
            "text/plain": [
              "array([2775.625     ,  204.        , 1280.10344828,           nan,\n",
              "       1981.30769231])"
            ]
          },
          "metadata": {},
          "execution_count": 107
        }
      ],
      "source": [
        "average"
      ]
    },
    {
      "cell_type": "markdown",
      "metadata": {
        "id": "-fW4EXIqltpi"
      },
      "source": [
        "### Indexing with boolean array\n",
        "\n",
        "<font color=red>**Note:**</font> Selects a group of rows and columns according to labels or a boolean array."
      ]
    },
    {
      "cell_type": "code",
      "execution_count": null,
      "metadata": {
        "id": "MgmH-rCSltpi",
        "colab": {
          "base_uri": "https://localhost:8080/"
        },
        "outputId": "add0b60d-aaa7-4e9d-ceb3-12584fcbdf59"
      },
      "outputs": [
        {
          "output_type": "execute_result",
          "data": {
            "text/plain": [
              "array([False, False, False, False, False, False,  True,  True,  True,\n",
              "        True])"
            ]
          },
          "metadata": {},
          "execution_count": 108
        }
      ],
      "source": [
        "count > 5"
      ]
    },
    {
      "cell_type": "code",
      "execution_count": null,
      "metadata": {
        "id": "iXJa9tL4ltpj",
        "colab": {
          "base_uri": "https://localhost:8080/"
        },
        "outputId": "eac455fc-268d-4085-f8cc-4404d1fbdad0"
      },
      "outputs": [
        {
          "output_type": "execute_result",
          "data": {
            "text/plain": [
              "array([6, 7, 8, 9])"
            ]
          },
          "metadata": {},
          "execution_count": 112
        }
      ],
      "source": [
        "count[[False, False, False, False, False, False,  True,  True,  True, True]]"
      ]
    },
    {
      "cell_type": "code",
      "execution_count": null,
      "metadata": {
        "id": "HN1i-BlLltpj",
        "colab": {
          "base_uri": "https://localhost:8080/"
        },
        "outputId": "b0ebe2ab-46fc-4a50-a70e-0ede016a1a09"
      },
      "outputs": [
        {
          "output_type": "execute_result",
          "data": {
            "text/plain": [
              "array([6, 7, 8, 9])"
            ]
          },
          "metadata": {},
          "execution_count": 113
        }
      ],
      "source": [
        "count[count > 5]"
      ]
    },
    {
      "cell_type": "code",
      "source": [
        "two_dimensional_arrays[:]"
      ],
      "metadata": {
        "colab": {
          "base_uri": "https://localhost:8080/"
        },
        "id": "OOUGGI5gdfb3",
        "outputId": "90c69306-a106-4df9-f266-e07e9375c3e6"
      },
      "execution_count": null,
      "outputs": [
        {
          "output_type": "execute_result",
          "data": {
            "text/plain": [
              "array([[44410.,  5712., 37123.,     0., 25757.],\n",
              "       [ 2003.,  1991.,  1990.,  2019.,  2006.]])"
            ]
          },
          "metadata": {},
          "execution_count": 122
        }
      ]
    },
    {
      "cell_type": "code",
      "source": [
        "two_dimensional_arrays[1] > 2000"
      ],
      "metadata": {
        "colab": {
          "base_uri": "https://localhost:8080/"
        },
        "id": "nI3sim4LdaCz",
        "outputId": "57a9464a-ffb7-458f-df4c-2d55f85a27c6"
      },
      "execution_count": null,
      "outputs": [
        {
          "output_type": "execute_result",
          "data": {
            "text/plain": [
              "array([ True, False, False,  True,  True])"
            ]
          },
          "metadata": {},
          "execution_count": 117
        }
      ]
    },
    {
      "cell_type": "code",
      "execution_count": null,
      "metadata": {
        "id": "pk8A68z1ltpl",
        "colab": {
          "base_uri": "https://localhost:8080/"
        },
        "outputId": "f3cb6aa5-8f37-4dd7-abd3-962386b18b6d"
      },
      "outputs": [
        {
          "output_type": "execute_result",
          "data": {
            "text/plain": [
              "array([[44410.,     0., 25757.],\n",
              "       [ 2003.,  2019.,  2006.]])"
            ]
          },
          "metadata": {},
          "execution_count": 123
        }
      ],
      "source": [
        "two_dimensional_arrays[:, two_dimensional_arrays[1] > 2000]"
      ]
    },
    {
      "cell_type": "markdown",
      "source": [
        "### Selections and slicing\n",
        "#### Exercise"
      ],
      "metadata": {
        "id": "DTP6RBNgmkLx"
      }
    },
    {
      "cell_type": "code",
      "source": [
        "data = np.array(\n",
        "    [\n",
        "        ['Robert', 'married', 'male'],\n",
        "        ['Sheila', 'single', 'female'],\n",
        "        ['Bruno', 'single', 'male'],\n",
        "        ['Rita', 'married', 'female']\n",
        "    ]\n",
        ")"
      ],
      "metadata": {
        "id": "ck3hX7ZZmkZj"
      },
      "execution_count": null,
      "outputs": []
    },
    {
      "cell_type": "code",
      "source": [
        "data[0::2, :2]"
      ],
      "metadata": {
        "colab": {
          "base_uri": "https://localhost:8080/"
        },
        "id": "EWBSkiKdp8cy",
        "outputId": "21b81bb9-6e7d-42f1-84af-69d66baab695"
      },
      "execution_count": null,
      "outputs": [
        {
          "output_type": "execute_result",
          "data": {
            "text/plain": [
              "array([['Robert', 'married'],\n",
              "       ['Bruno', 'single']], dtype='<U7')"
            ]
          },
          "metadata": {},
          "execution_count": 164
        }
      ]
    },
    {
      "cell_type": "code",
      "source": [
        "data[:, 2] == 'male'"
      ],
      "metadata": {
        "colab": {
          "base_uri": "https://localhost:8080/"
        },
        "id": "rwCeBa2fqyP0",
        "outputId": "0cbe1e8a-b0b5-4385-bf06-6fc8fadcf185"
      },
      "execution_count": null,
      "outputs": [
        {
          "output_type": "execute_result",
          "data": {
            "text/plain": [
              "array([ True, False,  True, False])"
            ]
          },
          "metadata": {},
          "execution_count": 165
        }
      ]
    },
    {
      "cell_type": "code",
      "source": [
        "data[data[:, 2] == 'male', :2]"
      ],
      "metadata": {
        "colab": {
          "base_uri": "https://localhost:8080/"
        },
        "id": "zxMMX84dnrP-",
        "outputId": "fbb9e43c-a3d9-4952-cdd3-2f6f20b27aee"
      },
      "execution_count": null,
      "outputs": [
        {
          "output_type": "execute_result",
          "data": {
            "text/plain": [
              "array([['Robert', 'married'],\n",
              "       ['Bruno', 'single']], dtype='<U7')"
            ]
          },
          "metadata": {},
          "execution_count": 166
        }
      ]
    },
    {
      "cell_type": "markdown",
      "metadata": {
        "id": "Acw1DffHltpn"
      },
      "source": [
        "# 5.4 Numpy arrays attributes and methods"
      ]
    },
    {
      "cell_type": "code",
      "source": [
        "import numpy as np"
      ],
      "metadata": {
        "id": "gZ1d2vpxPFZ9"
      },
      "execution_count": null,
      "outputs": []
    },
    {
      "cell_type": "code",
      "source": [
        "km = np.array([44410., 5712., 37123., 0., 25757.])\n",
        "years = np.array([2003, 1991, 1990, 2019, 2006], dtype=int)\n",
        "data = np.array([km, years])"
      ],
      "metadata": {
        "id": "IB0AFH3MOTk3"
      },
      "execution_count": null,
      "outputs": []
    },
    {
      "cell_type": "markdown",
      "metadata": {
        "id": "RBnSne6Eltpo"
      },
      "source": [
        "### Attributes\n",
        "\n",
        "https://numpy.org/doc/1.16/reference/arrays.ndarray.html#array-attributes"
      ]
    },
    {
      "cell_type": "markdown",
      "metadata": {
        "id": "uKqPxg2Zltpo"
      },
      "source": [
        "## *ndarray.shape*\n",
        "\n",
        "Returns a tuple with the dimensions of the array."
      ]
    },
    {
      "cell_type": "code",
      "execution_count": null,
      "metadata": {
        "id": "gmaZhF04ltpp",
        "colab": {
          "base_uri": "https://localhost:8080/"
        },
        "outputId": "51ddbb25-d0c2-4159-a095-a89075cd341a"
      },
      "outputs": [
        {
          "output_type": "execute_result",
          "data": {
            "text/plain": [
              "(2, 5)"
            ]
          },
          "metadata": {},
          "execution_count": 6
        }
      ],
      "source": [
        "data.shape"
      ]
    },
    {
      "cell_type": "markdown",
      "metadata": {
        "id": "XaY6oXkmltpp"
      },
      "source": [
        "## *ndarray.ndim*\n",
        "\n",
        "Returns the number of dimensions in the array."
      ]
    },
    {
      "cell_type": "code",
      "execution_count": null,
      "metadata": {
        "id": "inJ4HDjaltpq",
        "colab": {
          "base_uri": "https://localhost:8080/"
        },
        "outputId": "bfabb62d-768f-43b0-85c5-4b99145b916e"
      },
      "outputs": [
        {
          "output_type": "execute_result",
          "data": {
            "text/plain": [
              "2"
            ]
          },
          "metadata": {},
          "execution_count": 5
        }
      ],
      "source": [
        "data.ndim"
      ]
    },
    {
      "cell_type": "markdown",
      "metadata": {
        "id": "ESgVt5xOltpq"
      },
      "source": [
        "## *ndarray.size*\n",
        "\n",
        "Returns the number of elements in the array."
      ]
    },
    {
      "cell_type": "code",
      "execution_count": null,
      "metadata": {
        "id": "BWr4efoiltpq",
        "colab": {
          "base_uri": "https://localhost:8080/"
        },
        "outputId": "60b4c7ff-2c52-4571-d2c6-1674a4ceef0a"
      },
      "outputs": [
        {
          "output_type": "execute_result",
          "data": {
            "text/plain": [
              "10"
            ]
          },
          "metadata": {},
          "execution_count": 7
        }
      ],
      "source": [
        "data.size"
      ]
    },
    {
      "cell_type": "markdown",
      "metadata": {
        "id": "Ox8JlBM3ltpr"
      },
      "source": [
        "## *ndarray.dtype*\n",
        "\n",
        "Returns the data type of array elements."
      ]
    },
    {
      "cell_type": "code",
      "execution_count": null,
      "metadata": {
        "id": "npiL84Vfltpu",
        "colab": {
          "base_uri": "https://localhost:8080/"
        },
        "outputId": "b9af5bac-dd93-4b2d-d214-f87d4186f247"
      },
      "outputs": [
        {
          "output_type": "execute_result",
          "data": {
            "text/plain": [
              "dtype('float64')"
            ]
          },
          "metadata": {},
          "execution_count": 8
        }
      ],
      "source": [
        "data.dtype"
      ]
    },
    {
      "cell_type": "markdown",
      "metadata": {
        "id": "j7uPN16oltpv"
      },
      "source": [
        "## *ndarray.T*\n",
        "\n",
        "Returns the transposed array, that is, converts rows to columns and vice versa."
      ]
    },
    {
      "cell_type": "code",
      "execution_count": null,
      "metadata": {
        "id": "bLjrrx56ltpv",
        "colab": {
          "base_uri": "https://localhost:8080/"
        },
        "outputId": "2f516ab9-8e27-48e7-c09e-125666145114"
      },
      "outputs": [
        {
          "output_type": "execute_result",
          "data": {
            "text/plain": [
              "array([[44410.,  2003.],\n",
              "       [ 5712.,  1991.],\n",
              "       [37123.,  1990.],\n",
              "       [    0.,  2019.],\n",
              "       [25757.,  2006.]])"
            ]
          },
          "metadata": {},
          "execution_count": 9
        }
      ],
      "source": [
        "data.T"
      ]
    },
    {
      "cell_type": "code",
      "execution_count": null,
      "metadata": {
        "id": "5A9SlJQvltpw",
        "colab": {
          "base_uri": "https://localhost:8080/"
        },
        "outputId": "6ebe6f14-2ecd-455e-e83e-182e142e4f08"
      },
      "outputs": [
        {
          "output_type": "execute_result",
          "data": {
            "text/plain": [
              "array([[44410.,  2003.],\n",
              "       [ 5712.,  1991.],\n",
              "       [37123.,  1990.],\n",
              "       [    0.,  2019.],\n",
              "       [25757.,  2006.]])"
            ]
          },
          "metadata": {},
          "execution_count": 11
        }
      ],
      "source": [
        "data.transpose()"
      ]
    },
    {
      "cell_type": "markdown",
      "metadata": {
        "id": "e9r6ryTrltpw"
      },
      "source": [
        "### Methods\n",
        "\n",
        "https://numpy.org/doc/1.16/reference/arrays.ndarray.html#array-methods"
      ]
    },
    {
      "cell_type": "markdown",
      "metadata": {
        "id": "SR9KYy-0ltpw"
      },
      "source": [
        "## *ndarray.tolist()*\n",
        "\n",
        "Returns the array as a Python list."
      ]
    },
    {
      "cell_type": "code",
      "execution_count": null,
      "metadata": {
        "id": "C2aTAwOXltpw",
        "colab": {
          "base_uri": "https://localhost:8080/"
        },
        "outputId": "4521d08c-2f35-4275-e85c-48e60a70e138"
      },
      "outputs": [
        {
          "output_type": "execute_result",
          "data": {
            "text/plain": [
              "[[44410.0, 5712.0, 37123.0, 0.0, 25757.0],\n",
              " [2003.0, 1991.0, 1990.0, 2019.0, 2006.0]]"
            ]
          },
          "metadata": {},
          "execution_count": 12
        }
      ],
      "source": [
        "data.tolist()"
      ]
    },
    {
      "cell_type": "markdown",
      "metadata": {
        "id": "bHxcxugPltpx"
      },
      "source": [
        "## *ndarray.reshape(shape[, order])*\n",
        "\n",
        "Retorna um array que contém os mesmos dados com uma nova forma."
      ]
    },
    {
      "cell_type": "code",
      "execution_count": null,
      "metadata": {
        "id": "lwESxO71ltpx",
        "colab": {
          "base_uri": "https://localhost:8080/"
        },
        "outputId": "a9c6f6a2-9182-4210-a941-c270b09006fd"
      },
      "outputs": [
        {
          "output_type": "execute_result",
          "data": {
            "text/plain": [
              "array([0, 1, 2, 3, 4, 5, 6, 7, 8, 9])"
            ]
          },
          "metadata": {},
          "execution_count": 14
        }
      ],
      "source": [
        "count = np.arange(10)\n",
        "count"
      ]
    },
    {
      "cell_type": "code",
      "execution_count": null,
      "metadata": {
        "id": "5332Xu8-ltpy",
        "colab": {
          "base_uri": "https://localhost:8080/"
        },
        "outputId": "fee9ad77-0760-4d15-c0e0-be696ccb20c9"
      },
      "outputs": [
        {
          "output_type": "execute_result",
          "data": {
            "text/plain": [
              "array([[0, 1],\n",
              "       [2, 3],\n",
              "       [4, 5],\n",
              "       [6, 7],\n",
              "       [8, 9]])"
            ]
          },
          "metadata": {},
          "execution_count": 17
        }
      ],
      "source": [
        "count.reshape(5, 2)"
      ]
    },
    {
      "cell_type": "code",
      "execution_count": null,
      "metadata": {
        "id": "sh9poyfzltpy",
        "colab": {
          "base_uri": "https://localhost:8080/"
        },
        "outputId": "3006cffd-ded6-43e5-ef78-138570f9eae5"
      },
      "outputs": [
        {
          "output_type": "execute_result",
          "data": {
            "text/plain": [
              "array([[0, 1],\n",
              "       [2, 3],\n",
              "       [4, 5],\n",
              "       [6, 7],\n",
              "       [8, 9]])"
            ]
          },
          "metadata": {},
          "execution_count": 18
        }
      ],
      "source": [
        "count.reshape(5, 2, order='C')"
      ]
    },
    {
      "cell_type": "code",
      "execution_count": null,
      "metadata": {
        "id": "2RoZvbgHltpz",
        "colab": {
          "base_uri": "https://localhost:8080/"
        },
        "outputId": "18e0009d-40ab-4871-b44e-9246f427a251"
      },
      "outputs": [
        {
          "output_type": "execute_result",
          "data": {
            "text/plain": [
              "array([[0, 5],\n",
              "       [1, 6],\n",
              "       [2, 7],\n",
              "       [3, 8],\n",
              "       [4, 9]])"
            ]
          },
          "metadata": {},
          "execution_count": 19
        }
      ],
      "source": [
        "count.reshape(5, 2, order='F')"
      ]
    },
    {
      "cell_type": "code",
      "execution_count": null,
      "metadata": {
        "id": "6q0dJZ-dltp0"
      },
      "outputs": [],
      "source": [
        "km = [44410, 5712, 37123, 0, 25757]\n",
        "years = [2003, 1991, 1990, 2019, 2006]"
      ]
    },
    {
      "cell_type": "code",
      "execution_count": null,
      "metadata": {
        "id": "bs56aGrkltp0",
        "colab": {
          "base_uri": "https://localhost:8080/"
        },
        "outputId": "982b0905-55e2-46f1-f1c0-1018a46d4640"
      },
      "outputs": [
        {
          "output_type": "execute_result",
          "data": {
            "text/plain": [
              "[44410, 5712, 37123, 0, 25757, 2003, 1991, 1990, 2019, 2006]"
            ]
          },
          "metadata": {},
          "execution_count": 22
        }
      ],
      "source": [
        "info_cars = km + years\n",
        "info_cars"
      ]
    },
    {
      "cell_type": "code",
      "execution_count": null,
      "metadata": {
        "id": "s_GkTk2fltp1",
        "colab": {
          "base_uri": "https://localhost:8080/"
        },
        "outputId": "a71d3601-3086-40be-c3ac-beeb80138601"
      },
      "outputs": [
        {
          "output_type": "execute_result",
          "data": {
            "text/plain": [
              "array([[44410,  5712, 37123,     0, 25757],\n",
              "       [ 2003,  1991,  1990,  2019,  2006]])"
            ]
          },
          "metadata": {},
          "execution_count": 23
        }
      ],
      "source": [
        "np.array(info_cars).reshape(2, 5)"
      ]
    },
    {
      "cell_type": "code",
      "execution_count": null,
      "metadata": {
        "id": "xodm8DVZltp1",
        "colab": {
          "base_uri": "https://localhost:8080/"
        },
        "outputId": "e74fd105-9365-4ffe-a298-42ea602da204"
      },
      "outputs": [
        {
          "output_type": "execute_result",
          "data": {
            "text/plain": [
              "array([[44410,  2003],\n",
              "       [ 5712,  1991],\n",
              "       [37123,  1990],\n",
              "       [    0,  2019],\n",
              "       [25757,  2006]])"
            ]
          },
          "metadata": {},
          "execution_count": 26
        }
      ],
      "source": [
        "np.array(info_cars).reshape(5, 2, order='F')"
      ]
    },
    {
      "cell_type": "markdown",
      "metadata": {
        "id": "Tdj5iArbltp2"
      },
      "source": [
        "## *ndarray.resize(new_shape[, refcheck])*\n",
        "\n",
        "Change the shape and size of the array."
      ]
    },
    {
      "cell_type": "code",
      "execution_count": null,
      "metadata": {
        "id": "vB2zxCDtltp2",
        "colab": {
          "base_uri": "https://localhost:8080/"
        },
        "outputId": "38fa88c6-8b5a-4c32-ea3a-2cb8162aa64c"
      },
      "outputs": [
        {
          "output_type": "execute_result",
          "data": {
            "text/plain": [
              "array([[44410.,  5712., 37123.,     0., 25757.],\n",
              "       [ 2003.,  1991.,  1990.,  2019.,  2006.]])"
            ]
          },
          "metadata": {},
          "execution_count": 28
        }
      ],
      "source": [
        "new_data = data.copy()\n",
        "new_data"
      ]
    },
    {
      "cell_type": "code",
      "execution_count": null,
      "metadata": {
        "id": "IMv0m4Multp2",
        "colab": {
          "base_uri": "https://localhost:8080/"
        },
        "outputId": "23ae38f9-f372-4934-910e-bd19e572fa4e"
      },
      "outputs": [
        {
          "output_type": "execute_result",
          "data": {
            "text/plain": [
              "array([[44410.,  5712., 37123.,     0., 25757.],\n",
              "       [ 2003.,  1991.,  1990.,  2019.,  2006.],\n",
              "       [    0.,     0.,     0.,     0.,     0.]])"
            ]
          },
          "metadata": {},
          "execution_count": 34
        }
      ],
      "source": [
        "new_data.resize(3, 5, refcheck=False)\n",
        "new_data"
      ]
    },
    {
      "cell_type": "code",
      "execution_count": null,
      "metadata": {
        "id": "wpAi9928ltp3",
        "colab": {
          "base_uri": "https://localhost:8080/"
        },
        "outputId": "1c57e7d9-a2ef-47a3-fe89-63d3f837698e"
      },
      "outputs": [
        {
          "output_type": "stream",
          "name": "stderr",
          "text": [
            "/usr/local/lib/python3.7/dist-packages/ipykernel_launcher.py:1: RuntimeWarning: invalid value encountered in true_divide\n",
            "  \"\"\"Entry point for launching an IPython kernel.\n"
          ]
        }
      ],
      "source": [
        "new_data[2] = new_data[0] / (2019 - new_data[1])"
      ]
    },
    {
      "cell_type": "code",
      "execution_count": null,
      "metadata": {
        "id": "CJyuKqaFltp3",
        "colab": {
          "base_uri": "https://localhost:8080/"
        },
        "outputId": "3986079c-e6ca-457e-e28a-209af9d7f6b6"
      },
      "outputs": [
        {
          "output_type": "execute_result",
          "data": {
            "text/plain": [
              "array([[44410.        ,  5712.        , 37123.        ,     0.        ,\n",
              "        25757.        ],\n",
              "       [ 2003.        ,  1991.        ,  1990.        ,  2019.        ,\n",
              "         2006.        ],\n",
              "       [ 2775.625     ,   204.        ,  1280.10344828,            nan,\n",
              "         1981.30769231]])"
            ]
          },
          "metadata": {},
          "execution_count": 42
        }
      ],
      "source": [
        "new_data"
      ]
    },
    {
      "cell_type": "markdown",
      "metadata": {
        "id": "GPSk7Q_Dltp4"
      },
      "source": [
        "# 5.5 Statistics with Numpy arrays\n",
        "\n",
        "https://numpy.org/doc/1.16/reference/arrays.ndarray.html#calculation\n",
        "\n",
        "AND\n",
        "\n",
        "https://numpy.org/doc/1.16/reference/routines.statistics.html\n",
        "\n",
        "AND\n",
        "\n",
        "https://numpy.org/doc/1.16/reference/routines.math.html"
      ]
    },
    {
      "cell_type": "code",
      "source": [
        "import numpy as np"
      ],
      "metadata": {
        "id": "UIv3NwjKl0Yr"
      },
      "execution_count": 10,
      "outputs": []
    },
    {
      "cell_type": "code",
      "execution_count": 11,
      "metadata": {
        "id": "RH2u1orXltp5"
      },
      "outputs": [],
      "source": [
        "years = np.loadtxt(fname = \"cars-years.txt\", dtype = int)\n",
        "km = np.loadtxt(fname = \"cars-km.txt\")\n",
        "value = np.loadtxt(fname = \"cars-value.txt\")"
      ]
    },
    {
      "cell_type": "code",
      "execution_count": 8,
      "metadata": {
        "id": "wbITF7r6ltp5",
        "colab": {
          "base_uri": "https://localhost:8080/"
        },
        "outputId": "27e2d01a-2548-4280-dca0-784a267ea8cd"
      },
      "outputs": [
        {
          "output_type": "execute_result",
          "data": {
            "text/plain": [
              "(258,)"
            ]
          },
          "metadata": {},
          "execution_count": 8
        }
      ],
      "source": [
        "years.shape"
      ]
    },
    {
      "cell_type": "markdown",
      "metadata": {
        "id": "U_x3SOVDltp7"
      },
      "source": [
        "https://numpy.org/doc/1.16/reference/generated/numpy.column_stack.html"
      ]
    },
    {
      "cell_type": "code",
      "execution_count": 14,
      "metadata": {
        "id": "wefxl-XBltp8",
        "colab": {
          "base_uri": "https://localhost:8080/"
        },
        "outputId": "2287cfe2-fb76-4830-e525-50596f66fa86"
      },
      "outputs": [
        {
          "output_type": "execute_result",
          "data": {
            "text/plain": [
              "array([[2.0030000e+03, 4.4410000e+04, 8.8078640e+04],\n",
              "       [1.9910000e+03, 5.7120000e+03, 1.0616194e+05],\n",
              "       [1.9900000e+03, 3.7123000e+04, 7.2832160e+04],\n",
              "       [2.0190000e+03, 0.0000000e+00, 1.2454907e+05],\n",
              "       [2.0060000e+03, 2.5757000e+04, 9.2612100e+04],\n",
              "       [2.0120000e+03, 1.0728000e+04, 9.7497730e+04],\n",
              "       [2.0190000e+03, 0.0000000e+00, 5.6445200e+04],\n",
              "       [2.0090000e+03, 7.7599000e+04, 1.1231044e+05],\n",
              "       [2.0100000e+03, 9.9197000e+04, 1.2071627e+05],\n",
              "       [2.0110000e+03, 3.7978000e+04, 7.6566490e+04],\n",
              "       [2.0020000e+03, 1.2859000e+04, 7.1647590e+04],\n",
              "       [2.0070000e+03, 8.0520000e+03, 7.3919530e+04],\n",
              "       [2.0010000e+03, 8.9773000e+04, 1.1273299e+05],\n",
              "       [2.0190000e+03, 0.0000000e+00, 5.3183380e+04],\n",
              "       [2.0090000e+03, 4.1457000e+04, 1.2748842e+05],\n",
              "       [2.0160000e+03, 1.1560700e+05, 5.9910400e+04],\n",
              "       [2.0120000e+03, 4.6449000e+04, 6.1118590e+04],\n",
              "       [2.0190000e+03, 0.0000000e+00, 8.8552390e+04],\n",
              "       [2.0160000e+03, 3.7086000e+04, 6.2696690e+04],\n",
              "       [2.0170000e+03, 1.5173000e+04, 1.0172630e+05],\n",
              "       [2.0020000e+03, 1.0119300e+05, 1.0614738e+05],\n",
              "       [2.0190000e+03, 0.0000000e+00, 9.4564400e+04],\n",
              "       [1.9940000e+03, 9.8079000e+04, 1.3352984e+05],\n",
              "       [1.9910000e+03, 1.0295900e+05, 1.2568465e+05],\n",
              "       [2.0190000e+03, 0.0000000e+00, 1.2159621e+05],\n",
              "       [2.0190000e+03, 0.0000000e+00, 7.1367100e+04],\n",
              "       [2.0160000e+03, 5.7950000e+03, 9.5347750e+04],\n",
              "       [2.0190000e+03, 0.0000000e+00, 1.0543284e+05],\n",
              "       [2.0020000e+03, 5.8848000e+04, 5.7045270e+04],\n",
              "       [1.9910000e+03, 9.4381000e+04, 1.2043270e+05],\n",
              "       [1.9970000e+03, 3.0163000e+04, 7.0707200e+04],\n",
              "       [1.9950000e+03, 5.3332000e+04, 6.9105180e+04],\n",
              "       [2.0180000e+03, 1.7720000e+04, 5.9358690e+04],\n",
              "       [1.9910000e+03, 3.3808000e+04, 6.5955400e+04],\n",
              "       [2.0140000e+03, 9.0684000e+04, 6.0017030e+04],\n",
              "       [1.9950000e+03, 4.3975000e+04, 1.1890952e+05],\n",
              "       [2.0190000e+03, 0.0000000e+00, 5.1606590e+04],\n",
              "       [2.0190000e+03, 0.0000000e+00, 1.2328187e+05],\n",
              "       [2.0090000e+03, 5.5260000e+03, 6.9770180e+04],\n",
              "       [2.0190000e+03, 0.0000000e+00, 1.0260954e+05],\n",
              "       [2.0130000e+03, 9.3415000e+04, 6.7997190e+04],\n",
              "       [2.0030000e+03, 4.0762000e+04, 1.3523529e+05],\n",
              "       [2.0190000e+03, 0.0000000e+00, 8.6641340e+04],\n",
              "       [2.0020000e+03, 8.6302000e+04, 1.3681839e+05],\n",
              "       [2.0190000e+03, 0.0000000e+00, 1.1762673e+05],\n",
              "       [2.0020000e+03, 9.7550000e+03, 5.6208700e+04],\n",
              "       [2.0040000e+03, 6.9945000e+04, 8.4222650e+04],\n",
              "       [2.0010000e+03, 2.3950000e+03, 9.0781650e+04],\n",
              "       [2.0190000e+03, 0.0000000e+00, 6.4701100e+04],\n",
              "       [2.0030000e+03, 8.0349000e+04, 1.2635049e+05],\n",
              "       [2.0090000e+03, 8.5554000e+04, 1.4815289e+05],\n",
              "       [2.0060000e+03, 5.0496000e+04, 1.3229883e+05],\n",
              "       [2.0000000e+03, 6.7716000e+04, 1.3762763e+05],\n",
              "       [2.0060000e+03, 9.3947000e+04, 8.0422710e+04],\n",
              "       [2.0100000e+03, 3.5345000e+04, 5.6373990e+04],\n",
              "       [1.9940000e+03, 8.1007000e+04, 7.0846030e+04],\n",
              "       [2.0070000e+03, 1.1951300e+05, 1.2869423e+05],\n",
              "       [2.0190000e+03, 0.0000000e+00, 1.3332919e+05],\n",
              "       [2.0190000e+03, 0.0000000e+00, 1.3196143e+05],\n",
              "       [2.0190000e+03, 0.0000000e+00, 1.1203327e+05],\n",
              "       [2.0190000e+03, 0.0000000e+00, 8.1399350e+04],\n",
              "       [2.0190000e+03, 0.0000000e+00, 9.7163100e+04],\n",
              "       [2.0170000e+03, 1.1889500e+05, 6.6007160e+04],\n",
              "       [2.0110000e+03, 4.8509000e+04, 1.2877622e+05],\n",
              "       [2.0010000e+03, 1.0091200e+05, 1.4262302e+05],\n",
              "       [1.9960000e+03, 9.5649000e+04, 1.3693013e+05],\n",
              "       [2.0190000e+03, 0.0000000e+00, 6.6526610e+04],\n",
              "       [1.9940000e+03, 9.0495000e+04, 1.1415487e+05],\n",
              "       [2.0190000e+03, 0.0000000e+00, 1.4239275e+05],\n",
              "       [2.0070000e+03, 2.9132000e+04, 1.4671691e+05],\n",
              "       [1.9940000e+03, 2.3802000e+04, 1.2248568e+05],\n",
              "       [2.0070000e+03, 8.4992000e+04, 9.7951030e+04],\n",
              "       [1.9970000e+03, 5.4395000e+04, 7.8283490e+04],\n",
              "       [2.0060000e+03, 2.6731000e+04, 8.3434040e+04],\n",
              "       [2.0130000e+03, 4.4329000e+04, 7.7836230e+04],\n",
              "       [1.9940000e+03, 1.1823600e+05, 6.0813920e+04],\n",
              "       [2.0080000e+03, 1.1380800e+05, 9.1353860e+04],\n",
              "       [2.0080000e+03, 6.1000000e+02, 1.1628121e+05],\n",
              "       [2.0190000e+03, 0.0000000e+00, 1.4519770e+05],\n",
              "       [2.0190000e+03, 0.0000000e+00, 5.0742100e+04],\n",
              "       [1.9990000e+03, 1.2887000e+04, 7.3033530e+04],\n",
              "       [2.0070000e+03, 7.9607000e+04, 5.4332870e+04],\n",
              "       [1.9930000e+03, 9.0924000e+04, 5.2207450e+04],\n",
              "       [1.9950000e+03, 4.2733000e+04, 6.3578500e+04],\n",
              "       [2.0190000e+03, 0.0000000e+00, 6.4507720e+04],\n",
              "       [2.0190000e+03, 0.0000000e+00, 1.1507559e+05],\n",
              "       [2.0160000e+03, 1.1771400e+05, 1.3303060e+05],\n",
              "       [2.0110000e+03, 1.1388500e+05, 1.4159186e+05],\n",
              "       [2.0190000e+03, 0.0000000e+00, 1.0038028e+05],\n",
              "       [2.0020000e+03, 3.0511000e+04, 9.6369040e+04],\n",
              "       [2.0130000e+03, 7.4867000e+04, 1.4260384e+05],\n",
              "       [2.0170000e+03, 1.1976000e+05, 1.1770967e+05],\n",
              "       [2.0160000e+03, 8.3560000e+03, 1.0224154e+05],\n",
              "       [2.0080000e+03, 6.4247000e+04, 9.6065380e+04],\n",
              "       [2.0180000e+03, 8.8661000e+04, 5.3894610e+04],\n",
              "       [2.0030000e+03, 4.5390000e+03, 1.2391178e+05],\n",
              "       [2.0030000e+03, 1.1011600e+05, 1.0199635e+05],\n",
              "       [2.0040000e+03, 3.3215000e+04, 8.3431660e+04],\n",
              "       [2.0100000e+03, 9.2001000e+04, 1.2297563e+05],\n",
              "       [2.0190000e+03, 0.0000000e+00, 9.3227730e+04],\n",
              "       [2.0060000e+03, 8.1708000e+04, 5.8762650e+04],\n",
              "       [2.0010000e+03, 7.0641000e+04, 1.3954967e+05],\n",
              "       [2.0190000e+03, 0.0000000e+00, 1.2201642e+05],\n",
              "       [2.0150000e+03, 9.1277000e+04, 7.2731980e+04],\n",
              "       [2.0180000e+03, 2.6544000e+04, 8.8416540e+04],\n",
              "       [2.0170000e+03, 5.2596000e+04, 7.3873420e+04],\n",
              "       [1.9920000e+03, 4.7503000e+04, 7.0709340e+04],\n",
              "       [2.0010000e+03, 8.9056000e+04, 1.1530650e+05],\n",
              "       [1.9930000e+03, 2.8834000e+04, 5.5924630e+04],\n",
              "       [1.9950000e+03, 1.1056400e+05, 8.5052260e+04],\n",
              "       [2.0030000e+03, 5.6638000e+04, 5.6646340e+04],\n",
              "       [2.0140000e+03, 1.7357000e+04, 1.3894688e+05],\n",
              "       [2.0080000e+03, 7.4015000e+04, 1.0825672e+05],\n",
              "       [2.0130000e+03, 1.5196000e+04, 5.8979300e+04],\n",
              "       [2.0190000e+03, 0.0000000e+00, 1.1472768e+05],\n",
              "       [2.0170000e+03, 1.0821000e+04, 1.3966148e+05],\n",
              "       [2.0190000e+03, 0.0000000e+00, 8.0382240e+04],\n",
              "       [2.0190000e+03, 0.0000000e+00, 1.4915717e+05],\n",
              "       [2.0060000e+03, 9.5950000e+03, 8.7830410e+04],\n",
              "       [2.0150000e+03, 9.9052000e+04, 1.4356822e+05],\n",
              "       [2.0070000e+03, 5.2389000e+04, 1.3817185e+05],\n",
              "       [2.0050000e+03, 1.1994500e+05, 1.1578495e+05],\n",
              "       [2.0170000e+03, 9.6005000e+04, 1.4650899e+05],\n",
              "       [1.9980000e+03, 3.1639000e+04, 1.3767023e+05],\n",
              "       [2.0190000e+03, 0.0000000e+00, 1.3859727e+05],\n",
              "       [1.9990000e+03, 8.0187000e+04, 1.4762781e+05],\n",
              "       [2.0190000e+03, 0.0000000e+00, 6.2999020e+04],\n",
              "       [2.0090000e+03, 5.8212000e+04, 9.1242440e+04],\n",
              "       [2.0030000e+03, 6.1672000e+04, 1.4948992e+05],\n",
              "       [1.9940000e+03, 3.2017000e+04, 6.3529950e+04],\n",
              "       [2.0190000e+03, 0.0000000e+00, 5.8525410e+04],\n",
              "       [1.9940000e+03, 5.6944000e+04, 9.0345050e+04],\n",
              "       [2.0190000e+03, 0.0000000e+00, 1.4777087e+05],\n",
              "       [2.0150000e+03, 8.6519000e+04, 1.0661771e+05],\n",
              "       [1.9960000e+03, 4.8210000e+03, 1.0492988e+05],\n",
              "       [1.9970000e+03, 1.0102500e+05, 1.0071245e+05],\n",
              "       [1.9930000e+03, 3.0705000e+04, 1.4198293e+05],\n",
              "       [2.0190000e+03, 0.0000000e+00, 1.0403879e+05],\n",
              "       [1.9920000e+03, 3.2555000e+04, 8.8501540e+04],\n",
              "       [1.9950000e+03, 1.0338900e+05, 7.9782020e+04],\n",
              "       [2.0190000e+03, 0.0000000e+00, 8.6224100e+04],\n",
              "       [1.9900000e+03, 5.5289000e+04, 1.0359618e+05],\n",
              "       [2.0190000e+03, 0.0000000e+00, 1.4899647e+05],\n",
              "       [2.0190000e+03, 0.0000000e+00, 6.0948010e+04],\n",
              "       [1.9910000e+03, 1.1593000e+05, 6.9535440e+04],\n",
              "       [1.9900000e+03, 6.6437000e+04, 1.1113033e+05],\n",
              "       [2.0120000e+03, 9.6800000e+04, 6.5847690e+04],\n",
              "       [2.0070000e+03, 1.4237000e+04, 7.8096060e+04],\n",
              "       [2.0130000e+03, 1.9896000e+04, 6.9219890e+04],\n",
              "       [2.0000000e+03, 1.1304500e+05, 1.4411891e+05],\n",
              "       [2.0020000e+03, 1.1494200e+05, 7.7397050e+04],\n",
              "       [1.9960000e+03, 3.1730000e+03, 6.8974250e+04],\n",
              "       [1.9960000e+03, 8.3611000e+04, 1.2523130e+05],\n",
              "       [2.0150000e+03, 2.5356000e+04, 8.5501120e+04],\n",
              "       [1.9930000e+03, 8.8634000e+04, 1.3711621e+05],\n",
              "       [2.0130000e+03, 2.3140000e+03, 1.3882381e+05],\n",
              "       [2.0130000e+03, 2.6270000e+03, 1.1796195e+05],\n",
              "       [2.0090000e+03, 5.2034000e+04, 1.3266232e+05],\n",
              "       [2.0190000e+03, 0.0000000e+00, 1.4640579e+05],\n",
              "       [2.0190000e+03, 0.0000000e+00, 8.1999210e+04],\n",
              "       [2.0020000e+03, 7.9577000e+04, 1.4093460e+05],\n",
              "       [1.9970000e+03, 1.0820100e+05, 8.2366810e+04],\n",
              "       [1.9980000e+03, 7.6453000e+04, 7.0424110e+04],\n",
              "       [2.0040000e+03, 5.7683000e+04, 5.3620310e+04],\n",
              "       [1.9960000e+03, 9.6610000e+04, 7.3389180e+04],\n",
              "       [2.0150000e+03, 1.0900100e+05, 1.1161812e+05],\n",
              "       [2.0160000e+03, 2.6212000e+04, 1.1218737e+05],\n",
              "       [2.0050000e+03, 4.5971000e+04, 1.2081257e+05],\n",
              "       [1.9990000e+03, 4.9182000e+04, 1.1603104e+05],\n",
              "       [1.9950000e+03, 4.9907000e+04, 1.2539811e+05],\n",
              "       [1.9930000e+03, 3.8620000e+04, 7.6101470e+04],\n",
              "       [2.0040000e+03, 6.0996000e+04, 7.5263240e+04],\n",
              "       [2.0130000e+03, 7.3914000e+04, 1.4738776e+05],\n",
              "       [1.9980000e+03, 1.0739200e+05, 8.5311400e+04],\n",
              "       [2.0180000e+03, 9.1460000e+03, 5.4388110e+04],\n",
              "       [2.0190000e+03, 0.0000000e+00, 1.2415665e+05],\n",
              "       [2.0180000e+03, 1.7924000e+04, 1.4620334e+05],\n",
              "       [2.0190000e+03, 0.0000000e+00, 5.6453940e+04],\n",
              "       [1.9900000e+03, 1.1694900e+05, 6.8873790e+04],\n",
              "       [2.0090000e+03, 2.0476000e+04, 9.1667610e+04],\n",
              "       [1.9900000e+03, 5.2804000e+04, 9.3776520e+04],\n",
              "       [2.0060000e+03, 8.8490000e+03, 6.6433820e+04],\n",
              "       [2.0020000e+03, 9.1724000e+04, 1.0905927e+05],\n",
              "       [1.9910000e+03, 3.2056000e+04, 1.2206997e+05],\n",
              "       [1.9920000e+03, 7.4886000e+04, 1.1309032e+05],\n",
              "       [2.0190000e+03, 0.0000000e+00, 8.9401100e+04],\n",
              "       [2.0190000e+03, 0.0000000e+00, 5.6842790e+04],\n",
              "       [2.0050000e+03, 5.2189000e+04, 1.4667671e+05],\n",
              "       [2.0100000e+03, 8.3559000e+04, 8.9511960e+04],\n",
              "       [2.0190000e+03, 0.0000000e+00, 9.7290180e+04],\n",
              "       [2.0160000e+03, 2.0328000e+04, 1.2067356e+05],\n",
              "       [2.0190000e+03, 0.0000000e+00, 1.1443494e+05],\n",
              "       [2.0100000e+03, 7.5577000e+04, 1.3954669e+05],\n",
              "       [1.9940000e+03, 3.3659000e+04, 9.5078160e+04],\n",
              "       [2.0010000e+03, 1.0434100e+05, 6.8091770e+04],\n",
              "       [2.0140000e+03, 2.5510000e+04, 6.1496970e+04],\n",
              "       [1.9960000e+03, 1.8965000e+04, 1.3966930e+05],\n",
              "       [1.9930000e+03, 8.7161000e+04, 8.0661390e+04],\n",
              "       [1.9930000e+03, 6.6520000e+03, 6.1783650e+04],\n",
              "       [2.0010000e+03, 5.5738000e+04, 5.2805910e+04],\n",
              "       [2.0190000e+03, 0.0000000e+00, 1.2702475e+05],\n",
              "       [2.0190000e+03, 0.0000000e+00, 1.3554300e+05],\n",
              "       [2.0190000e+03, 0.0000000e+00, 1.2170873e+05],\n",
              "       [2.0070000e+03, 6.4320000e+04, 1.0734268e+05],\n",
              "       [2.0190000e+03, 0.0000000e+00, 5.7888100e+04],\n",
              "       [2.0160000e+03, 6.8678000e+04, 1.1816148e+05],\n",
              "       [2.0140000e+03, 7.1697000e+04, 1.4249906e+05],\n",
              "       [2.0190000e+03, 0.0000000e+00, 1.2839611e+05],\n",
              "       [2.0150000e+03, 3.4783000e+04, 1.1235061e+05],\n",
              "       [2.0150000e+03, 3.3772000e+04, 1.2466138e+05],\n",
              "       [1.9960000e+03, 8.5127000e+04, 5.4263160e+04],\n",
              "       [2.0020000e+03, 1.3606000e+04, 6.2041320e+04],\n",
              "       [2.0050000e+03, 3.5647000e+04, 1.2929611e+05],\n",
              "       [1.9950000e+03, 9.5128000e+04, 6.0998330e+04],\n",
              "       [1.9990000e+03, 1.4046000e+04, 5.8008500e+04],\n",
              "       [2.0050000e+03, 4.1194000e+04, 8.2304190e+04],\n",
              "       [2.0190000e+03, 0.0000000e+00, 1.1453174e+05],\n",
              "       [1.9970000e+03, 9.6100000e+04, 1.2856561e+05],\n",
              "       [1.9900000e+03, 1.0390000e+05, 1.2648826e+05],\n",
              "       [2.0010000e+03, 4.3814000e+04, 1.1907455e+05],\n",
              "       [2.0130000e+03, 2.4638000e+04, 1.3023804e+05],\n",
              "       [2.0190000e+03, 0.0000000e+00, 1.1576017e+05],\n",
              "       [2.0170000e+03, 1.1096600e+05, 1.2124800e+05],\n",
              "       [2.0110000e+03, 1.5987000e+04, 9.8156350e+04],\n",
              "       [2.0050000e+03, 5.3369000e+04, 1.1214680e+05],\n",
              "       [2.0070000e+03, 1.0077000e+04, 1.0272963e+05],\n",
              "       [1.9930000e+03, 7.1544000e+04, 1.4108335e+05],\n",
              "       [1.9910000e+03, 1.0700000e+02, 1.0296876e+05],\n",
              "       [1.9910000e+03, 8.3940000e+03, 7.6310010e+04],\n",
              "       [1.9970000e+03, 4.1498000e+04, 1.2048174e+05],\n",
              "       [2.0000000e+03, 1.1600200e+05, 5.4559180e+04],\n",
              "       [2.0070000e+03, 1.0085800e+05, 9.2957640e+04],\n",
              "       [2.0060000e+03, 6.7475000e+04, 1.2781006e+05],\n",
              "       [2.0150000e+03, 8.4970000e+03, 7.3311750e+04],\n",
              "       [2.0080000e+03, 4.4200000e+03, 6.5138030e+04],\n",
              "       [2.0190000e+03, 0.0000000e+00, 9.0141470e+04],\n",
              "       [1.9960000e+03, 5.8537000e+04, 7.1160360e+04],\n",
              "       [2.0190000e+03, 0.0000000e+00, 6.7539790e+04],\n",
              "       [2.0190000e+03, 0.0000000e+00, 6.7664860e+04],\n",
              "       [2.0140000e+03, 1.1201600e+05, 6.8652160e+04],\n",
              "       [2.0040000e+03, 9.1840000e+04, 1.1472874e+05],\n",
              "       [2.0080000e+03, 1.1278700e+05, 1.4164508e+05],\n",
              "       [2.0190000e+03, 0.0000000e+00, 1.2624784e+05],\n",
              "       [2.0190000e+03, 0.0000000e+00, 1.2885221e+05],\n",
              "       [2.0120000e+03, 9.2930000e+03, 1.3238476e+05],\n",
              "       [2.0190000e+03, 0.0000000e+00, 1.2941533e+05],\n",
              "       [1.9960000e+03, 5.5083000e+04, 8.9536820e+04],\n",
              "       [2.0110000e+03, 4.8796000e+04, 8.7975300e+04],\n",
              "       [2.0190000e+03, 0.0000000e+00, 7.7675790e+04],\n",
              "       [2.0100000e+03, 8.9685000e+04, 5.8881670e+04],\n",
              "       [2.0070000e+03, 8.5384000e+04, 5.5081990e+04],\n",
              "       [1.9940000e+03, 9.8108000e+04, 1.1882644e+05],\n",
              "       [2.0070000e+03, 7.1280000e+04, 1.3762762e+05],\n",
              "       [2.0140000e+03, 2.7505000e+04, 5.1759580e+04],\n",
              "       [1.9910000e+03, 2.9981000e+04, 5.1667060e+04],\n",
              "       [2.0020000e+03, 5.2637000e+04, 6.8934030e+04],\n",
              "       [1.9960000e+03, 7.6850000e+03, 1.2211090e+05],\n",
              "       [1.9920000e+03, 5.0188000e+04, 9.0381470e+04]])"
            ]
          },
          "metadata": {},
          "execution_count": 14
        }
      ],
      "source": [
        "dataset = np.column_stack((years, km, value))\n",
        "dataset"
      ]
    },
    {
      "cell_type": "code",
      "execution_count": 22,
      "metadata": {
        "id": "OzDTTmj8ltp_",
        "scrolled": true,
        "colab": {
          "base_uri": "https://localhost:8080/"
        },
        "outputId": "25618f08-8e8e-4ef2-f72d-bfbd3b82c4ff"
      },
      "outputs": [
        {
          "output_type": "execute_result",
          "data": {
            "text/plain": [
              "(258, 3)"
            ]
          },
          "metadata": {},
          "execution_count": 22
        }
      ],
      "source": [
        "dataset.shape"
      ]
    },
    {
      "cell_type": "markdown",
      "metadata": {
        "id": "Me6yUU_RltqA"
      },
      "source": [
        "## *np.mean()*\n",
        "\n",
        "Returns the average of array elements along the specified axis."
      ]
    },
    {
      "cell_type": "code",
      "execution_count": 16,
      "metadata": {
        "id": "MNEKcP38ltqA",
        "colab": {
          "base_uri": "https://localhost:8080/"
        },
        "outputId": "bd3ce038-cc7a-4635-89ce-5c1adadfffa6"
      },
      "outputs": [
        {
          "output_type": "execute_result",
          "data": {
            "text/plain": [
              "48489.14648578811"
            ]
          },
          "metadata": {},
          "execution_count": 16
        }
      ],
      "source": [
        "np.mean(dataset)"
      ]
    },
    {
      "cell_type": "code",
      "execution_count": 17,
      "metadata": {
        "id": "sekHQ84zltqB",
        "colab": {
          "base_uri": "https://localhost:8080/"
        },
        "outputId": "438e020b-4e13-4e40-9f14-636fee6d6517"
      },
      "outputs": [
        {
          "output_type": "execute_result",
          "data": {
            "text/plain": [
              "array([ 2007.51162791, 44499.41472868, 98960.51310078])"
            ]
          },
          "metadata": {},
          "execution_count": 17
        }
      ],
      "source": [
        "np.mean(dataset, axis = 0)"
      ]
    },
    {
      "cell_type": "code",
      "execution_count": 18,
      "metadata": {
        "id": "RpyETIVSltqC",
        "colab": {
          "base_uri": "https://localhost:8080/"
        },
        "outputId": "7786415e-68f3-42cc-e6f8-765770473cf1"
      },
      "outputs": [
        {
          "output_type": "execute_result",
          "data": {
            "text/plain": [
              "44499.41472868217"
            ]
          },
          "metadata": {},
          "execution_count": 18
        }
      ],
      "source": [
        "np.mean(dataset[:, 1])"
      ]
    },
    {
      "cell_type": "code",
      "execution_count": 19,
      "metadata": {
        "id": "_-kpcTI8ltqD",
        "scrolled": true,
        "colab": {
          "base_uri": "https://localhost:8080/"
        },
        "outputId": "dbcc1fc1-9e8f-4e34-8228-468303fa673a"
      },
      "outputs": [
        {
          "output_type": "execute_result",
          "data": {
            "text/plain": [
              "98960.51310077519"
            ]
          },
          "metadata": {},
          "execution_count": 19
        }
      ],
      "source": [
        "np.mean(dataset[:, 2])"
      ]
    },
    {
      "cell_type": "markdown",
      "metadata": {
        "id": "71jViVBUltqE"
      },
      "source": [
        "## *np.std()*\n",
        "\n",
        "Returns the standard deviation of array elements along the specified axis."
      ]
    },
    {
      "cell_type": "code",
      "execution_count": 20,
      "metadata": {
        "id": "lEwUbPx2ltqE",
        "scrolled": true,
        "colab": {
          "base_uri": "https://localhost:8080/"
        },
        "outputId": "c8eec1bc-5586-45cc-a4c1-6100e8314fdd"
      },
      "outputs": [
        {
          "output_type": "execute_result",
          "data": {
            "text/plain": [
              "29754.101150388564"
            ]
          },
          "metadata": {},
          "execution_count": 20
        }
      ],
      "source": [
        "np.std(dataset[:, 2])"
      ]
    },
    {
      "cell_type": "markdown",
      "metadata": {
        "id": "JTUH-vAeltqG"
      },
      "source": [
        "## *ndarray.sum()*\n",
        "\n",
        "Returns the sum of array elements along the specified axis."
      ]
    },
    {
      "cell_type": "code",
      "execution_count": 24,
      "metadata": {
        "id": "jIi3yoaWltqG",
        "colab": {
          "base_uri": "https://localhost:8080/"
        },
        "outputId": "4b9446fd-54a0-44d0-da40-e4464069a1b5"
      },
      "outputs": [
        {
          "output_type": "execute_result",
          "data": {
            "text/plain": [
              "array([  517938.        , 11480849.        , 25531812.37999999])"
            ]
          },
          "metadata": {},
          "execution_count": 24
        }
      ],
      "source": [
        "dataset.sum(axis = 0)"
      ]
    },
    {
      "cell_type": "code",
      "execution_count": 25,
      "metadata": {
        "id": "X3QYbdYLltqH",
        "colab": {
          "base_uri": "https://localhost:8080/"
        },
        "outputId": "50eb9ea4-886b-480e-b839-7f6f03206f23"
      },
      "outputs": [
        {
          "output_type": "execute_result",
          "data": {
            "text/plain": [
              "11480849.0"
            ]
          },
          "metadata": {},
          "execution_count": 25
        }
      ],
      "source": [
        "dataset[:, 1].sum()"
      ]
    },
    {
      "cell_type": "markdown",
      "metadata": {
        "id": "WbBD5ixaltqH"
      },
      "source": [
        "## *np.sum()*\n",
        "\n",
        "Returns the sum of array elements along the specified axis."
      ]
    },
    {
      "cell_type": "code",
      "execution_count": 26,
      "metadata": {
        "id": "omB6kgWgltqH",
        "colab": {
          "base_uri": "https://localhost:8080/"
        },
        "outputId": "db7907f0-5426-4e59-ff39-d3570667138d"
      },
      "outputs": [
        {
          "output_type": "execute_result",
          "data": {
            "text/plain": [
              "array([  517938.        , 11480849.        , 25531812.37999999])"
            ]
          },
          "metadata": {},
          "execution_count": 26
        }
      ],
      "source": [
        "np.sum(dataset, axis = 0)"
      ]
    },
    {
      "cell_type": "code",
      "execution_count": 27,
      "metadata": {
        "id": "LiD4G3kQltqI",
        "colab": {
          "base_uri": "https://localhost:8080/"
        },
        "outputId": "1ac4615e-7759-4d10-f2a3-178b44c84723"
      },
      "outputs": [
        {
          "output_type": "execute_result",
          "data": {
            "text/plain": [
              "25531812.38"
            ]
          },
          "metadata": {},
          "execution_count": 27
        }
      ],
      "source": [
        "np.sum(dataset[:, 2])"
      ]
    },
    {
      "cell_type": "markdown",
      "source": [
        "### Get the arithmetic mean\n",
        "#### Exercise"
      ],
      "metadata": {
        "id": "zgqmXuXN8P5C"
      }
    },
    {
      "cell_type": "code",
      "source": [
        "ages = np.array([10, 23, 45, 34, 25])"
      ],
      "metadata": {
        "id": "ifLLmNzY8WUJ"
      },
      "execution_count": 30,
      "outputs": []
    },
    {
      "cell_type": "code",
      "source": [
        "np.sum(ages) / ages.size"
      ],
      "metadata": {
        "colab": {
          "base_uri": "https://localhost:8080/"
        },
        "id": "i-ATirDb8Z27",
        "outputId": "ef5b137d-1d12-4523-a77d-d64341edbd91"
      },
      "execution_count": 31,
      "outputs": [
        {
          "output_type": "execute_result",
          "data": {
            "text/plain": [
              "27.4"
            ]
          },
          "metadata": {},
          "execution_count": 31
        }
      ]
    },
    {
      "cell_type": "code",
      "source": [
        "np.mean(ages)"
      ],
      "metadata": {
        "colab": {
          "base_uri": "https://localhost:8080/"
        },
        "id": "A5-EsqtO8gu9",
        "outputId": "fdb33ab9-ddb0-4ee5-c985-0c12359d6ea6"
      },
      "execution_count": 32,
      "outputs": [
        {
          "output_type": "execute_result",
          "data": {
            "text/plain": [
              "27.4"
            ]
          },
          "metadata": {},
          "execution_count": 32
        }
      ]
    },
    {
      "cell_type": "code",
      "source": [
        "ages.mean()"
      ],
      "metadata": {
        "colab": {
          "base_uri": "https://localhost:8080/"
        },
        "id": "NVlLIZqe8kMr",
        "outputId": "0f044597-fb4d-48fe-99db-195d39cb1106"
      },
      "execution_count": 33,
      "outputs": [
        {
          "output_type": "execute_result",
          "data": {
            "text/plain": [
              "27.4"
            ]
          },
          "metadata": {},
          "execution_count": 33
        }
      ]
    }
  ],
  "metadata": {
    "colab": {
      "name": "Python_Data_Science_Numpy.ipynb",
      "provenance": []
    },
    "kernelspec": {
      "display_name": "Python 3",
      "language": "python",
      "name": "python3"
    },
    "language_info": {
      "codemirror_mode": {
        "name": "ipython",
        "version": 3
      },
      "file_extension": ".py",
      "mimetype": "text/x-python",
      "name": "python",
      "nbconvert_exporter": "python",
      "pygments_lexer": "ipython3",
      "version": "3.6.5"
    }
  },
  "nbformat": 4,
  "nbformat_minor": 0
}